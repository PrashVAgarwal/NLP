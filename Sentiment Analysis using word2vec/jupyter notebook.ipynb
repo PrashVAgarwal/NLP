{
  "cells": [
    {
      "cell_type": "markdown",
      "source": [
        "Ran the file on google colab"
      ],
      "metadata": {
        "id": "PaEkCLj5A7x_"
      }
    },
    {
      "cell_type": "markdown",
      "metadata": {
        "id": "C0hvMIYUu5Yv"
      },
      "source": [
        "# 1. Dataset Generation"
      ]
    },
    {
      "cell_type": "code",
      "execution_count": 115,
      "metadata": {
        "id": "FUKMwABi-EcX",
        "colab": {
          "base_uri": "https://localhost:8080/"
        },
        "outputId": "891fa22d-2259-470d-fef7-44a1c998e1ad"
      },
      "outputs": [
        {
          "output_type": "stream",
          "name": "stdout",
          "text": [
            "Looking in indexes: https://pypi.org/simple, https://us-python.pkg.dev/colab-wheels/public/simple/\n",
            "Requirement already satisfied: contractions in /usr/local/lib/python3.7/dist-packages (0.1.72)\n",
            "Requirement already satisfied: textsearch>=0.0.21 in /usr/local/lib/python3.7/dist-packages (from contractions) (0.0.24)\n",
            "Requirement already satisfied: pyahocorasick in /usr/local/lib/python3.7/dist-packages (from textsearch>=0.0.21->contractions) (1.4.4)\n",
            "Requirement already satisfied: anyascii in /usr/local/lib/python3.7/dist-packages (from textsearch>=0.0.21->contractions) (0.3.1)\n"
          ]
        }
      ],
      "source": [
        "!pip install contractions\n",
        "#! pip install bs4"
      ]
    },
    {
      "cell_type": "code",
      "execution_count": 116,
      "metadata": {
        "id": "asm4Xowbvc6D"
      },
      "outputs": [],
      "source": [
        "import pandas as pd\n",
        "import numpy as np\n",
        "# import nltk\n",
        "# nltk.download('wordnet')\n",
        "import re\n",
        "from bs4 import BeautifulSoup\n",
        "import contractions"
      ]
    },
    {
      "cell_type": "markdown",
      "source": [
        "reading just the review body and star rating columns"
      ],
      "metadata": {
        "id": "sxIVN7Dpc4jb"
      }
    },
    {
      "cell_type": "code",
      "execution_count": 4,
      "metadata": {
        "colab": {
          "base_uri": "https://localhost:8080/",
          "height": 0
        },
        "id": "MjD2XadyufaU",
        "outputId": "e64e8dc1-d029-47cf-fed6-4bd142ba6e8c"
      },
      "outputs": [
        {
          "output_type": "stream",
          "name": "stderr",
          "text": [
            "/usr/local/lib/python3.7/dist-packages/IPython/core/interactiveshell.py:3326: DtypeWarning: Columns (7) have mixed types.Specify dtype option on import or set low_memory=False.\n",
            "  exec(code_obj, self.user_global_ns, self.user_ns)\n"
          ]
        }
      ],
      "source": [
        "df = pd.read_csv(\"data.tsv\", usecols = ['star_rating','review_body'], \n",
        "                 sep='\\t', on_bad_lines='skip')"
      ]
    },
    {
      "cell_type": "code",
      "execution_count": 5,
      "metadata": {
        "colab": {
          "base_uri": "https://localhost:8080/",
          "height": 424
        },
        "id": "9amx2hxHwKvp",
        "outputId": "f3fb6c9d-93bb-44a7-c4d4-f3ef9e3c8f13"
      },
      "outputs": [
        {
          "output_type": "execute_result",
          "data": {
            "text/plain": [
              "        star_rating                                        review_body\n",
              "0                 5  so beautiful even tho clearly not high end ......\n",
              "1                 5  Great product.. I got this set for my mother, ...\n",
              "2                 5  Exactly as pictured and my daughter's friend l...\n",
              "3                 5  Love it. Fits great. Super comfortable and nea...\n",
              "4                 5  Got this as a Mother's Day gift for my Mom and...\n",
              "...             ...                                                ...\n",
              "1767046           4  It is nice looking and everything (it is sterl...\n",
              "1767047           4  my boyfriend bought me this last christmas, an...\n",
              "1767048           4  This is a great way to quickly start learning ...\n",
              "1767049           5  the 14kt gold earrings look remarkable...would...\n",
              "1767050           5  It will be a gift to my special friend. We kno...\n",
              "\n",
              "[1767051 rows x 2 columns]"
            ],
            "text/html": [
              "\n",
              "  <div id=\"df-300a7ade-503b-4638-8d9f-226daa2a67bc\">\n",
              "    <div class=\"colab-df-container\">\n",
              "      <div>\n",
              "<style scoped>\n",
              "    .dataframe tbody tr th:only-of-type {\n",
              "        vertical-align: middle;\n",
              "    }\n",
              "\n",
              "    .dataframe tbody tr th {\n",
              "        vertical-align: top;\n",
              "    }\n",
              "\n",
              "    .dataframe thead th {\n",
              "        text-align: right;\n",
              "    }\n",
              "</style>\n",
              "<table border=\"1\" class=\"dataframe\">\n",
              "  <thead>\n",
              "    <tr style=\"text-align: right;\">\n",
              "      <th></th>\n",
              "      <th>star_rating</th>\n",
              "      <th>review_body</th>\n",
              "    </tr>\n",
              "  </thead>\n",
              "  <tbody>\n",
              "    <tr>\n",
              "      <th>0</th>\n",
              "      <td>5</td>\n",
              "      <td>so beautiful even tho clearly not high end ......</td>\n",
              "    </tr>\n",
              "    <tr>\n",
              "      <th>1</th>\n",
              "      <td>5</td>\n",
              "      <td>Great product.. I got this set for my mother, ...</td>\n",
              "    </tr>\n",
              "    <tr>\n",
              "      <th>2</th>\n",
              "      <td>5</td>\n",
              "      <td>Exactly as pictured and my daughter's friend l...</td>\n",
              "    </tr>\n",
              "    <tr>\n",
              "      <th>3</th>\n",
              "      <td>5</td>\n",
              "      <td>Love it. Fits great. Super comfortable and nea...</td>\n",
              "    </tr>\n",
              "    <tr>\n",
              "      <th>4</th>\n",
              "      <td>5</td>\n",
              "      <td>Got this as a Mother's Day gift for my Mom and...</td>\n",
              "    </tr>\n",
              "    <tr>\n",
              "      <th>...</th>\n",
              "      <td>...</td>\n",
              "      <td>...</td>\n",
              "    </tr>\n",
              "    <tr>\n",
              "      <th>1767046</th>\n",
              "      <td>4</td>\n",
              "      <td>It is nice looking and everything (it is sterl...</td>\n",
              "    </tr>\n",
              "    <tr>\n",
              "      <th>1767047</th>\n",
              "      <td>4</td>\n",
              "      <td>my boyfriend bought me this last christmas, an...</td>\n",
              "    </tr>\n",
              "    <tr>\n",
              "      <th>1767048</th>\n",
              "      <td>4</td>\n",
              "      <td>This is a great way to quickly start learning ...</td>\n",
              "    </tr>\n",
              "    <tr>\n",
              "      <th>1767049</th>\n",
              "      <td>5</td>\n",
              "      <td>the 14kt gold earrings look remarkable...would...</td>\n",
              "    </tr>\n",
              "    <tr>\n",
              "      <th>1767050</th>\n",
              "      <td>5</td>\n",
              "      <td>It will be a gift to my special friend. We kno...</td>\n",
              "    </tr>\n",
              "  </tbody>\n",
              "</table>\n",
              "<p>1767051 rows × 2 columns</p>\n",
              "</div>\n",
              "      <button class=\"colab-df-convert\" onclick=\"convertToInteractive('df-300a7ade-503b-4638-8d9f-226daa2a67bc')\"\n",
              "              title=\"Convert this dataframe to an interactive table.\"\n",
              "              style=\"display:none;\">\n",
              "        \n",
              "  <svg xmlns=\"http://www.w3.org/2000/svg\" height=\"24px\"viewBox=\"0 0 24 24\"\n",
              "       width=\"24px\">\n",
              "    <path d=\"M0 0h24v24H0V0z\" fill=\"none\"/>\n",
              "    <path d=\"M18.56 5.44l.94 2.06.94-2.06 2.06-.94-2.06-.94-.94-2.06-.94 2.06-2.06.94zm-11 1L8.5 8.5l.94-2.06 2.06-.94-2.06-.94L8.5 2.5l-.94 2.06-2.06.94zm10 10l.94 2.06.94-2.06 2.06-.94-2.06-.94-.94-2.06-.94 2.06-2.06.94z\"/><path d=\"M17.41 7.96l-1.37-1.37c-.4-.4-.92-.59-1.43-.59-.52 0-1.04.2-1.43.59L10.3 9.45l-7.72 7.72c-.78.78-.78 2.05 0 2.83L4 21.41c.39.39.9.59 1.41.59.51 0 1.02-.2 1.41-.59l7.78-7.78 2.81-2.81c.8-.78.8-2.07 0-2.86zM5.41 20L4 18.59l7.72-7.72 1.47 1.35L5.41 20z\"/>\n",
              "  </svg>\n",
              "      </button>\n",
              "      \n",
              "  <style>\n",
              "    .colab-df-container {\n",
              "      display:flex;\n",
              "      flex-wrap:wrap;\n",
              "      gap: 12px;\n",
              "    }\n",
              "\n",
              "    .colab-df-convert {\n",
              "      background-color: #E8F0FE;\n",
              "      border: none;\n",
              "      border-radius: 50%;\n",
              "      cursor: pointer;\n",
              "      display: none;\n",
              "      fill: #1967D2;\n",
              "      height: 32px;\n",
              "      padding: 0 0 0 0;\n",
              "      width: 32px;\n",
              "    }\n",
              "\n",
              "    .colab-df-convert:hover {\n",
              "      background-color: #E2EBFA;\n",
              "      box-shadow: 0px 1px 2px rgba(60, 64, 67, 0.3), 0px 1px 3px 1px rgba(60, 64, 67, 0.15);\n",
              "      fill: #174EA6;\n",
              "    }\n",
              "\n",
              "    [theme=dark] .colab-df-convert {\n",
              "      background-color: #3B4455;\n",
              "      fill: #D2E3FC;\n",
              "    }\n",
              "\n",
              "    [theme=dark] .colab-df-convert:hover {\n",
              "      background-color: #434B5C;\n",
              "      box-shadow: 0px 1px 3px 1px rgba(0, 0, 0, 0.15);\n",
              "      filter: drop-shadow(0px 1px 2px rgba(0, 0, 0, 0.3));\n",
              "      fill: #FFFFFF;\n",
              "    }\n",
              "  </style>\n",
              "\n",
              "      <script>\n",
              "        const buttonEl =\n",
              "          document.querySelector('#df-300a7ade-503b-4638-8d9f-226daa2a67bc button.colab-df-convert');\n",
              "        buttonEl.style.display =\n",
              "          google.colab.kernel.accessAllowed ? 'block' : 'none';\n",
              "\n",
              "        async function convertToInteractive(key) {\n",
              "          const element = document.querySelector('#df-300a7ade-503b-4638-8d9f-226daa2a67bc');\n",
              "          const dataTable =\n",
              "            await google.colab.kernel.invokeFunction('convertToInteractive',\n",
              "                                                     [key], {});\n",
              "          if (!dataTable) return;\n",
              "\n",
              "          const docLinkHtml = 'Like what you see? Visit the ' +\n",
              "            '<a target=\"_blank\" href=https://colab.research.google.com/notebooks/data_table.ipynb>data table notebook</a>'\n",
              "            + ' to learn more about interactive tables.';\n",
              "          element.innerHTML = '';\n",
              "          dataTable['output_type'] = 'display_data';\n",
              "          await google.colab.output.renderOutput(dataTable, element);\n",
              "          const docLink = document.createElement('div');\n",
              "          docLink.innerHTML = docLinkHtml;\n",
              "          element.appendChild(docLink);\n",
              "        }\n",
              "      </script>\n",
              "    </div>\n",
              "  </div>\n",
              "  "
            ]
          },
          "metadata": {},
          "execution_count": 5
        }
      ],
      "source": [
        "df"
      ]
    },
    {
      "cell_type": "markdown",
      "source": [
        "checking for null values"
      ],
      "metadata": {
        "id": "y6ASakXxc_iz"
      }
    },
    {
      "cell_type": "code",
      "execution_count": 6,
      "metadata": {
        "colab": {
          "base_uri": "https://localhost:8080/",
          "height": 0
        },
        "id": "LpTG4NxmwMl7",
        "outputId": "adf3bfe9-e409-4c49-e6f5-ed865d3801ef"
      },
      "outputs": [
        {
          "output_type": "execute_result",
          "data": {
            "text/plain": [
              "star_rating      9\n",
              "review_body    244\n",
              "dtype: int64"
            ]
          },
          "metadata": {},
          "execution_count": 6
        }
      ],
      "source": [
        "df.isnull().sum()"
      ]
    },
    {
      "cell_type": "markdown",
      "source": [
        "removing the null values"
      ],
      "metadata": {
        "id": "UAnGXxhIdDAF"
      }
    },
    {
      "cell_type": "code",
      "execution_count": 7,
      "metadata": {
        "id": "o0RkrWj8weql"
      },
      "outputs": [],
      "source": [
        "df.dropna(inplace=True)"
      ]
    },
    {
      "cell_type": "code",
      "execution_count": 8,
      "metadata": {
        "colab": {
          "base_uri": "https://localhost:8080/",
          "height": 0
        },
        "id": "SQVZdVHc2moC",
        "outputId": "6efd43ba-f97b-4116-aebb-d344e95e4cef"
      },
      "outputs": [
        {
          "output_type": "execute_result",
          "data": {
            "text/plain": [
              "star_rating    0\n",
              "review_body    0\n",
              "dtype: int64"
            ]
          },
          "metadata": {},
          "execution_count": 8
        }
      ],
      "source": [
        "df.isnull().sum()"
      ]
    },
    {
      "cell_type": "code",
      "execution_count": 9,
      "metadata": {
        "colab": {
          "base_uri": "https://localhost:8080/",
          "height": 0
        },
        "id": "3BSLlzgv2oeR",
        "outputId": "f3a691b4-7e3e-4cec-be0d-be88147fe547"
      },
      "outputs": [
        {
          "output_type": "execute_result",
          "data": {
            "text/plain": [
              "array([5, 1, 4, 3, 2, '5', '1', '3', '4', '2'], dtype=object)"
            ]
          },
          "metadata": {},
          "execution_count": 9
        }
      ],
      "source": [
        "#checking for unique labels in our dataframe\n",
        "df.star_rating.unique()"
      ]
    },
    {
      "cell_type": "code",
      "execution_count": 10,
      "metadata": {
        "colab": {
          "base_uri": "https://localhost:8080/",
          "height": 0
        },
        "id": "RWgp_0vq2ru_",
        "outputId": "45893f78-3e80-4928-a4a3-9d57400ad7c2"
      },
      "outputs": [
        {
          "output_type": "execute_result",
          "data": {
            "text/plain": [
              "5    1040896\n",
              "4     259019\n",
              "3     153660\n",
              "1     150441\n",
              "2      97259\n",
              "5      40015\n",
              "4      11411\n",
              "3       5999\n",
              "1       4566\n",
              "2       3541\n",
              "Name: star_rating, dtype: int64"
            ]
          },
          "metadata": {},
          "execution_count": 10
        }
      ],
      "source": [
        "df.star_rating.value_counts()"
      ]
    },
    {
      "cell_type": "code",
      "execution_count": 11,
      "metadata": {
        "colab": {
          "base_uri": "https://localhost:8080/",
          "height": 0
        },
        "id": "6AAoQ3b33Ce4",
        "outputId": "46f962f3-f6b1-429e-820a-0fd45454982f"
      },
      "outputs": [
        {
          "output_type": "execute_result",
          "data": {
            "text/plain": [
              "star_rating    object\n",
              "review_body    object\n",
              "dtype: object"
            ]
          },
          "metadata": {},
          "execution_count": 11
        }
      ],
      "source": [
        "df.dtypes"
      ]
    },
    {
      "cell_type": "code",
      "execution_count": 12,
      "metadata": {
        "id": "-E1_dfDl3FXG"
      },
      "outputs": [],
      "source": [
        "#converting the columns to required datatypes, integer and string\n",
        "df['star_rating'] = df['star_rating'].astype(int)\n",
        "df['review_body'] = df['review_body'].astype('string')"
      ]
    },
    {
      "cell_type": "code",
      "execution_count": 13,
      "metadata": {
        "colab": {
          "base_uri": "https://localhost:8080/",
          "height": 0
        },
        "id": "tASBNhjQ3H3Z",
        "outputId": "c379d0de-cfc8-4699-bcc6-4e6ea044379c"
      },
      "outputs": [
        {
          "output_type": "execute_result",
          "data": {
            "text/plain": [
              "array([5, 1, 4, 3, 2])"
            ]
          },
          "metadata": {},
          "execution_count": 13
        }
      ],
      "source": [
        "#checking for unique labels again to make sure we have the 5 classes\n",
        "df.star_rating.unique()"
      ]
    },
    {
      "cell_type": "code",
      "execution_count": 14,
      "metadata": {
        "colab": {
          "base_uri": "https://localhost:8080/",
          "height": 0
        },
        "id": "N3b2mdR43JtL",
        "outputId": "f62b2b13-f845-4cc6-f358-0cfa4037c312"
      },
      "outputs": [
        {
          "output_type": "execute_result",
          "data": {
            "text/plain": [
              "5    1080911\n",
              "4     270430\n",
              "3     159659\n",
              "1     155007\n",
              "2     100800\n",
              "Name: star_rating, dtype: int64"
            ]
          },
          "metadata": {},
          "execution_count": 14
        }
      ],
      "source": [
        "df.star_rating.value_counts()"
      ]
    },
    {
      "cell_type": "code",
      "execution_count": 15,
      "metadata": {
        "colab": {
          "base_uri": "https://localhost:8080/",
          "height": 0
        },
        "id": "CK3xEnUF3Lkp",
        "outputId": "ddf6dd9d-df8e-4045-a403-62cd0484e15d"
      },
      "outputs": [
        {
          "output_type": "execute_result",
          "data": {
            "text/plain": [
              "star_rating     int64\n",
              "review_body    string\n",
              "dtype: object"
            ]
          },
          "metadata": {},
          "execution_count": 15
        }
      ],
      "source": [
        "df.dtypes"
      ]
    },
    {
      "cell_type": "code",
      "execution_count": 16,
      "metadata": {
        "colab": {
          "base_uri": "https://localhost:8080/",
          "height": 0
        },
        "id": "uZICs0QRKpGw",
        "outputId": "f7f4985e-9269-457b-bb03-b31d1c6b77e6"
      },
      "outputs": [
        {
          "output_type": "execute_result",
          "data": {
            "text/plain": [
              "0"
            ]
          },
          "metadata": {},
          "execution_count": 16
        }
      ],
      "source": [
        "#checking for empty reviews before cleaning \n",
        "c=0\n",
        "for i in df['review_body']:\n",
        "  if i == '':\n",
        "    c+=1\n",
        "c"
      ]
    },
    {
      "cell_type": "markdown",
      "metadata": {
        "id": "bdnYW1mX_duT"
      },
      "source": [
        "cleaning the data"
      ]
    },
    {
      "cell_type": "code",
      "execution_count": 17,
      "metadata": {
        "id": "n6jFHlq53WXn"
      },
      "outputs": [],
      "source": [
        "df['review_body'] = df['review_body'].str.lower()"
      ]
    },
    {
      "cell_type": "code",
      "execution_count": 18,
      "metadata": {
        "id": "-t4A-qnx9HOP"
      },
      "outputs": [],
      "source": [
        "def clean(row):\n",
        "    \n",
        "\n",
        "    soup = BeautifulSoup(row.review_body, \"html.parser\")\n",
        "\n",
        "    #this extracts all the text from the document and removes html tags\n",
        "    text1 = soup.get_text(' ')\n",
        "    \n",
        "    #removing any urls\n",
        "    text2 = re.sub(r'http\\S+', '', text1)\n",
        "    #ftext = re.sub(r'^https?:\\/\\/.*[\\r\\n]*', '', text)\n",
        "\n",
        "    #performing contractions\n",
        "    text3 = contractions.fix(text2)\n",
        "\n",
        "    #removing non-alphabetic characters\n",
        "    regex = re.compile('[^a-zA-Z ]')\n",
        "    text4 = regex.sub('', text3)\n",
        "    \n",
        "\n",
        "    #removing extra white spaces\n",
        "    text5 = re.sub(' +', ' ',  text4)\n",
        "\n",
        "    row.review_body = text5\n",
        "\n",
        "    return row"
      ]
    },
    {
      "cell_type": "code",
      "execution_count": 19,
      "metadata": {
        "colab": {
          "base_uri": "https://localhost:8080/",
          "height": 0
        },
        "id": "lHlIm-Gx93r9",
        "outputId": "7d732163-a512-49b7-f8e2-d19b09cae637"
      },
      "outputs": [
        {
          "output_type": "stream",
          "name": "stderr",
          "text": [
            "/usr/local/lib/python3.7/dist-packages/bs4/__init__.py:336: UserWarning: \"http://www.amazon.com/review/creata-review?ie=utf8&asin=b010xgqugs\" looks like a URL. Beautiful Soup is not an HTTP client. You should probably use an HTTP client like requests to get the document behind the URL, and feed that document to Beautiful Soup.\n",
            "  ' that document to Beautiful Soup.' % decoded_markup\n",
            "/usr/local/lib/python3.7/dist-packages/bs4/__init__.py:336: UserWarning: \"https://www.amazon.com/review/create-review?ie=utf8&asin=b010xgqugs\" looks like a URL. Beautiful Soup is not an HTTP client. You should probably use an HTTP client like requests to get the document behind the URL, and feed that document to Beautiful Soup.\n",
            "  ' that document to Beautiful Soup.' % decoded_markup\n",
            "/usr/local/lib/python3.7/dist-packages/bs4/__init__.py:336: UserWarning: \"https://www.amazon.com/review/review-your-purchases/ref=oh_aui_rev_shipment_o00_s00?_encoding=utf8&asins=b01444jlxe&channel=yacc-wr#\" looks like a URL. Beautiful Soup is not an HTTP client. You should probably use an HTTP client like requests to get the document behind the URL, and feed that document to Beautiful Soup.\n",
            "  ' that document to Beautiful Soup.' % decoded_markup\n",
            "/usr/local/lib/python3.7/dist-packages/bs4/__init__.py:336: UserWarning: \"https://www.amazon.com/review/review-your-purchases/ref=pe_259730_144232530_cm_1_img?_encoding=utf8&asins=b00mand1yw&channel=ec_sft&crauthtoken=gbyfce0y80lijky6eqjb2apfm2iizb3lihevj6oaaaadaaaaafw1ffnyyxcaaaaa&customerid=a34lf5jz8ht63a#\" looks like a URL. Beautiful Soup is not an HTTP client. You should probably use an HTTP client like requests to get the document behind the URL, and feed that document to Beautiful Soup.\n",
            "  ' that document to Beautiful Soup.' % decoded_markup\n",
            "/usr/local/lib/python3.7/dist-packages/bs4/__init__.py:336: UserWarning: \"http://www.lls.org/pages/ky/soyky/joppelt\" looks like a URL. Beautiful Soup is not an HTTP client. You should probably use an HTTP client like requests to get the document behind the URL, and feed that document to Beautiful Soup.\n",
            "  ' that document to Beautiful Soup.' % decoded_markup\n",
            "/usr/local/lib/python3.7/dist-packages/bs4/__init__.py:273: UserWarning: \"b'.'\" looks like a filename, not markup. You should probably open this file and pass the filehandle into Beautiful Soup.\n",
            "  ' Beautiful Soup.' % markup)\n",
            "/usr/local/lib/python3.7/dist-packages/bs4/__init__.py:336: UserWarning: \"http://www.earringsbychristina.com/store/p4/antique_brass_gold_swarovski_heart_diffuser_necklace.html\" looks like a URL. Beautiful Soup is not an HTTP client. You should probably use an HTTP client like requests to get the document behind the URL, and feed that document to Beautiful Soup.\n",
            "  ' that document to Beautiful Soup.' % decoded_markup\n",
            "/usr/local/lib/python3.7/dist-packages/bs4/__init__.py:336: UserWarning: \"http://www.amazon.com/indian-agate-buddha-energy-bracelet/dp/b0067dw1m4/ref=pd_sbs_jw_38?ie=utf8&refrid=0e45g54qnpxg5jcj1tw7\" looks like a URL. Beautiful Soup is not an HTTP client. You should probably use an HTTP client like requests to get the document behind the URL, and feed that document to Beautiful Soup.\n",
            "  ' that document to Beautiful Soup.' % decoded_markup\n",
            "/usr/local/lib/python3.7/dist-packages/bs4/__init__.py:336: UserWarning: \"http://smile.amazon.com/gp/product/b003zg1t6u/ref=cm_cr_ryp_prd_ttl_sol_20\" looks like a URL. Beautiful Soup is not an HTTP client. You should probably use an HTTP client like requests to get the document behind the URL, and feed that document to Beautiful Soup.\n",
            "  ' that document to Beautiful Soup.' % decoded_markup\n"
          ]
        }
      ],
      "source": [
        "df = df.apply(clean, axis='columns')"
      ]
    },
    {
      "cell_type": "code",
      "execution_count": 20,
      "metadata": {
        "colab": {
          "base_uri": "https://localhost:8080/",
          "height": 0
        },
        "id": "uxtu9LYbUriZ",
        "outputId": "1bfce41f-4abc-4bea-e445-206e109098dd"
      },
      "outputs": [
        {
          "output_type": "execute_result",
          "data": {
            "text/plain": [
              "1132"
            ]
          },
          "metadata": {},
          "execution_count": 20
        }
      ],
      "source": [
        "#checking for empty reviews after cleaning\n",
        "c=0\n",
        "for i in df['review_body']:\n",
        "  if i == '':\n",
        "    c+=1\n",
        "c"
      ]
    },
    {
      "cell_type": "code",
      "execution_count": 21,
      "metadata": {
        "id": "KyiJ1IjLUnQp"
      },
      "outputs": [],
      "source": [
        "#replacing empty reiews with nan value\n",
        "df.replace(r'^\\s*$', np.nan, regex=True, inplace=True)"
      ]
    },
    {
      "cell_type": "code",
      "execution_count": 22,
      "metadata": {
        "colab": {
          "base_uri": "https://localhost:8080/",
          "height": 0
        },
        "id": "S5gMBiG6UnYx",
        "outputId": "f2995bbb-40b9-4116-87a8-784a5bc25255"
      },
      "outputs": [
        {
          "output_type": "execute_result",
          "data": {
            "text/plain": [
              "star_rating       0\n",
              "review_body    1178\n",
              "dtype: int64"
            ]
          },
          "metadata": {},
          "execution_count": 22
        }
      ],
      "source": [
        "df.isnull().sum()"
      ]
    },
    {
      "cell_type": "code",
      "execution_count": 23,
      "metadata": {
        "id": "deHBQ1Z1Umdy"
      },
      "outputs": [],
      "source": [
        "#removing reviews with nan value\n",
        "df.dropna(inplace=True)"
      ]
    },
    {
      "cell_type": "code",
      "execution_count": 24,
      "metadata": {
        "colab": {
          "base_uri": "https://localhost:8080/",
          "height": 424
        },
        "id": "Y4Eag27fAGs4",
        "outputId": "8de142d7-4182-4a2e-f025-934c390fafee"
      },
      "outputs": [
        {
          "output_type": "execute_result",
          "data": {
            "text/plain": [
              "         star_rating                                        review_body\n",
              "0                  5  so beautiful even though clearly not high end ...\n",
              "1                  5  great product i got this set for my mother as ...\n",
              "2                  5  exactly as pictured and my daughters friend lo...\n",
              "3                  5  love it fits great super comfortable and neat ...\n",
              "4                  5  got this as a mothers day gift for my mom and ...\n",
              "...              ...                                                ...\n",
              "1767046            4  it is nice looking and everything it is sterli...\n",
              "1767047            4  my boyfriend bought me this last christmas and...\n",
              "1767048            4  this is a great way to quickly start learning ...\n",
              "1767049            5  the kt gold earrings look remarkablewould defi...\n",
              "1767050            5  it will be a gift to my special friend we know...\n",
              "\n",
              "[1765629 rows x 2 columns]"
            ],
            "text/html": [
              "\n",
              "  <div id=\"df-cb8dbb91-938d-400f-8dde-4ec09bd77d08\">\n",
              "    <div class=\"colab-df-container\">\n",
              "      <div>\n",
              "<style scoped>\n",
              "    .dataframe tbody tr th:only-of-type {\n",
              "        vertical-align: middle;\n",
              "    }\n",
              "\n",
              "    .dataframe tbody tr th {\n",
              "        vertical-align: top;\n",
              "    }\n",
              "\n",
              "    .dataframe thead th {\n",
              "        text-align: right;\n",
              "    }\n",
              "</style>\n",
              "<table border=\"1\" class=\"dataframe\">\n",
              "  <thead>\n",
              "    <tr style=\"text-align: right;\">\n",
              "      <th></th>\n",
              "      <th>star_rating</th>\n",
              "      <th>review_body</th>\n",
              "    </tr>\n",
              "  </thead>\n",
              "  <tbody>\n",
              "    <tr>\n",
              "      <th>0</th>\n",
              "      <td>5</td>\n",
              "      <td>so beautiful even though clearly not high end ...</td>\n",
              "    </tr>\n",
              "    <tr>\n",
              "      <th>1</th>\n",
              "      <td>5</td>\n",
              "      <td>great product i got this set for my mother as ...</td>\n",
              "    </tr>\n",
              "    <tr>\n",
              "      <th>2</th>\n",
              "      <td>5</td>\n",
              "      <td>exactly as pictured and my daughters friend lo...</td>\n",
              "    </tr>\n",
              "    <tr>\n",
              "      <th>3</th>\n",
              "      <td>5</td>\n",
              "      <td>love it fits great super comfortable and neat ...</td>\n",
              "    </tr>\n",
              "    <tr>\n",
              "      <th>4</th>\n",
              "      <td>5</td>\n",
              "      <td>got this as a mothers day gift for my mom and ...</td>\n",
              "    </tr>\n",
              "    <tr>\n",
              "      <th>...</th>\n",
              "      <td>...</td>\n",
              "      <td>...</td>\n",
              "    </tr>\n",
              "    <tr>\n",
              "      <th>1767046</th>\n",
              "      <td>4</td>\n",
              "      <td>it is nice looking and everything it is sterli...</td>\n",
              "    </tr>\n",
              "    <tr>\n",
              "      <th>1767047</th>\n",
              "      <td>4</td>\n",
              "      <td>my boyfriend bought me this last christmas and...</td>\n",
              "    </tr>\n",
              "    <tr>\n",
              "      <th>1767048</th>\n",
              "      <td>4</td>\n",
              "      <td>this is a great way to quickly start learning ...</td>\n",
              "    </tr>\n",
              "    <tr>\n",
              "      <th>1767049</th>\n",
              "      <td>5</td>\n",
              "      <td>the kt gold earrings look remarkablewould defi...</td>\n",
              "    </tr>\n",
              "    <tr>\n",
              "      <th>1767050</th>\n",
              "      <td>5</td>\n",
              "      <td>it will be a gift to my special friend we know...</td>\n",
              "    </tr>\n",
              "  </tbody>\n",
              "</table>\n",
              "<p>1765629 rows × 2 columns</p>\n",
              "</div>\n",
              "      <button class=\"colab-df-convert\" onclick=\"convertToInteractive('df-cb8dbb91-938d-400f-8dde-4ec09bd77d08')\"\n",
              "              title=\"Convert this dataframe to an interactive table.\"\n",
              "              style=\"display:none;\">\n",
              "        \n",
              "  <svg xmlns=\"http://www.w3.org/2000/svg\" height=\"24px\"viewBox=\"0 0 24 24\"\n",
              "       width=\"24px\">\n",
              "    <path d=\"M0 0h24v24H0V0z\" fill=\"none\"/>\n",
              "    <path d=\"M18.56 5.44l.94 2.06.94-2.06 2.06-.94-2.06-.94-.94-2.06-.94 2.06-2.06.94zm-11 1L8.5 8.5l.94-2.06 2.06-.94-2.06-.94L8.5 2.5l-.94 2.06-2.06.94zm10 10l.94 2.06.94-2.06 2.06-.94-2.06-.94-.94-2.06-.94 2.06-2.06.94z\"/><path d=\"M17.41 7.96l-1.37-1.37c-.4-.4-.92-.59-1.43-.59-.52 0-1.04.2-1.43.59L10.3 9.45l-7.72 7.72c-.78.78-.78 2.05 0 2.83L4 21.41c.39.39.9.59 1.41.59.51 0 1.02-.2 1.41-.59l7.78-7.78 2.81-2.81c.8-.78.8-2.07 0-2.86zM5.41 20L4 18.59l7.72-7.72 1.47 1.35L5.41 20z\"/>\n",
              "  </svg>\n",
              "      </button>\n",
              "      \n",
              "  <style>\n",
              "    .colab-df-container {\n",
              "      display:flex;\n",
              "      flex-wrap:wrap;\n",
              "      gap: 12px;\n",
              "    }\n",
              "\n",
              "    .colab-df-convert {\n",
              "      background-color: #E8F0FE;\n",
              "      border: none;\n",
              "      border-radius: 50%;\n",
              "      cursor: pointer;\n",
              "      display: none;\n",
              "      fill: #1967D2;\n",
              "      height: 32px;\n",
              "      padding: 0 0 0 0;\n",
              "      width: 32px;\n",
              "    }\n",
              "\n",
              "    .colab-df-convert:hover {\n",
              "      background-color: #E2EBFA;\n",
              "      box-shadow: 0px 1px 2px rgba(60, 64, 67, 0.3), 0px 1px 3px 1px rgba(60, 64, 67, 0.15);\n",
              "      fill: #174EA6;\n",
              "    }\n",
              "\n",
              "    [theme=dark] .colab-df-convert {\n",
              "      background-color: #3B4455;\n",
              "      fill: #D2E3FC;\n",
              "    }\n",
              "\n",
              "    [theme=dark] .colab-df-convert:hover {\n",
              "      background-color: #434B5C;\n",
              "      box-shadow: 0px 1px 3px 1px rgba(0, 0, 0, 0.15);\n",
              "      filter: drop-shadow(0px 1px 2px rgba(0, 0, 0, 0.3));\n",
              "      fill: #FFFFFF;\n",
              "    }\n",
              "  </style>\n",
              "\n",
              "      <script>\n",
              "        const buttonEl =\n",
              "          document.querySelector('#df-cb8dbb91-938d-400f-8dde-4ec09bd77d08 button.colab-df-convert');\n",
              "        buttonEl.style.display =\n",
              "          google.colab.kernel.accessAllowed ? 'block' : 'none';\n",
              "\n",
              "        async function convertToInteractive(key) {\n",
              "          const element = document.querySelector('#df-cb8dbb91-938d-400f-8dde-4ec09bd77d08');\n",
              "          const dataTable =\n",
              "            await google.colab.kernel.invokeFunction('convertToInteractive',\n",
              "                                                     [key], {});\n",
              "          if (!dataTable) return;\n",
              "\n",
              "          const docLinkHtml = 'Like what you see? Visit the ' +\n",
              "            '<a target=\"_blank\" href=https://colab.research.google.com/notebooks/data_table.ipynb>data table notebook</a>'\n",
              "            + ' to learn more about interactive tables.';\n",
              "          element.innerHTML = '';\n",
              "          dataTable['output_type'] = 'display_data';\n",
              "          await google.colab.output.renderOutput(dataTable, element);\n",
              "          const docLink = document.createElement('div');\n",
              "          docLink.innerHTML = docLinkHtml;\n",
              "          element.appendChild(docLink);\n",
              "        }\n",
              "      </script>\n",
              "    </div>\n",
              "  </div>\n",
              "  "
            ]
          },
          "metadata": {},
          "execution_count": 24
        }
      ],
      "source": [
        "df"
      ]
    },
    {
      "cell_type": "markdown",
      "metadata": {
        "id": "jGfIZbuP_ao8"
      },
      "source": [
        "shuffling the rows"
      ]
    },
    {
      "cell_type": "code",
      "execution_count": 25,
      "metadata": {
        "colab": {
          "base_uri": "https://localhost:8080/",
          "height": 424
        },
        "id": "bT1J8lj__cQu",
        "outputId": "fb2171ad-0e77-41ae-b139-b39f8a0540f9"
      },
      "outputs": [
        {
          "output_type": "execute_result",
          "data": {
            "text/plain": [
              "         star_rating                                        review_body\n",
              "0                  5  just received this ring as a replacement for m...\n",
              "1                  5  these do run a bit small originally ordered th...\n",
              "2                  1  these are not well made and look much better o...\n",
              "3                  4  brautiful earings only thing the picture made ...\n",
              "4                  5                                          beautiful\n",
              "...              ...                                                ...\n",
              "1765624            5  this was a christmas present from my husband i...\n",
              "1765625            5  this combo always appears very much in style a...\n",
              "1765626            5  not bad could be dangerously sharp on neck and...\n",
              "1765627            5  nice looking ring very happy fits a little snu...\n",
              "1765628            5  it is cheap but it looks pretty nice on my finger\n",
              "\n",
              "[1765629 rows x 2 columns]"
            ],
            "text/html": [
              "\n",
              "  <div id=\"df-ba1feb29-63fc-4355-89d6-1e8245ce1a56\">\n",
              "    <div class=\"colab-df-container\">\n",
              "      <div>\n",
              "<style scoped>\n",
              "    .dataframe tbody tr th:only-of-type {\n",
              "        vertical-align: middle;\n",
              "    }\n",
              "\n",
              "    .dataframe tbody tr th {\n",
              "        vertical-align: top;\n",
              "    }\n",
              "\n",
              "    .dataframe thead th {\n",
              "        text-align: right;\n",
              "    }\n",
              "</style>\n",
              "<table border=\"1\" class=\"dataframe\">\n",
              "  <thead>\n",
              "    <tr style=\"text-align: right;\">\n",
              "      <th></th>\n",
              "      <th>star_rating</th>\n",
              "      <th>review_body</th>\n",
              "    </tr>\n",
              "  </thead>\n",
              "  <tbody>\n",
              "    <tr>\n",
              "      <th>0</th>\n",
              "      <td>5</td>\n",
              "      <td>just received this ring as a replacement for m...</td>\n",
              "    </tr>\n",
              "    <tr>\n",
              "      <th>1</th>\n",
              "      <td>5</td>\n",
              "      <td>these do run a bit small originally ordered th...</td>\n",
              "    </tr>\n",
              "    <tr>\n",
              "      <th>2</th>\n",
              "      <td>1</td>\n",
              "      <td>these are not well made and look much better o...</td>\n",
              "    </tr>\n",
              "    <tr>\n",
              "      <th>3</th>\n",
              "      <td>4</td>\n",
              "      <td>brautiful earings only thing the picture made ...</td>\n",
              "    </tr>\n",
              "    <tr>\n",
              "      <th>4</th>\n",
              "      <td>5</td>\n",
              "      <td>beautiful</td>\n",
              "    </tr>\n",
              "    <tr>\n",
              "      <th>...</th>\n",
              "      <td>...</td>\n",
              "      <td>...</td>\n",
              "    </tr>\n",
              "    <tr>\n",
              "      <th>1765624</th>\n",
              "      <td>5</td>\n",
              "      <td>this was a christmas present from my husband i...</td>\n",
              "    </tr>\n",
              "    <tr>\n",
              "      <th>1765625</th>\n",
              "      <td>5</td>\n",
              "      <td>this combo always appears very much in style a...</td>\n",
              "    </tr>\n",
              "    <tr>\n",
              "      <th>1765626</th>\n",
              "      <td>5</td>\n",
              "      <td>not bad could be dangerously sharp on neck and...</td>\n",
              "    </tr>\n",
              "    <tr>\n",
              "      <th>1765627</th>\n",
              "      <td>5</td>\n",
              "      <td>nice looking ring very happy fits a little snu...</td>\n",
              "    </tr>\n",
              "    <tr>\n",
              "      <th>1765628</th>\n",
              "      <td>5</td>\n",
              "      <td>it is cheap but it looks pretty nice on my finger</td>\n",
              "    </tr>\n",
              "  </tbody>\n",
              "</table>\n",
              "<p>1765629 rows × 2 columns</p>\n",
              "</div>\n",
              "      <button class=\"colab-df-convert\" onclick=\"convertToInteractive('df-ba1feb29-63fc-4355-89d6-1e8245ce1a56')\"\n",
              "              title=\"Convert this dataframe to an interactive table.\"\n",
              "              style=\"display:none;\">\n",
              "        \n",
              "  <svg xmlns=\"http://www.w3.org/2000/svg\" height=\"24px\"viewBox=\"0 0 24 24\"\n",
              "       width=\"24px\">\n",
              "    <path d=\"M0 0h24v24H0V0z\" fill=\"none\"/>\n",
              "    <path d=\"M18.56 5.44l.94 2.06.94-2.06 2.06-.94-2.06-.94-.94-2.06-.94 2.06-2.06.94zm-11 1L8.5 8.5l.94-2.06 2.06-.94-2.06-.94L8.5 2.5l-.94 2.06-2.06.94zm10 10l.94 2.06.94-2.06 2.06-.94-2.06-.94-.94-2.06-.94 2.06-2.06.94z\"/><path d=\"M17.41 7.96l-1.37-1.37c-.4-.4-.92-.59-1.43-.59-.52 0-1.04.2-1.43.59L10.3 9.45l-7.72 7.72c-.78.78-.78 2.05 0 2.83L4 21.41c.39.39.9.59 1.41.59.51 0 1.02-.2 1.41-.59l7.78-7.78 2.81-2.81c.8-.78.8-2.07 0-2.86zM5.41 20L4 18.59l7.72-7.72 1.47 1.35L5.41 20z\"/>\n",
              "  </svg>\n",
              "      </button>\n",
              "      \n",
              "  <style>\n",
              "    .colab-df-container {\n",
              "      display:flex;\n",
              "      flex-wrap:wrap;\n",
              "      gap: 12px;\n",
              "    }\n",
              "\n",
              "    .colab-df-convert {\n",
              "      background-color: #E8F0FE;\n",
              "      border: none;\n",
              "      border-radius: 50%;\n",
              "      cursor: pointer;\n",
              "      display: none;\n",
              "      fill: #1967D2;\n",
              "      height: 32px;\n",
              "      padding: 0 0 0 0;\n",
              "      width: 32px;\n",
              "    }\n",
              "\n",
              "    .colab-df-convert:hover {\n",
              "      background-color: #E2EBFA;\n",
              "      box-shadow: 0px 1px 2px rgba(60, 64, 67, 0.3), 0px 1px 3px 1px rgba(60, 64, 67, 0.15);\n",
              "      fill: #174EA6;\n",
              "    }\n",
              "\n",
              "    [theme=dark] .colab-df-convert {\n",
              "      background-color: #3B4455;\n",
              "      fill: #D2E3FC;\n",
              "    }\n",
              "\n",
              "    [theme=dark] .colab-df-convert:hover {\n",
              "      background-color: #434B5C;\n",
              "      box-shadow: 0px 1px 3px 1px rgba(0, 0, 0, 0.15);\n",
              "      filter: drop-shadow(0px 1px 2px rgba(0, 0, 0, 0.3));\n",
              "      fill: #FFFFFF;\n",
              "    }\n",
              "  </style>\n",
              "\n",
              "      <script>\n",
              "        const buttonEl =\n",
              "          document.querySelector('#df-ba1feb29-63fc-4355-89d6-1e8245ce1a56 button.colab-df-convert');\n",
              "        buttonEl.style.display =\n",
              "          google.colab.kernel.accessAllowed ? 'block' : 'none';\n",
              "\n",
              "        async function convertToInteractive(key) {\n",
              "          const element = document.querySelector('#df-ba1feb29-63fc-4355-89d6-1e8245ce1a56');\n",
              "          const dataTable =\n",
              "            await google.colab.kernel.invokeFunction('convertToInteractive',\n",
              "                                                     [key], {});\n",
              "          if (!dataTable) return;\n",
              "\n",
              "          const docLinkHtml = 'Like what you see? Visit the ' +\n",
              "            '<a target=\"_blank\" href=https://colab.research.google.com/notebooks/data_table.ipynb>data table notebook</a>'\n",
              "            + ' to learn more about interactive tables.';\n",
              "          element.innerHTML = '';\n",
              "          dataTable['output_type'] = 'display_data';\n",
              "          await google.colab.output.renderOutput(dataTable, element);\n",
              "          const docLink = document.createElement('div');\n",
              "          docLink.innerHTML = docLinkHtml;\n",
              "          element.appendChild(docLink);\n",
              "        }\n",
              "      </script>\n",
              "    </div>\n",
              "  </div>\n",
              "  "
            ]
          },
          "metadata": {},
          "execution_count": 25
        }
      ],
      "source": [
        "df = df.sample(frac=1).reset_index(drop=True)\n",
        "df"
      ]
    },
    {
      "cell_type": "markdown",
      "metadata": {
        "id": "9-Bp42H5_jdl"
      },
      "source": [
        "selecting 20000 reviews randomly from each rating class."
      ]
    },
    {
      "cell_type": "code",
      "execution_count": 26,
      "metadata": {
        "id": "49VyabFU_f4w"
      },
      "outputs": [],
      "source": [
        "s1 = df[df.star_rating.eq(1)].sample(20000)\n",
        "s2 = df[df.star_rating.eq(2)].sample(20000)\n",
        "s3 = df[df.star_rating.eq(3)].sample(20000)\n",
        "s4 = df[df.star_rating.eq(4)].sample(20000)\n",
        "s5 = df[df.star_rating.eq(5)].sample(20000)"
      ]
    },
    {
      "cell_type": "code",
      "execution_count": 27,
      "metadata": {
        "id": "1dqKIfxM_o1Q"
      },
      "outputs": [],
      "source": [
        "newdf = pd.concat([s1,s2,s3,s4,s5], ignore_index=True)"
      ]
    },
    {
      "cell_type": "code",
      "execution_count": 28,
      "metadata": {
        "colab": {
          "base_uri": "https://localhost:8080/",
          "height": 424
        },
        "id": "68FNiOmZ_rR1",
        "outputId": "5fae0310-358c-406a-d2cc-104b28f65c15"
      },
      "outputs": [
        {
          "output_type": "execute_result",
          "data": {
            "text/plain": [
              "       star_rating                                        review_body\n",
              "0                1  pretty sure this ring is make out of plastic i...\n",
              "1                1  a full inch less in fact i returned this chain...\n",
              "2                1  they were too small even for a baby i regret b...\n",
              "3                1  nice looking chain nice thickness but after we...\n",
              "4                1  a good friend purchased this bracelet for me i...\n",
              "...            ...                                                ...\n",
              "99995            5                   great deal for look of rose gold\n",
              "99996            5             beautiful pendant but chain was broken\n",
              "99997            5  very nice chain for the price it looks very sp...\n",
              "99998            5                            love it best gift ever \n",
              "99999            5  this is really a cute bracelet it looks great ...\n",
              "\n",
              "[100000 rows x 2 columns]"
            ],
            "text/html": [
              "\n",
              "  <div id=\"df-642bdc3f-d92d-445b-8db5-3bba6352a7e2\">\n",
              "    <div class=\"colab-df-container\">\n",
              "      <div>\n",
              "<style scoped>\n",
              "    .dataframe tbody tr th:only-of-type {\n",
              "        vertical-align: middle;\n",
              "    }\n",
              "\n",
              "    .dataframe tbody tr th {\n",
              "        vertical-align: top;\n",
              "    }\n",
              "\n",
              "    .dataframe thead th {\n",
              "        text-align: right;\n",
              "    }\n",
              "</style>\n",
              "<table border=\"1\" class=\"dataframe\">\n",
              "  <thead>\n",
              "    <tr style=\"text-align: right;\">\n",
              "      <th></th>\n",
              "      <th>star_rating</th>\n",
              "      <th>review_body</th>\n",
              "    </tr>\n",
              "  </thead>\n",
              "  <tbody>\n",
              "    <tr>\n",
              "      <th>0</th>\n",
              "      <td>1</td>\n",
              "      <td>pretty sure this ring is make out of plastic i...</td>\n",
              "    </tr>\n",
              "    <tr>\n",
              "      <th>1</th>\n",
              "      <td>1</td>\n",
              "      <td>a full inch less in fact i returned this chain...</td>\n",
              "    </tr>\n",
              "    <tr>\n",
              "      <th>2</th>\n",
              "      <td>1</td>\n",
              "      <td>they were too small even for a baby i regret b...</td>\n",
              "    </tr>\n",
              "    <tr>\n",
              "      <th>3</th>\n",
              "      <td>1</td>\n",
              "      <td>nice looking chain nice thickness but after we...</td>\n",
              "    </tr>\n",
              "    <tr>\n",
              "      <th>4</th>\n",
              "      <td>1</td>\n",
              "      <td>a good friend purchased this bracelet for me i...</td>\n",
              "    </tr>\n",
              "    <tr>\n",
              "      <th>...</th>\n",
              "      <td>...</td>\n",
              "      <td>...</td>\n",
              "    </tr>\n",
              "    <tr>\n",
              "      <th>99995</th>\n",
              "      <td>5</td>\n",
              "      <td>great deal for look of rose gold</td>\n",
              "    </tr>\n",
              "    <tr>\n",
              "      <th>99996</th>\n",
              "      <td>5</td>\n",
              "      <td>beautiful pendant but chain was broken</td>\n",
              "    </tr>\n",
              "    <tr>\n",
              "      <th>99997</th>\n",
              "      <td>5</td>\n",
              "      <td>very nice chain for the price it looks very sp...</td>\n",
              "    </tr>\n",
              "    <tr>\n",
              "      <th>99998</th>\n",
              "      <td>5</td>\n",
              "      <td>love it best gift ever</td>\n",
              "    </tr>\n",
              "    <tr>\n",
              "      <th>99999</th>\n",
              "      <td>5</td>\n",
              "      <td>this is really a cute bracelet it looks great ...</td>\n",
              "    </tr>\n",
              "  </tbody>\n",
              "</table>\n",
              "<p>100000 rows × 2 columns</p>\n",
              "</div>\n",
              "      <button class=\"colab-df-convert\" onclick=\"convertToInteractive('df-642bdc3f-d92d-445b-8db5-3bba6352a7e2')\"\n",
              "              title=\"Convert this dataframe to an interactive table.\"\n",
              "              style=\"display:none;\">\n",
              "        \n",
              "  <svg xmlns=\"http://www.w3.org/2000/svg\" height=\"24px\"viewBox=\"0 0 24 24\"\n",
              "       width=\"24px\">\n",
              "    <path d=\"M0 0h24v24H0V0z\" fill=\"none\"/>\n",
              "    <path d=\"M18.56 5.44l.94 2.06.94-2.06 2.06-.94-2.06-.94-.94-2.06-.94 2.06-2.06.94zm-11 1L8.5 8.5l.94-2.06 2.06-.94-2.06-.94L8.5 2.5l-.94 2.06-2.06.94zm10 10l.94 2.06.94-2.06 2.06-.94-2.06-.94-.94-2.06-.94 2.06-2.06.94z\"/><path d=\"M17.41 7.96l-1.37-1.37c-.4-.4-.92-.59-1.43-.59-.52 0-1.04.2-1.43.59L10.3 9.45l-7.72 7.72c-.78.78-.78 2.05 0 2.83L4 21.41c.39.39.9.59 1.41.59.51 0 1.02-.2 1.41-.59l7.78-7.78 2.81-2.81c.8-.78.8-2.07 0-2.86zM5.41 20L4 18.59l7.72-7.72 1.47 1.35L5.41 20z\"/>\n",
              "  </svg>\n",
              "      </button>\n",
              "      \n",
              "  <style>\n",
              "    .colab-df-container {\n",
              "      display:flex;\n",
              "      flex-wrap:wrap;\n",
              "      gap: 12px;\n",
              "    }\n",
              "\n",
              "    .colab-df-convert {\n",
              "      background-color: #E8F0FE;\n",
              "      border: none;\n",
              "      border-radius: 50%;\n",
              "      cursor: pointer;\n",
              "      display: none;\n",
              "      fill: #1967D2;\n",
              "      height: 32px;\n",
              "      padding: 0 0 0 0;\n",
              "      width: 32px;\n",
              "    }\n",
              "\n",
              "    .colab-df-convert:hover {\n",
              "      background-color: #E2EBFA;\n",
              "      box-shadow: 0px 1px 2px rgba(60, 64, 67, 0.3), 0px 1px 3px 1px rgba(60, 64, 67, 0.15);\n",
              "      fill: #174EA6;\n",
              "    }\n",
              "\n",
              "    [theme=dark] .colab-df-convert {\n",
              "      background-color: #3B4455;\n",
              "      fill: #D2E3FC;\n",
              "    }\n",
              "\n",
              "    [theme=dark] .colab-df-convert:hover {\n",
              "      background-color: #434B5C;\n",
              "      box-shadow: 0px 1px 3px 1px rgba(0, 0, 0, 0.15);\n",
              "      filter: drop-shadow(0px 1px 2px rgba(0, 0, 0, 0.3));\n",
              "      fill: #FFFFFF;\n",
              "    }\n",
              "  </style>\n",
              "\n",
              "      <script>\n",
              "        const buttonEl =\n",
              "          document.querySelector('#df-642bdc3f-d92d-445b-8db5-3bba6352a7e2 button.colab-df-convert');\n",
              "        buttonEl.style.display =\n",
              "          google.colab.kernel.accessAllowed ? 'block' : 'none';\n",
              "\n",
              "        async function convertToInteractive(key) {\n",
              "          const element = document.querySelector('#df-642bdc3f-d92d-445b-8db5-3bba6352a7e2');\n",
              "          const dataTable =\n",
              "            await google.colab.kernel.invokeFunction('convertToInteractive',\n",
              "                                                     [key], {});\n",
              "          if (!dataTable) return;\n",
              "\n",
              "          const docLinkHtml = 'Like what you see? Visit the ' +\n",
              "            '<a target=\"_blank\" href=https://colab.research.google.com/notebooks/data_table.ipynb>data table notebook</a>'\n",
              "            + ' to learn more about interactive tables.';\n",
              "          element.innerHTML = '';\n",
              "          dataTable['output_type'] = 'display_data';\n",
              "          await google.colab.output.renderOutput(dataTable, element);\n",
              "          const docLink = document.createElement('div');\n",
              "          docLink.innerHTML = docLinkHtml;\n",
              "          element.appendChild(docLink);\n",
              "        }\n",
              "      </script>\n",
              "    </div>\n",
              "  </div>\n",
              "  "
            ]
          },
          "metadata": {},
          "execution_count": 28
        }
      ],
      "source": [
        "newdf"
      ]
    },
    {
      "cell_type": "code",
      "execution_count": 29,
      "metadata": {
        "colab": {
          "base_uri": "https://localhost:8080/",
          "height": 0
        },
        "id": "UH-AS5y2CBNw",
        "outputId": "ae128c49-75dd-4e2e-c021-9eb7a8f3328d"
      },
      "outputs": [
        {
          "output_type": "execute_result",
          "data": {
            "text/plain": [
              "1    20000\n",
              "2    20000\n",
              "3    20000\n",
              "4    20000\n",
              "5    20000\n",
              "Name: star_rating, dtype: int64"
            ]
          },
          "metadata": {},
          "execution_count": 29
        }
      ],
      "source": [
        "newdf.star_rating.value_counts()"
      ]
    },
    {
      "cell_type": "code",
      "execution_count": 30,
      "metadata": {
        "colab": {
          "base_uri": "https://localhost:8080/",
          "height": 0
        },
        "id": "M0YCTQY3GhBe",
        "outputId": "70d58a35-5e20-4389-c13a-e95d97c2d484"
      },
      "outputs": [
        {
          "output_type": "execute_result",
          "data": {
            "text/plain": [
              "star_rating    0\n",
              "review_body    0\n",
              "dtype: int64"
            ]
          },
          "metadata": {},
          "execution_count": 30
        }
      ],
      "source": [
        "newdf.isnull().sum()"
      ]
    },
    {
      "cell_type": "code",
      "execution_count": 31,
      "metadata": {
        "colab": {
          "base_uri": "https://localhost:8080/",
          "height": 0
        },
        "id": "x3wlmlTvJXvi",
        "outputId": "ec10b2ed-8f4a-480f-8653-e507f9ff53c8"
      },
      "outputs": [
        {
          "output_type": "execute_result",
          "data": {
            "text/plain": [
              "0"
            ]
          },
          "metadata": {},
          "execution_count": 31
        }
      ],
      "source": [
        "c=0\n",
        "for i in newdf['review_body']:\n",
        "  if i=='':\n",
        "    c+=1\n",
        "c"
      ]
    },
    {
      "cell_type": "markdown",
      "source": [
        "Saving the cleaned data so we can load it and use directly later on."
      ],
      "metadata": {
        "id": "M2o17ojufzwe"
      }
    },
    {
      "cell_type": "code",
      "execution_count": 32,
      "metadata": {
        "id": "wkCuClLxCFD6"
      },
      "outputs": [],
      "source": [
        "newdf.to_csv(\"cleaneddata.csv\", index=False)"
      ]
    },
    {
      "cell_type": "markdown",
      "source": [
        "# Restart from here if the system crashes"
      ],
      "metadata": {
        "id": "xNJ7ZXKEKfn_"
      }
    },
    {
      "cell_type": "markdown",
      "metadata": {
        "id": "1Jppjp2_Vco6"
      },
      "source": [
        "loading saved cleaned data"
      ]
    },
    {
      "cell_type": "code",
      "source": [
        "import pandas as pd\n",
        "import numpy as np"
      ],
      "metadata": {
        "id": "eOQ-j4RgKvYJ"
      },
      "execution_count": 117,
      "outputs": []
    },
    {
      "cell_type": "code",
      "execution_count": 2,
      "metadata": {
        "colab": {
          "base_uri": "https://localhost:8080/",
          "height": 424
        },
        "id": "6h3gotx2XObH",
        "outputId": "b3fb4c98-2764-4711-c12c-fa74f21259db"
      },
      "outputs": [
        {
          "output_type": "execute_result",
          "data": {
            "text/plain": [
              "       star_rating                                        review_body\n",
              "0                1  pretty sure this ring is make out of plastic i...\n",
              "1                1  a full inch less in fact i returned this chain...\n",
              "2                1  they were too small even for a baby i regret b...\n",
              "3                1  nice looking chain nice thickness but after we...\n",
              "4                1  a good friend purchased this bracelet for me i...\n",
              "...            ...                                                ...\n",
              "99995            5                   great deal for look of rose gold\n",
              "99996            5             beautiful pendant but chain was broken\n",
              "99997            5  very nice chain for the price it looks very sp...\n",
              "99998            5                            love it best gift ever \n",
              "99999            5  this is really a cute bracelet it looks great ...\n",
              "\n",
              "[100000 rows x 2 columns]"
            ],
            "text/html": [
              "\n",
              "  <div id=\"df-f2efb8a8-1007-4575-92ca-41b254130bfc\">\n",
              "    <div class=\"colab-df-container\">\n",
              "      <div>\n",
              "<style scoped>\n",
              "    .dataframe tbody tr th:only-of-type {\n",
              "        vertical-align: middle;\n",
              "    }\n",
              "\n",
              "    .dataframe tbody tr th {\n",
              "        vertical-align: top;\n",
              "    }\n",
              "\n",
              "    .dataframe thead th {\n",
              "        text-align: right;\n",
              "    }\n",
              "</style>\n",
              "<table border=\"1\" class=\"dataframe\">\n",
              "  <thead>\n",
              "    <tr style=\"text-align: right;\">\n",
              "      <th></th>\n",
              "      <th>star_rating</th>\n",
              "      <th>review_body</th>\n",
              "    </tr>\n",
              "  </thead>\n",
              "  <tbody>\n",
              "    <tr>\n",
              "      <th>0</th>\n",
              "      <td>1</td>\n",
              "      <td>pretty sure this ring is make out of plastic i...</td>\n",
              "    </tr>\n",
              "    <tr>\n",
              "      <th>1</th>\n",
              "      <td>1</td>\n",
              "      <td>a full inch less in fact i returned this chain...</td>\n",
              "    </tr>\n",
              "    <tr>\n",
              "      <th>2</th>\n",
              "      <td>1</td>\n",
              "      <td>they were too small even for a baby i regret b...</td>\n",
              "    </tr>\n",
              "    <tr>\n",
              "      <th>3</th>\n",
              "      <td>1</td>\n",
              "      <td>nice looking chain nice thickness but after we...</td>\n",
              "    </tr>\n",
              "    <tr>\n",
              "      <th>4</th>\n",
              "      <td>1</td>\n",
              "      <td>a good friend purchased this bracelet for me i...</td>\n",
              "    </tr>\n",
              "    <tr>\n",
              "      <th>...</th>\n",
              "      <td>...</td>\n",
              "      <td>...</td>\n",
              "    </tr>\n",
              "    <tr>\n",
              "      <th>99995</th>\n",
              "      <td>5</td>\n",
              "      <td>great deal for look of rose gold</td>\n",
              "    </tr>\n",
              "    <tr>\n",
              "      <th>99996</th>\n",
              "      <td>5</td>\n",
              "      <td>beautiful pendant but chain was broken</td>\n",
              "    </tr>\n",
              "    <tr>\n",
              "      <th>99997</th>\n",
              "      <td>5</td>\n",
              "      <td>very nice chain for the price it looks very sp...</td>\n",
              "    </tr>\n",
              "    <tr>\n",
              "      <th>99998</th>\n",
              "      <td>5</td>\n",
              "      <td>love it best gift ever</td>\n",
              "    </tr>\n",
              "    <tr>\n",
              "      <th>99999</th>\n",
              "      <td>5</td>\n",
              "      <td>this is really a cute bracelet it looks great ...</td>\n",
              "    </tr>\n",
              "  </tbody>\n",
              "</table>\n",
              "<p>100000 rows × 2 columns</p>\n",
              "</div>\n",
              "      <button class=\"colab-df-convert\" onclick=\"convertToInteractive('df-f2efb8a8-1007-4575-92ca-41b254130bfc')\"\n",
              "              title=\"Convert this dataframe to an interactive table.\"\n",
              "              style=\"display:none;\">\n",
              "        \n",
              "  <svg xmlns=\"http://www.w3.org/2000/svg\" height=\"24px\"viewBox=\"0 0 24 24\"\n",
              "       width=\"24px\">\n",
              "    <path d=\"M0 0h24v24H0V0z\" fill=\"none\"/>\n",
              "    <path d=\"M18.56 5.44l.94 2.06.94-2.06 2.06-.94-2.06-.94-.94-2.06-.94 2.06-2.06.94zm-11 1L8.5 8.5l.94-2.06 2.06-.94-2.06-.94L8.5 2.5l-.94 2.06-2.06.94zm10 10l.94 2.06.94-2.06 2.06-.94-2.06-.94-.94-2.06-.94 2.06-2.06.94z\"/><path d=\"M17.41 7.96l-1.37-1.37c-.4-.4-.92-.59-1.43-.59-.52 0-1.04.2-1.43.59L10.3 9.45l-7.72 7.72c-.78.78-.78 2.05 0 2.83L4 21.41c.39.39.9.59 1.41.59.51 0 1.02-.2 1.41-.59l7.78-7.78 2.81-2.81c.8-.78.8-2.07 0-2.86zM5.41 20L4 18.59l7.72-7.72 1.47 1.35L5.41 20z\"/>\n",
              "  </svg>\n",
              "      </button>\n",
              "      \n",
              "  <style>\n",
              "    .colab-df-container {\n",
              "      display:flex;\n",
              "      flex-wrap:wrap;\n",
              "      gap: 12px;\n",
              "    }\n",
              "\n",
              "    .colab-df-convert {\n",
              "      background-color: #E8F0FE;\n",
              "      border: none;\n",
              "      border-radius: 50%;\n",
              "      cursor: pointer;\n",
              "      display: none;\n",
              "      fill: #1967D2;\n",
              "      height: 32px;\n",
              "      padding: 0 0 0 0;\n",
              "      width: 32px;\n",
              "    }\n",
              "\n",
              "    .colab-df-convert:hover {\n",
              "      background-color: #E2EBFA;\n",
              "      box-shadow: 0px 1px 2px rgba(60, 64, 67, 0.3), 0px 1px 3px 1px rgba(60, 64, 67, 0.15);\n",
              "      fill: #174EA6;\n",
              "    }\n",
              "\n",
              "    [theme=dark] .colab-df-convert {\n",
              "      background-color: #3B4455;\n",
              "      fill: #D2E3FC;\n",
              "    }\n",
              "\n",
              "    [theme=dark] .colab-df-convert:hover {\n",
              "      background-color: #434B5C;\n",
              "      box-shadow: 0px 1px 3px 1px rgba(0, 0, 0, 0.15);\n",
              "      filter: drop-shadow(0px 1px 2px rgba(0, 0, 0, 0.3));\n",
              "      fill: #FFFFFF;\n",
              "    }\n",
              "  </style>\n",
              "\n",
              "      <script>\n",
              "        const buttonEl =\n",
              "          document.querySelector('#df-f2efb8a8-1007-4575-92ca-41b254130bfc button.colab-df-convert');\n",
              "        buttonEl.style.display =\n",
              "          google.colab.kernel.accessAllowed ? 'block' : 'none';\n",
              "\n",
              "        async function convertToInteractive(key) {\n",
              "          const element = document.querySelector('#df-f2efb8a8-1007-4575-92ca-41b254130bfc');\n",
              "          const dataTable =\n",
              "            await google.colab.kernel.invokeFunction('convertToInteractive',\n",
              "                                                     [key], {});\n",
              "          if (!dataTable) return;\n",
              "\n",
              "          const docLinkHtml = 'Like what you see? Visit the ' +\n",
              "            '<a target=\"_blank\" href=https://colab.research.google.com/notebooks/data_table.ipynb>data table notebook</a>'\n",
              "            + ' to learn more about interactive tables.';\n",
              "          element.innerHTML = '';\n",
              "          dataTable['output_type'] = 'display_data';\n",
              "          await google.colab.output.renderOutput(dataTable, element);\n",
              "          const docLink = document.createElement('div');\n",
              "          docLink.innerHTML = docLinkHtml;\n",
              "          element.appendChild(docLink);\n",
              "        }\n",
              "      </script>\n",
              "    </div>\n",
              "  </div>\n",
              "  "
            ]
          },
          "metadata": {},
          "execution_count": 2
        }
      ],
      "source": [
        "newdf = pd.read_csv(\"cleaneddata.csv\")\n",
        "#newdf = newdf[['star_rating','review_body']]\n",
        "newdf"
      ]
    },
    {
      "cell_type": "code",
      "execution_count": 55,
      "metadata": {
        "colab": {
          "base_uri": "https://localhost:8080/",
          "height": 0
        },
        "id": "L0-ljlkyEaaG",
        "outputId": "65acec2f-ccec-4714-ade0-b3a7a5b0df5b"
      },
      "outputs": [
        {
          "output_type": "execute_result",
          "data": {
            "text/plain": [
              "star_rating    0\n",
              "review_body    0\n",
              "dtype: int64"
            ]
          },
          "metadata": {},
          "execution_count": 55
        }
      ],
      "source": [
        "newdf.isnull().sum()"
      ]
    },
    {
      "cell_type": "markdown",
      "metadata": {
        "id": "yayjaaFYECL4"
      },
      "source": [
        "# 2. Word Embeddings"
      ]
    },
    {
      "cell_type": "markdown",
      "source": [
        "upgrading gensim and loading the word2vec api"
      ],
      "metadata": {
        "id": "sGLNIHWNgAY1"
      }
    },
    {
      "cell_type": "code",
      "source": [
        "!pip install --upgrade gensim"
      ],
      "metadata": {
        "id": "sMhc_dqt9UgG",
        "colab": {
          "base_uri": "https://localhost:8080/"
        },
        "outputId": "05af58ff-8fc4-4765-d2c0-ecc9e0891518"
      },
      "execution_count": 118,
      "outputs": [
        {
          "output_type": "stream",
          "name": "stdout",
          "text": [
            "Looking in indexes: https://pypi.org/simple, https://us-python.pkg.dev/colab-wheels/public/simple/\n",
            "Requirement already satisfied: gensim in /usr/local/lib/python3.7/dist-packages (4.2.0)\n",
            "Requirement already satisfied: scipy>=0.18.1 in /usr/local/lib/python3.7/dist-packages (from gensim) (1.7.3)\n",
            "Requirement already satisfied: numpy>=1.17.0 in /usr/local/lib/python3.7/dist-packages (from gensim) (1.21.6)\n",
            "Requirement already satisfied: smart-open>=1.8.1 in /usr/local/lib/python3.7/dist-packages (from gensim) (5.2.1)\n"
          ]
        }
      ]
    },
    {
      "cell_type": "code",
      "source": [
        "import gensim.models\n",
        "import gensim.downloader as api\n",
        "wv = api.load('word2vec-google-news-300')"
      ],
      "metadata": {
        "id": "QzJFlJuRK5Mp"
      },
      "execution_count": 119,
      "outputs": []
    },
    {
      "cell_type": "code",
      "source": [
        "#splitting each review into individual words\n",
        "newdf['review_body'] = newdf['review_body'].str.split()\n",
        "newdf['review_body']\n",
        "\n",
        "#saving the splitted reviews in a list\n",
        "sentences = newdf['review_body'].tolist()\n",
        "#sentences"
      ],
      "metadata": {
        "id": "q0ubrZNiHP-o"
      },
      "execution_count": 7,
      "outputs": []
    },
    {
      "cell_type": "code",
      "execution_count": 8,
      "metadata": {
        "colab": {
          "base_uri": "https://localhost:8080/",
          "height": 0
        },
        "id": "e-J1VmBld4T5",
        "outputId": "8868bf0b-11a1-45b9-c751-5819deb63dec"
      },
      "outputs": [
        {
          "output_type": "execute_result",
          "data": {
            "text/plain": [
              "(300,)"
            ]
          },
          "metadata": {},
          "execution_count": 8
        }
      ],
      "source": [
        "#confirming the shape of word2vec vectors\n",
        "wv['king'].shape"
      ]
    },
    {
      "cell_type": "code",
      "execution_count": 9,
      "metadata": {
        "id": "QwDz8dVaD9lJ"
      },
      "outputs": [],
      "source": [
        "#a=np.zeros(300)"
      ]
    },
    {
      "cell_type": "code",
      "execution_count": 10,
      "metadata": {
        "id": "JcSYYhF_EAqB"
      },
      "outputs": [],
      "source": [
        "#a.shape"
      ]
    },
    {
      "cell_type": "markdown",
      "source": [
        "# 2 (a)"
      ],
      "metadata": {
        "id": "GThIgftKh6os"
      }
    },
    {
      "cell_type": "code",
      "execution_count": 11,
      "metadata": {
        "id": "NfLdtbh4AiFT",
        "colab": {
          "base_uri": "https://localhost:8080/",
          "height": 0
        },
        "outputId": "34ffc4d2-2593-4004-d519-366f30bca323"
      },
      "outputs": [
        {
          "output_type": "execute_result",
          "data": {
            "text/plain": [
              "array([-1.46484375e-02,  3.29589844e-02,  1.81640625e-01, -5.61523438e-02,\n",
              "       -2.69531250e-01,  1.58203125e-01,  3.24218750e-01, -4.63867188e-03,\n",
              "        4.49218750e-02,  1.63085938e-01,  2.47802734e-02, -1.91650391e-02,\n",
              "       -1.10839844e-01, -1.02539062e-01,  7.91015625e-02,  9.22851562e-02,\n",
              "        1.13281250e-01,  9.13085938e-02, -8.30078125e-02,  9.08203125e-02,\n",
              "        7.17773438e-02,  2.26562500e-01,  5.54687500e-01, -1.08398438e-01,\n",
              "        1.77734375e-01,  1.68457031e-02,  1.16210938e-01, -2.97851562e-02,\n",
              "        3.47656250e-01, -1.66015625e-01,  1.19140625e-01,  1.82617188e-01,\n",
              "       -1.23901367e-02, -1.00097656e-01,  2.71484375e-01,  4.73022461e-03,\n",
              "        8.78906250e-02,  9.37500000e-02, -1.08886719e-01, -1.33789062e-01,\n",
              "        2.21679688e-01,  4.27246094e-03,  1.70898438e-01,  1.27929688e-01,\n",
              "        1.02539062e-01, -3.67187500e-01, -1.06445312e-01, -1.57226562e-01,\n",
              "       -2.69531250e-01, -9.52148438e-02,  6.39648438e-02, -6.00585938e-02,\n",
              "       -5.37109375e-02,  4.66308594e-02,  1.42578125e-01,  1.00585938e-01,\n",
              "        3.32031250e-02,  1.14746094e-02,  2.59765625e-01, -4.66308594e-02,\n",
              "        1.43432617e-03,  1.96533203e-02, -2.42187500e-01, -1.74804688e-01,\n",
              "        5.39550781e-02, -3.96484375e-01, -1.14746094e-01, -1.58691406e-02,\n",
              "        2.55126953e-02,  2.36328125e-01,  2.73437500e-01, -3.34472656e-02,\n",
              "        1.25976562e-01,  1.35742188e-01, -3.76953125e-01,  8.30078125e-02,\n",
              "       -5.76171875e-02, -1.39648438e-01,  1.48437500e-01,  5.56640625e-02,\n",
              "       -2.51953125e-01,  3.16406250e-01,  2.52685547e-02,  2.75390625e-01,\n",
              "       -9.57031250e-02, -2.18750000e-01, -2.59765625e-01,  3.02734375e-01,\n",
              "       -8.10546875e-02,  1.60156250e-01, -6.64062500e-02,  1.55273438e-01,\n",
              "        1.04003906e-01,  1.73828125e-01, -9.96093750e-02,  7.71484375e-02,\n",
              "       -5.68847656e-02,  3.50952148e-04, -6.90460205e-04,  6.29882812e-02,\n",
              "        6.88476562e-02,  1.02050781e-01,  2.10937500e-01,  1.22558594e-01,\n",
              "        1.54296875e-01,  2.50000000e-01,  2.30468750e-01, -2.36328125e-01,\n",
              "        2.13867188e-01, -3.16406250e-01, -6.68945312e-02, -6.34765625e-02,\n",
              "        7.12890625e-02,  2.25585938e-01,  1.38671875e-01, -2.63671875e-01,\n",
              "        2.49023438e-01, -4.33593750e-01,  2.03857422e-02, -1.82617188e-01,\n",
              "        5.20019531e-02, -1.56250000e-01, -9.81445312e-02, -1.86523438e-01,\n",
              "       -1.83593750e-01, -2.27539062e-01, -2.01171875e-01, -1.16577148e-02,\n",
              "       -1.37695312e-01, -3.47656250e-01, -2.26562500e-01, -4.22363281e-02,\n",
              "       -1.78222656e-02,  7.66601562e-02, -1.65039062e-01, -6.59179688e-02,\n",
              "       -1.30859375e-01,  5.07812500e-01,  2.11181641e-02,  2.46093750e-01,\n",
              "        1.90429688e-02,  1.22558594e-01,  6.54296875e-02,  2.41699219e-02,\n",
              "       -2.11914062e-01,  3.44238281e-02, -1.71875000e-01,  6.54296875e-02,\n",
              "        1.18164062e-01, -1.14257812e-01, -2.57873535e-03,  1.63085938e-01,\n",
              "        2.29492188e-01,  3.05175781e-03, -6.03027344e-02,  2.23388672e-02,\n",
              "        1.18652344e-01, -8.88671875e-02, -3.96484375e-01,  5.34667969e-02,\n",
              "       -4.90722656e-02, -6.44531250e-02,  2.06054688e-01,  2.36816406e-02,\n",
              "        1.28906250e-01, -3.35937500e-01,  1.11816406e-01,  4.05273438e-02,\n",
              "        1.48437500e-01,  1.24511719e-01, -2.07031250e-01,  8.91113281e-03,\n",
              "        7.51953125e-02, -8.49609375e-02, -1.02539062e-02, -1.81640625e-01,\n",
              "        2.48046875e-01, -1.32812500e-01,  2.50244141e-02, -1.23535156e-01,\n",
              "        1.78710938e-01,  9.37500000e-02,  1.45507812e-01,  3.84765625e-01,\n",
              "       -3.20312500e-01,  1.45507812e-01, -5.15136719e-02, -4.66308594e-02,\n",
              "       -1.21582031e-01, -1.21593475e-04,  4.32128906e-02,  1.58691406e-02,\n",
              "       -6.49414062e-02, -1.64062500e-01,  3.20312500e-01,  1.00585938e-01,\n",
              "        8.98437500e-02,  1.76757812e-01, -6.98242188e-02,  9.08203125e-02,\n",
              "       -3.20312500e-01,  2.29492188e-01, -1.98974609e-02, -3.10546875e-01,\n",
              "        1.66992188e-01, -1.58203125e-01, -2.24609375e-01,  8.69140625e-02,\n",
              "       -1.03515625e-01,  2.75390625e-01,  2.51953125e-01,  2.37304688e-01,\n",
              "        1.74804688e-01, -2.65625000e-01, -2.08984375e-01, -3.29589844e-03,\n",
              "        1.36718750e-01, -1.63085938e-01, -9.86328125e-02, -6.88476562e-02,\n",
              "       -1.79687500e-01,  3.69262695e-03, -1.62109375e-01,  3.30078125e-01,\n",
              "        4.19921875e-02, -3.14453125e-01,  2.42919922e-02, -2.06054688e-01,\n",
              "       -9.96093750e-02,  1.96533203e-02,  1.86523438e-01,  1.66992188e-01,\n",
              "        3.06396484e-02, -2.43164062e-01,  1.55273438e-01,  1.66015625e-01,\n",
              "        1.36718750e-01, -3.10058594e-02,  1.42578125e-01,  6.44531250e-02,\n",
              "        1.37695312e-01,  1.57226562e-01,  2.10937500e-01, -8.30078125e-03,\n",
              "       -2.41210938e-01, -6.88476562e-02, -1.25976562e-01,  1.03027344e-01,\n",
              "       -2.12890625e-01, -1.29882812e-01,  6.17675781e-02,  2.42187500e-01,\n",
              "        7.71484375e-02,  4.46777344e-02,  1.72851562e-01, -1.21093750e-01,\n",
              "        1.91406250e-01,  9.32617188e-02,  2.33154297e-02, -3.24218750e-01,\n",
              "       -1.06933594e-01,  8.34960938e-02,  1.17675781e-01,  1.33789062e-01,\n",
              "        1.30859375e-01,  2.75390625e-01,  3.54003906e-02, -7.27539062e-02,\n",
              "        1.73828125e-01, -1.31835938e-01, -6.44531250e-02,  1.46484375e-01,\n",
              "        2.25830078e-02,  1.93359375e-01, -1.11328125e-01, -4.00390625e-01,\n",
              "        5.17578125e-02, -1.64062500e-01, -1.16699219e-01,  3.06640625e-01,\n",
              "       -6.59179688e-02, -5.37109375e-02, -2.89062500e-01, -8.30078125e-02,\n",
              "        7.17773438e-02,  1.60156250e-01,  4.51660156e-02, -1.69921875e-01,\n",
              "        8.93554688e-02, -1.22070312e-01,  1.18164062e-01, -2.04101562e-01,\n",
              "        3.19824219e-02,  7.17773438e-02, -1.16210938e-01, -2.42187500e-01,\n",
              "       -4.37500000e-01,  6.98242188e-02,  1.62109375e-01, -1.59179688e-01],\n",
              "      dtype=float32)"
            ]
          },
          "metadata": {},
          "execution_count": 11
        }
      ],
      "source": [
        "wv['dissappointed']"
      ]
    },
    {
      "cell_type": "code",
      "execution_count": 12,
      "metadata": {
        "colab": {
          "base_uri": "https://localhost:8080/",
          "height": 0
        },
        "id": "RuFg1r16gL-w",
        "outputId": "ee9ae155-6a65-487f-f58d-30abcb913d38"
      },
      "outputs": [
        {
          "output_type": "execute_result",
          "data": {
            "text/plain": [
              "0.6510957"
            ]
          },
          "metadata": {},
          "execution_count": 12
        }
      ],
      "source": [
        "wv.similarity('king', 'queen')"
      ]
    },
    {
      "cell_type": "code",
      "source": [
        "wv.similarity('awesome','nice')"
      ],
      "metadata": {
        "colab": {
          "base_uri": "https://localhost:8080/",
          "height": 0
        },
        "id": "3dWGDzrwkoM1",
        "outputId": "c90d1c9a-d59e-4776-8a48-423befb03e72"
      },
      "execution_count": 13,
      "outputs": [
        {
          "output_type": "execute_result",
          "data": {
            "text/plain": [
              "0.6404187"
            ]
          },
          "metadata": {},
          "execution_count": 13
        }
      ]
    },
    {
      "cell_type": "code",
      "source": [
        "wv.similarity('bad','useless')"
      ],
      "metadata": {
        "colab": {
          "base_uri": "https://localhost:8080/",
          "height": 0
        },
        "id": "jiy0rULHLWyV",
        "outputId": "c42e0213-bc76-46bd-9364-af536a9b4d83"
      },
      "execution_count": 15,
      "outputs": [
        {
          "output_type": "execute_result",
          "data": {
            "text/plain": [
              "0.32079965"
            ]
          },
          "metadata": {},
          "execution_count": 15
        }
      ]
    },
    {
      "cell_type": "code",
      "source": [
        "wv.similarity('best','worst')"
      ],
      "metadata": {
        "colab": {
          "base_uri": "https://localhost:8080/",
          "height": 0
        },
        "id": "cfr3H6R3LoAH",
        "outputId": "4ef1d6c1-a7e1-4b24-9ced-19d62d7256a8"
      },
      "execution_count": 19,
      "outputs": [
        {
          "output_type": "execute_result",
          "data": {
            "text/plain": [
              "0.58351105"
            ]
          },
          "metadata": {},
          "execution_count": 19
        }
      ]
    },
    {
      "cell_type": "code",
      "execution_count": 16,
      "metadata": {
        "colab": {
          "base_uri": "https://localhost:8080/",
          "height": 0
        },
        "id": "9MISzYmoRodP",
        "outputId": "1a7412d9-c59a-4fc1-ef25-a069204664d0"
      },
      "outputs": [
        {
          "output_type": "execute_result",
          "data": {
            "text/plain": [
              "[('terrific', 0.8015964031219482),\n",
              " ('fantastic', 0.7995432615280151),\n",
              " ('wonderful', 0.7832685708999634),\n",
              " ('good', 0.7787696719169617),\n",
              " ('awesome', 0.7119093537330627)]"
            ]
          },
          "metadata": {},
          "execution_count": 16
        }
      ],
      "source": [
        "wv.most_similar(positive=['great', 'nice'], topn=5)"
      ]
    },
    {
      "cell_type": "code",
      "execution_count": 17,
      "metadata": {
        "colab": {
          "base_uri": "https://localhost:8080/",
          "height": 0
        },
        "id": "VF-edpX6WEwG",
        "outputId": "7549ba15-e2fb-42e9-8c62-783b1234e847"
      },
      "outputs": [
        {
          "output_type": "execute_result",
          "data": {
            "text/plain": [
              "[('terrible', 0.5714249610900879),\n",
              " ('Bad', 0.5631329417228699),\n",
              " ('horrible', 0.5500000715255737),\n",
              " ('coulda_shoulda_woulda', 0.5419288873672485),\n",
              " ('lousy', 0.5275474190711975)]"
            ]
          },
          "metadata": {},
          "execution_count": 17
        }
      ],
      "source": [
        "wv.most_similar(positive=['good', 'bad'], negative=['excellent'], topn=5)"
      ]
    },
    {
      "cell_type": "code",
      "execution_count": 18,
      "metadata": {
        "colab": {
          "base_uri": "https://localhost:8080/",
          "height": 35
        },
        "id": "9SwoEEm60byl",
        "outputId": "911f6a1a-3429-410c-f6df-99ca90e0dca6"
      },
      "outputs": [
        {
          "output_type": "execute_result",
          "data": {
            "text/plain": [
              "'watch'"
            ],
            "application/vnd.google.colaboratory.intrinsic+json": {
              "type": "string"
            }
          },
          "metadata": {},
          "execution_count": 18
        }
      ],
      "source": [
        "wv.doesnt_match(['shorts', 'shirt', 'watch', 'pant', 'shoes', 'hankerchief'])"
      ]
    },
    {
      "cell_type": "code",
      "execution_count": null,
      "metadata": {
        "colab": {
          "base_uri": "https://localhost:8080/"
        },
        "id": "pq565jYX8Bob",
        "outputId": "7086b794-7bf5-4026-85c0-f6daf8816f5b"
      },
      "outputs": [
        {
          "output_type": "execute_result",
          "data": {
            "text/plain": [
              "0        [i, was, disaapointed, on, how, small, the, cr...\n",
              "1        [nothing, like, the, picture, its, dingy, and,...\n",
              "2        [the, butterfly, is, red, and, purple, not, pi...\n",
              "3        [the, picture, is, accurate, but, causes, the,...\n",
              "4                                            [they, broke]\n",
              "                               ...                        \n",
              "99995    [i, loved, it, it, was, just, like, the, pictu...\n",
              "99996    [i, must, have, purchased, this, after, the, g...\n",
              "99997    [these, pearl, earrings, are, a, perfect, size...\n",
              "99998    [bought, these, as, a, family, inspirational, ...\n",
              "99999                               [simple, and, refined]\n",
              "Name: review_body, Length: 100000, dtype: object"
            ]
          },
          "metadata": {},
          "execution_count": 7
        }
      ],
      "source": [
        "# newdf['review_body'] = newdf['review_body'].str.split()\n",
        "# newdf['review_body']"
      ]
    },
    {
      "cell_type": "code",
      "execution_count": null,
      "metadata": {
        "colab": {
          "base_uri": "https://localhost:8080/"
        },
        "id": "GHUicvjmERaW",
        "outputId": "6a51dd18-4b21-4f02-9d8e-9d8ccfaedbc1"
      },
      "outputs": [
        {
          "output_type": "execute_result",
          "data": {
            "text/plain": [
              "star_rating    0\n",
              "review_body    0\n",
              "dtype: int64"
            ]
          },
          "metadata": {},
          "execution_count": 8
        }
      ],
      "source": [
        "# newdf.isnull().sum()"
      ]
    },
    {
      "cell_type": "code",
      "execution_count": null,
      "metadata": {
        "id": "IIsSrKCo1AgI"
      },
      "outputs": [],
      "source": [
        "# import gensim.models\n",
        "\n",
        "# sentences = newdf['review_body'].tolist()\n",
        "# sentences\n"
      ]
    },
    {
      "cell_type": "code",
      "execution_count": null,
      "metadata": {
        "colab": {
          "base_uri": "https://localhost:8080/"
        },
        "id": "vF-r9qn2ANox",
        "outputId": "40ee7379-c6c7-448d-a043-08de8dbab9d0"
      },
      "outputs": [
        {
          "data": {
            "text/plain": [
              "str"
            ]
          },
          "execution_count": 39,
          "metadata": {},
          "output_type": "execute_result"
        }
      ],
      "source": [
        "# type(sentences[99][7])"
      ]
    },
    {
      "cell_type": "code",
      "execution_count": null,
      "metadata": {
        "id": "6gcKkAR4D3jG"
      },
      "outputs": [],
      "source": [
        "# sentences[4040:4050]"
      ]
    },
    {
      "cell_type": "code",
      "execution_count": null,
      "metadata": {
        "id": "16zeJkTsDdGF"
      },
      "outputs": [],
      "source": [
        "# k=sentences[:4050]"
      ]
    },
    {
      "cell_type": "markdown",
      "source": [
        "# 2 (b)"
      ],
      "metadata": {
        "id": "_L-NN7C7irlD"
      }
    },
    {
      "cell_type": "code",
      "execution_count": 20,
      "metadata": {
        "id": "QyeRmHkF-aAq"
      },
      "outputs": [],
      "source": [
        "model = gensim.models.Word2Vec(sentences=sentences, vector_size=300, window=11, min_count=10)"
      ]
    },
    {
      "cell_type": "code",
      "execution_count": 21,
      "metadata": {
        "id": "jNvljbIa6XbF"
      },
      "outputs": [],
      "source": [
        "# from gensim.test.utils import common_texts\n",
        "# common_texts"
      ]
    },
    {
      "cell_type": "code",
      "execution_count": 22,
      "metadata": {
        "colab": {
          "base_uri": "https://localhost:8080/",
          "height": 0
        },
        "id": "hhhRD-ved-VZ",
        "outputId": "460e80ee-7d8b-48a9-a19c-ec626ed302bb"
      },
      "outputs": [
        {
          "output_type": "execute_result",
          "data": {
            "text/plain": [
              "0.3779027"
            ]
          },
          "metadata": {},
          "execution_count": 22
        }
      ],
      "source": [
        "model.wv.similarity('king', 'queen')"
      ]
    },
    {
      "cell_type": "code",
      "source": [
        "model.wv.similarity('awesome','nice')"
      ],
      "metadata": {
        "colab": {
          "base_uri": "https://localhost:8080/",
          "height": 0
        },
        "id": "6GnTNTqHMFMC",
        "outputId": "4a613bde-198a-44d5-8a49-771dcaa438b8"
      },
      "execution_count": 25,
      "outputs": [
        {
          "output_type": "execute_result",
          "data": {
            "text/plain": [
              "0.46043932"
            ]
          },
          "metadata": {},
          "execution_count": 25
        }
      ]
    },
    {
      "cell_type": "code",
      "source": [
        "model.wv.similarity('bad','useless')"
      ],
      "metadata": {
        "colab": {
          "base_uri": "https://localhost:8080/",
          "height": 0
        },
        "id": "d-4QozviMFTW",
        "outputId": "280d0a67-cd0d-46c9-a3d5-8ddb5b63319e"
      },
      "execution_count": 26,
      "outputs": [
        {
          "output_type": "execute_result",
          "data": {
            "text/plain": [
              "0.11656557"
            ]
          },
          "metadata": {},
          "execution_count": 26
        }
      ]
    },
    {
      "cell_type": "code",
      "source": [
        "model.wv.similarity('best','worst')"
      ],
      "metadata": {
        "colab": {
          "base_uri": "https://localhost:8080/",
          "height": 0
        },
        "id": "TnLtbgEIMFai",
        "outputId": "e7d66006-77e2-4ed8-f6b3-f6b53ee4cd29"
      },
      "execution_count": 27,
      "outputs": [
        {
          "output_type": "execute_result",
          "data": {
            "text/plain": [
              "0.6234996"
            ]
          },
          "metadata": {},
          "execution_count": 27
        }
      ]
    },
    {
      "cell_type": "code",
      "execution_count": 28,
      "metadata": {
        "colab": {
          "base_uri": "https://localhost:8080/",
          "height": 0
        },
        "id": "3R0l1M7beBur",
        "outputId": "1be08042-830f-4cb5-c698-daebfe5046eb"
      },
      "outputs": [
        {
          "output_type": "execute_result",
          "data": {
            "text/plain": [
              "[('good', 0.8338949084281921),\n",
              " ('fantastic', 0.7374886870384216),\n",
              " ('wonderful', 0.7228246927261353),\n",
              " ('decent', 0.7185121774673462),\n",
              " ('cool', 0.6643893122673035)]"
            ]
          },
          "metadata": {},
          "execution_count": 28
        }
      ],
      "source": [
        "model.wv.most_similar(positive=['great', 'nice'], topn=5)"
      ]
    },
    {
      "cell_type": "code",
      "execution_count": 29,
      "metadata": {
        "colab": {
          "base_uri": "https://localhost:8080/",
          "height": 0
        },
        "id": "z-A5ittEeF0n",
        "outputId": "752cb98d-8ab5-47c1-a4d4-e90d4627db75"
      },
      "outputs": [
        {
          "output_type": "execute_result",
          "data": {
            "text/plain": [
              "[('cool', 0.5621054768562317),\n",
              " ('big', 0.479255348443985),\n",
              " ('cheap', 0.44816023111343384),\n",
              " ('funny', 0.4401387572288513),\n",
              " ('great', 0.4369107484817505)]"
            ]
          },
          "metadata": {},
          "execution_count": 29
        }
      ],
      "source": [
        "model.wv.most_similar(positive=['good', 'bad'], negative=['excellent'], topn=5)"
      ]
    },
    {
      "cell_type": "code",
      "execution_count": 30,
      "metadata": {
        "colab": {
          "base_uri": "https://localhost:8080/",
          "height": 72
        },
        "id": "dp7gWlyQeKpz",
        "outputId": "df8db49c-d421-4842-cc99-7af3d6bd99a9"
      },
      "outputs": [
        {
          "output_type": "stream",
          "name": "stderr",
          "text": [
            "WARNING:gensim.models.keyedvectors:vectors for words {'hankerchief', 'shorts', 'pant'} are not present in the model, ignoring these words\n"
          ]
        },
        {
          "output_type": "execute_result",
          "data": {
            "text/plain": [
              "'watch'"
            ],
            "application/vnd.google.colaboratory.intrinsic+json": {
              "type": "string"
            }
          },
          "metadata": {},
          "execution_count": 30
        }
      ],
      "source": [
        "model.wv.doesnt_match(['shorts', 'shirt', 'watch', 'pant', 'shoes', 'hankerchief'])"
      ]
    },
    {
      "cell_type": "code",
      "execution_count": 32,
      "metadata": {
        "id": "r_uxC4T6eN5p"
      },
      "outputs": [],
      "source": [
        "#model.wv['prince']"
      ]
    },
    {
      "cell_type": "markdown",
      "source": [
        "**CONCLUSION**"
      ],
      "metadata": {
        "id": "0beRmOgnMjA2"
      }
    },
    {
      "cell_type": "markdown",
      "source": [
        "\n",
        "* Comparing vectors generated by our data and the pretrained model show that our dataset has limited\n",
        "vocabulary as is evident in the doesnt_match example.\n",
        "\n",
        "* Our model sometimes predict incorrect words eg. in \n",
        "\n",
        "*model.wv.most_similar(positive=['good', 'bad'], negative=['excellent'], topn=5) *\n",
        "\n",
        "it predicts cool, funny, great which do not make sence in this case. \n",
        "However, the pretrained model predicts perfectly.\n",
        "\n",
        "* They work equally well in the following case,\n",
        "\n",
        "*model.wv.most_similar(positive=['great', 'nice'], topn=5)*\n",
        "\n",
        "* The pretrained model encodes semantic similarities between words better than our model as is evident from the first three examples of similarity between,\n",
        "king, queen\n",
        "awesome, nice\n",
        "bad, useless\n",
        "However, in the case of similarity between best and worst, our model encodes the similarity better than the pretrained model.\n",
        "\n",
        "* From these test cases the pretrained model is better than our model in terms of encoding semantic similarities between words.\n",
        "\n",
        "\n",
        "\n"
      ],
      "metadata": {
        "id": "jzRawJrANme1"
      }
    },
    {
      "cell_type": "markdown",
      "source": [
        "# 3. Simple models"
      ],
      "metadata": {
        "id": "iBsn4Ej3n5vY"
      }
    },
    {
      "cell_type": "markdown",
      "source": [
        "average of word vectors"
      ],
      "metadata": {
        "id": "h8W5ZdiU15pp"
      }
    },
    {
      "cell_type": "code",
      "execution_count": 80,
      "metadata": {
        "id": "4KnKI-gEig-Y"
      },
      "outputs": [],
      "source": [
        "X_avgvec = []"
      ]
    },
    {
      "cell_type": "code",
      "execution_count": 81,
      "metadata": {
        "id": "dkK-lyDR_R6I"
      },
      "outputs": [],
      "source": [
        "t=0\n",
        "c=0\n",
        "for lst in sentences:\n",
        "  l=0\n",
        "  sm=np.zeros(300)\n",
        "  for wrd in lst:\n",
        "    t+=1\n",
        "    try:\n",
        "      sm+=wv[wrd]\n",
        "      l+=1\n",
        "    except:\n",
        "      c+=1\n",
        "  if l!=0:\n",
        "    avg=sm/l\n",
        "  X_avgvec.append(avg)"
      ]
    },
    {
      "cell_type": "code",
      "source": [
        "type(X_avgvec)"
      ],
      "metadata": {
        "colab": {
          "base_uri": "https://localhost:8080/",
          "height": 0
        },
        "id": "LJoi7ywMtXvF",
        "outputId": "ab717fc1-7857-4694-8b71-4ddabc260596"
      },
      "execution_count": 82,
      "outputs": [
        {
          "output_type": "execute_result",
          "data": {
            "text/plain": [
              "list"
            ]
          },
          "metadata": {},
          "execution_count": 82
        }
      ]
    },
    {
      "cell_type": "code",
      "execution_count": 83,
      "metadata": {
        "colab": {
          "base_uri": "https://localhost:8080/",
          "height": 0
        },
        "id": "i-s-Ke6WAE1n",
        "outputId": "b78895bb-8a43-4e3f-e089-e508bb33024f"
      },
      "outputs": [
        {
          "output_type": "execute_result",
          "data": {
            "text/plain": [
              "100000"
            ]
          },
          "metadata": {},
          "execution_count": 83
        }
      ],
      "source": [
        "len(X_avgvec)"
      ]
    },
    {
      "cell_type": "code",
      "execution_count": 84,
      "metadata": {
        "id": "1v7Lk0GjYyPz",
        "colab": {
          "base_uri": "https://localhost:8080/",
          "height": 0
        },
        "outputId": "b360df22-4812-4b41-837c-c176e2bf36b7"
      },
      "outputs": [
        {
          "output_type": "execute_result",
          "data": {
            "text/plain": [
              "(300,)"
            ]
          },
          "metadata": {},
          "execution_count": 84
        }
      ],
      "source": [
        "X_avgvec[9].shape"
      ]
    },
    {
      "cell_type": "code",
      "execution_count": 85,
      "metadata": {
        "id": "Ewyab0JBQXCF"
      },
      "outputs": [],
      "source": [
        "k=np.array(X_avgvec)"
      ]
    },
    {
      "cell_type": "code",
      "execution_count": 86,
      "metadata": {
        "colab": {
          "base_uri": "https://localhost:8080/",
          "height": 0
        },
        "id": "2-6mDaZ_Qbx7",
        "outputId": "d01a150a-9b50-4cbe-8a73-bc307f9d2511"
      },
      "outputs": [
        {
          "output_type": "execute_result",
          "data": {
            "text/plain": [
              "(100000, 300)"
            ]
          },
          "metadata": {},
          "execution_count": 86
        }
      ],
      "source": [
        "k.shape"
      ]
    },
    {
      "cell_type": "code",
      "execution_count": 87,
      "metadata": {
        "colab": {
          "base_uri": "https://localhost:8080/",
          "height": 0
        },
        "id": "WwcfN-mzHOpe",
        "outputId": "31d4e181-ea72-48e4-fffb-09094b642ab3"
      },
      "outputs": [
        {
          "output_type": "execute_result",
          "data": {
            "text/plain": [
              "(300,)"
            ]
          },
          "metadata": {},
          "execution_count": 87
        }
      ],
      "source": [
        "X_avgvec[0].shape"
      ]
    },
    {
      "cell_type": "markdown",
      "source": [
        "calculating percentage of words not in the pretrained model."
      ],
      "metadata": {
        "id": "WJWXxYsARqKY"
      }
    },
    {
      "cell_type": "code",
      "execution_count": 42,
      "metadata": {
        "colab": {
          "base_uri": "https://localhost:8080/",
          "height": 0
        },
        "id": "uCQ7TJ_4HkSx",
        "outputId": "ecf34dd1-c52e-41df-b81f-c59318f2a594"
      },
      "outputs": [
        {
          "output_type": "execute_result",
          "data": {
            "text/plain": [
              "337310"
            ]
          },
          "metadata": {},
          "execution_count": 42
        }
      ],
      "source": [
        "c"
      ]
    },
    {
      "cell_type": "code",
      "execution_count": 45,
      "metadata": {
        "colab": {
          "base_uri": "https://localhost:8080/",
          "height": 0
        },
        "id": "xRc_MLMaIFbF",
        "outputId": "e34dd751-ac24-4dab-a1d5-6d4aca4e5b4e"
      },
      "outputs": [
        {
          "output_type": "execute_result",
          "data": {
            "text/plain": [
              "3635802"
            ]
          },
          "metadata": {},
          "execution_count": 45
        }
      ],
      "source": [
        "t"
      ]
    },
    {
      "cell_type": "code",
      "execution_count": 46,
      "metadata": {
        "colab": {
          "base_uri": "https://localhost:8080/",
          "height": 0
        },
        "id": "zAp16lVTIc7f",
        "outputId": "5fde5650-f14d-4c50-b709-1e8b3b487679"
      },
      "outputs": [
        {
          "output_type": "execute_result",
          "data": {
            "text/plain": [
              "9.277457903373175"
            ]
          },
          "metadata": {},
          "execution_count": 46
        }
      ],
      "source": [
        "c*100/t"
      ]
    },
    {
      "cell_type": "code",
      "execution_count": 46,
      "metadata": {
        "id": "_YkvYK3OIiOE"
      },
      "outputs": [],
      "source": []
    },
    {
      "cell_type": "markdown",
      "metadata": {
        "id": "net0rBASMpoa"
      },
      "source": [
        "# Train-Test Split"
      ]
    },
    {
      "cell_type": "code",
      "execution_count": 120,
      "metadata": {
        "id": "KPY7nAoJMqnL"
      },
      "outputs": [],
      "source": [
        "from sklearn.model_selection import train_test_split"
      ]
    },
    {
      "cell_type": "code",
      "execution_count": 89,
      "metadata": {
        "id": "c0DTKjG_MtHH"
      },
      "outputs": [],
      "source": [
        "X_train, X_test, y_train, y_test = train_test_split(X_avgvec, \n",
        "                                      newdf['star_rating'], test_size=0.2)"
      ]
    },
    {
      "cell_type": "code",
      "source": [
        "type(X_train)"
      ],
      "metadata": {
        "colab": {
          "base_uri": "https://localhost:8080/",
          "height": 0
        },
        "id": "Spqmlv5z7lEG",
        "outputId": "7eb5d648-9f17-4909-e303-9ee448227ce7"
      },
      "execution_count": 90,
      "outputs": [
        {
          "output_type": "execute_result",
          "data": {
            "text/plain": [
              "list"
            ]
          },
          "metadata": {},
          "execution_count": 90
        }
      ]
    },
    {
      "cell_type": "code",
      "execution_count": 91,
      "metadata": {
        "colab": {
          "base_uri": "https://localhost:8080/",
          "height": 0
        },
        "id": "Z-qayzJSPbJ8",
        "outputId": "684ce52c-4f4e-4ef2-d308-f6976c1de456"
      },
      "outputs": [
        {
          "output_type": "execute_result",
          "data": {
            "text/plain": [
              "3    16076\n",
              "1    16021\n",
              "2    16005\n",
              "4    15951\n",
              "5    15947\n",
              "Name: star_rating, dtype: int64"
            ]
          },
          "metadata": {},
          "execution_count": 91
        }
      ],
      "source": [
        "y_train.value_counts()"
      ]
    },
    {
      "cell_type": "code",
      "execution_count": 92,
      "metadata": {
        "colab": {
          "base_uri": "https://localhost:8080/",
          "height": 0
        },
        "id": "be9BMX-eQ0dl",
        "outputId": "dddb1458-9b41-446f-b88d-7af86398a8ee"
      },
      "outputs": [
        {
          "output_type": "execute_result",
          "data": {
            "text/plain": [
              "5    4053\n",
              "4    4049\n",
              "2    3995\n",
              "1    3979\n",
              "3    3924\n",
              "Name: star_rating, dtype: int64"
            ]
          },
          "metadata": {},
          "execution_count": 92
        }
      ],
      "source": [
        "y_test.value_counts()"
      ]
    },
    {
      "cell_type": "code",
      "execution_count": 121,
      "metadata": {
        "id": "cYa0j62xQ5Qm"
      },
      "outputs": [],
      "source": [
        "from sklearn.metrics import f1_score, recall_score, classification_report, precision_score\n",
        "from sklearn.metrics import precision_recall_fscore_support\n",
        "from sklearn.metrics import accuracy_score"
      ]
    },
    {
      "cell_type": "markdown",
      "metadata": {
        "id": "PvD1Nw6TTqZc"
      },
      "source": [
        "# Perceptron"
      ]
    },
    {
      "cell_type": "code",
      "execution_count": 122,
      "metadata": {
        "id": "YWdgihxOQ-1K"
      },
      "outputs": [],
      "source": [
        "from sklearn.linear_model import Perceptron"
      ]
    },
    {
      "cell_type": "code",
      "execution_count": 95,
      "metadata": {
        "colab": {
          "base_uri": "https://localhost:8080/",
          "height": 0
        },
        "id": "RCb2G7arRA8A",
        "outputId": "02cd6364-7f72-4a3f-fe2f-d207a3e05156"
      },
      "outputs": [
        {
          "output_type": "execute_result",
          "data": {
            "text/plain": [
              "Perceptron()"
            ]
          },
          "metadata": {},
          "execution_count": 95
        }
      ],
      "source": [
        "p = Perceptron()\n",
        "p.fit(X_train,y_train)"
      ]
    },
    {
      "cell_type": "code",
      "execution_count": 96,
      "metadata": {
        "id": "60axmV16RFrU"
      },
      "outputs": [],
      "source": [
        "predictions = p.predict(X_test)"
      ]
    },
    {
      "cell_type": "code",
      "execution_count": 97,
      "metadata": {
        "colab": {
          "base_uri": "https://localhost:8080/",
          "height": 0
        },
        "id": "6B3l_FtjRI5F",
        "outputId": "d3b65ae1-8037-4742-df12-12252b2bc0be"
      },
      "outputs": [
        {
          "output_type": "stream",
          "name": "stdout",
          "text": [
            "              precision    recall  f1-score   support\n",
            "\n",
            "           1       0.69      0.17      0.28      3979\n",
            "           2       0.28      0.82      0.42      3995\n",
            "           3       0.34      0.07      0.11      3924\n",
            "           4       0.41      0.21      0.28      4049\n",
            "           5       0.60      0.66      0.63      4053\n",
            "\n",
            "    accuracy                           0.39     20000\n",
            "   macro avg       0.47      0.39      0.34     20000\n",
            "weighted avg       0.47      0.39      0.34     20000\n",
            "\n"
          ]
        }
      ],
      "source": [
        "print(classification_report(y_test,predictions))"
      ]
    },
    {
      "cell_type": "code",
      "execution_count": 97,
      "metadata": {
        "id": "nONjl4bWRL7S"
      },
      "outputs": [],
      "source": []
    },
    {
      "cell_type": "markdown",
      "metadata": {
        "id": "dYtixGZ1Tdeh"
      },
      "source": [
        "# SVM"
      ]
    },
    {
      "cell_type": "code",
      "execution_count": 123,
      "metadata": {
        "id": "I4ttzRpcTe86"
      },
      "outputs": [],
      "source": [
        "from sklearn.svm import LinearSVC\n",
        "svm = LinearSVC()\n"
      ]
    },
    {
      "cell_type": "code",
      "execution_count": 99,
      "metadata": {
        "colab": {
          "base_uri": "https://localhost:8080/",
          "height": 0
        },
        "id": "nzrVlH-sTft1",
        "outputId": "93db39f5-31fc-4ffd-e539-9b56ebf92a04"
      },
      "outputs": [
        {
          "output_type": "execute_result",
          "data": {
            "text/plain": [
              "LinearSVC()"
            ]
          },
          "metadata": {},
          "execution_count": 99
        }
      ],
      "source": [
        "svm.fit(X_train,y_train)"
      ]
    },
    {
      "cell_type": "code",
      "execution_count": 100,
      "metadata": {
        "id": "hXQey4KuThT5"
      },
      "outputs": [],
      "source": [
        "predictions = svm.predict(X_test)"
      ]
    },
    {
      "cell_type": "code",
      "execution_count": 101,
      "metadata": {
        "colab": {
          "base_uri": "https://localhost:8080/",
          "height": 0
        },
        "id": "PDQxzMVCTjre",
        "outputId": "44d32565-8a8e-4053-abd1-9c0034ce9181"
      },
      "outputs": [
        {
          "output_type": "stream",
          "name": "stdout",
          "text": [
            "              precision    recall  f1-score   support\n",
            "\n",
            "           1       0.51      0.72      0.59      3979\n",
            "           2       0.38      0.25      0.30      3995\n",
            "           3       0.39      0.36      0.38      3924\n",
            "           4       0.45      0.32      0.37      4049\n",
            "           5       0.59      0.76      0.66      4053\n",
            "\n",
            "    accuracy                           0.48     20000\n",
            "   macro avg       0.46      0.48      0.46     20000\n",
            "weighted avg       0.47      0.48      0.46     20000\n",
            "\n"
          ]
        }
      ],
      "source": [
        "print(classification_report(y_test,predictions))"
      ]
    },
    {
      "cell_type": "code",
      "execution_count": null,
      "metadata": {
        "id": "JoZwGPt4Toxa"
      },
      "outputs": [],
      "source": []
    },
    {
      "cell_type": "markdown",
      "source": [
        "**CONCLUSION**"
      ],
      "metadata": {
        "id": "Mbx18gPZtCpE"
      }
    },
    {
      "cell_type": "markdown",
      "source": [
        "For tfidf the accuracy values were 41% and 50% for Perceptron and SVM\n",
        "respectively. These values are very close to the accuracy values these models are \n",
        "giving after being trained on word2vec.\n",
        "Thus it seems that training these two models on word level embeddings compared \n",
        "to document level embeddings does not lead to any significant improvement in \n",
        "accuracy of these models for predicting the ratings."
      ],
      "metadata": {
        "id": "HB6sx6hoVTzy"
      }
    },
    {
      "cell_type": "code",
      "source": [],
      "metadata": {
        "id": "4N20xwBDtEtk"
      },
      "execution_count": null,
      "outputs": []
    },
    {
      "cell_type": "markdown",
      "metadata": {
        "id": "F0k2975FVhqC"
      },
      "source": [
        "# 4. Feedforward Neural Networks"
      ]
    },
    {
      "cell_type": "code",
      "execution_count": 124,
      "metadata": {
        "id": "SydmMwzNVi7V"
      },
      "outputs": [],
      "source": [
        "import torch\n",
        "from torch.utils.data import DataLoader, Dataset\n",
        "#import torchvision\n",
        "import torchtext.transforms as transforms\n",
        "from torch.utils.data.sampler import SubsetRandomSampler\n",
        "#import matplotlib.pyplot as plt\n",
        "#import numpy as np\n",
        "#import pandas as pd"
      ]
    },
    {
      "cell_type": "code",
      "execution_count": 103,
      "metadata": {
        "id": "Z9U5N1QzJqXr"
      },
      "outputs": [],
      "source": [
        "dtype=torch.cuda.FloatTensor"
      ]
    },
    {
      "cell_type": "code",
      "execution_count": 104,
      "metadata": {
        "id": "_XPuEp_C-WTX"
      },
      "outputs": [],
      "source": [
        "class Dataset(object):\n",
        "    \"\"\"An abstract class representing a Dataset.\n",
        "    All other datasets should subclass it. All subclasses should override\n",
        "    ``__len__``, that provides the size of the dataset, and ``__getitem__``,\n",
        "    supporting integer indexing in range from 0 to len(self) exclusive.\n",
        "    \"\"\"\n",
        "\n",
        "    def __getitem__(self, index):\n",
        "        raise NotImplementedError\n",
        "\n",
        "    def __len__(self):\n",
        "        raise NotImplementedError\n",
        "\n",
        "    def __add__(self, other):\n",
        "        return ConcatDataset([self, other])"
      ]
    },
    {
      "cell_type": "code",
      "execution_count": 106,
      "metadata": {
        "id": "IApVJ4TU-ZxA"
      },
      "outputs": [],
      "source": [
        "class TrainRW(Dataset):\n",
        "    \n",
        "    def __init__(self, review, rating):\n",
        "        self.labels = rating\n",
        "        self.text = review\n",
        "        \n",
        "    def __len__(self):\n",
        "        return len(self.labels)\n",
        "    \n",
        "    def __getitem__(self, index):\n",
        "        # load the label and text for the given index\n",
        "\n",
        "         label = self.labels[index]\n",
        "         text = self.text[index]\n",
        "        \n",
        "        # if self.transform is not None:\n",
        "        #     text = self.transform(text)\n",
        "            \n",
        "        # return text, label\n",
        "\n",
        "         return torch.from_numpy(text.astype(np.float32)), label"
      ]
    },
    {
      "cell_type": "code",
      "execution_count": 107,
      "metadata": {
        "id": "DbRgDDNhIgwl"
      },
      "outputs": [],
      "source": [
        "class TestRW(Dataset):\n",
        "    \n",
        "    def __init__(self, review, rating):\n",
        "        self.labels = rating\n",
        "        self.text = review\n",
        "        \n",
        "    def __len__(self):\n",
        "        return len(self.labels)\n",
        "    \n",
        "    def __getitem__(self, index):\n",
        "        # load text for the given index\n",
        "        text = self.text[index]\n",
        "        \n",
        "        # if self.transform is not None:\n",
        "        #     text = self.transform(text)\n",
        "            \n",
        "        #return text\n",
        "        return torch.from_numpy(text.astype(np.float32))"
      ]
    },
    {
      "cell_type": "code",
      "execution_count": 125,
      "metadata": {
        "colab": {
          "base_uri": "https://localhost:8080/"
        },
        "id": "RnRkDplHJRi5",
        "outputId": "a5c7987b-a208-4444-9f38-d68efe12d548"
      },
      "outputs": [
        {
          "output_type": "execute_result",
          "data": {
            "text/plain": [
              "False"
            ]
          },
          "metadata": {},
          "execution_count": 125
        }
      ],
      "source": [
        "import torch\n",
        "torch.cuda.is_available()"
      ]
    },
    {
      "cell_type": "code",
      "execution_count": 109,
      "metadata": {
        "colab": {
          "base_uri": "https://localhost:8080/",
          "height": 35
        },
        "id": "LxS9AOsyJR8o",
        "outputId": "ceff80e2-4c08-40e1-f9d8-58779c539c5b"
      },
      "outputs": [
        {
          "output_type": "execute_result",
          "data": {
            "text/plain": [
              "'1.12.1+cu113'"
            ],
            "application/vnd.google.colaboratory.intrinsic+json": {
              "type": "string"
            }
          },
          "metadata": {},
          "execution_count": 109
        }
      ],
      "source": [
        "torch.__version__"
      ]
    },
    {
      "cell_type": "markdown",
      "source": [
        "One hot encode the training labels to feed into our model."
      ],
      "metadata": {
        "id": "02rvtPixWoKN"
      }
    },
    {
      "cell_type": "code",
      "execution_count": 126,
      "metadata": {
        "colab": {
          "base_uri": "https://localhost:8080/"
        },
        "id": "IFXDuODXNmOh",
        "outputId": "57e26cc8-752f-4eb1-9c4b-c14f9100aa26"
      },
      "outputs": [
        {
          "output_type": "execute_result",
          "data": {
            "text/plain": [
              "(80000, 5)"
            ]
          },
          "metadata": {},
          "execution_count": 126
        }
      ],
      "source": [
        "from sklearn.preprocessing import OneHotEncoder\n",
        "ohe    = OneHotEncoder(sparse=False)\n",
        "j= y_train.values.reshape(len(y_train),1)\n",
        "y_ohe = ohe.fit_transform(j)\n",
        "y_ohe.shape"
      ]
    },
    {
      "cell_type": "code",
      "execution_count": 110,
      "metadata": {
        "id": "3KaO-ypINqc2"
      },
      "outputs": [],
      "source": []
    },
    {
      "cell_type": "markdown",
      "source": [
        "# 4(a)"
      ],
      "metadata": {
        "id": "aoIQFNas89az"
      }
    },
    {
      "cell_type": "markdown",
      "source": [
        " Tutorial used as reference\n",
        "https://www.kaggle.com/mishra1993/pytorch-multi-layer-perceptron-mnist"
      ],
      "metadata": {
        "id": "CCL8oVupYNrW"
      }
    },
    {
      "cell_type": "code",
      "execution_count": 111,
      "metadata": {
        "id": "Ktj3FGDgJWtc"
      },
      "outputs": [],
      "source": [
        "train_data = TrainRW(X_train, y_ohe)\n",
        "test_data = TestRW(X_test, y_test)"
      ]
    },
    {
      "cell_type": "code",
      "source": [
        "type(train_data[1][1])"
      ],
      "metadata": {
        "colab": {
          "base_uri": "https://localhost:8080/",
          "height": 0
        },
        "id": "nrtB6RDFt4Ot",
        "outputId": "b536ad73-23bf-4f2c-ebb2-153b99d61602"
      },
      "execution_count": 112,
      "outputs": [
        {
          "output_type": "execute_result",
          "data": {
            "text/plain": [
              "numpy.ndarray"
            ]
          },
          "metadata": {},
          "execution_count": 112
        }
      ]
    },
    {
      "cell_type": "markdown",
      "source": [
        "visualizing the training data"
      ],
      "metadata": {
        "id": "LRbrzeosXW8u"
      }
    },
    {
      "cell_type": "code",
      "execution_count": 113,
      "metadata": {
        "colab": {
          "base_uri": "https://localhost:8080/",
          "height": 0
        },
        "id": "3L76F8e71-72",
        "outputId": "309ef4c6-1984-44df-af88-86f46fc2a3ea"
      },
      "outputs": [
        {
          "output_type": "execute_result",
          "data": {
            "text/plain": [
              "(tensor([ 7.2510e-03,  7.1411e-03,  1.4453e-02,  1.3276e-01, -9.6436e-02,\n",
              "         -4.6875e-02,  6.2732e-02, -8.5596e-02,  1.2100e-01,  5.2844e-02,\n",
              "          1.2878e-02, -1.4171e-01,  1.6223e-02, -5.9717e-02, -8.1445e-02,\n",
              "         -1.3867e-02,  7.3511e-02,  7.2119e-02,  4.9988e-02, -8.7866e-02,\n",
              "          4.3750e-02, -1.4258e-02, -2.3828e-02, -4.1901e-03,  1.1982e-01,\n",
              "         -4.3506e-02, -3.2788e-02,  1.0159e-01,  9.5847e-02,  7.9248e-02,\n",
              "          4.3457e-03,  2.4683e-02,  5.4395e-02,  8.2581e-03, -3.3350e-02,\n",
              "         -4.9353e-02,  3.1250e-03, -1.8628e-02,  5.9708e-02,  7.0858e-02,\n",
              "          4.1406e-02,  4.2480e-03,  1.5635e-01, -2.2952e-02, -5.1941e-02,\n",
              "          1.9485e-02, -1.2061e-01, -3.8477e-02,  1.1567e-01,  7.3486e-03,\n",
              "          6.1224e-02, -6.0461e-02,  7.6074e-02, -6.2744e-02, -7.5317e-03,\n",
              "          8.9771e-02,  8.4644e-02,  1.4575e-02, -1.7786e-02, -2.5781e-02,\n",
              "         -9.1846e-02,  7.6563e-02, -6.4502e-02, -1.2896e-01, -4.2236e-03,\n",
              "          1.1987e-02, -5.3711e-04,  1.6553e-02,  2.9962e-02,  6.3574e-02,\n",
              "          7.7525e-02,  2.0752e-02,  8.9331e-02,  1.5869e-02, -1.3328e-01,\n",
              "          3.6084e-02,  2.9517e-02,  1.0952e-01,  5.9196e-02,  9.5044e-02,\n",
              "          7.1582e-02, -8.2617e-02, -5.1221e-02, -5.4053e-02, -7.5244e-02,\n",
              "         -4.2822e-02, -1.3389e-01,  8.5059e-02,  1.0586e-01, -1.5344e-02,\n",
              "          7.5745e-03,  2.4414e-02, -5.4565e-03, -4.7632e-02, -6.7041e-02,\n",
              "         -3.5937e-02, -7.7484e-02,  9.3506e-02, -6.6284e-02,  3.5449e-02,\n",
              "          1.6299e-02, -6.9336e-02, -3.8745e-02, -2.3535e-02, -2.5781e-02,\n",
              "          2.8369e-02,  2.0264e-02, -1.3048e-01,  1.1133e-02, -1.0479e-01,\n",
              "         -9.5630e-02,  7.7289e-02, -2.3926e-02, -2.1744e-02,  1.0977e-01,\n",
              "         -3.1347e-02,  4.3384e-02,  4.3945e-02,  9.5190e-02,  6.6260e-02,\n",
              "         -1.5291e-01,  2.8442e-02, -8.5400e-02,  3.2550e-02, -6.1340e-04,\n",
              "          1.1816e-02,  4.8730e-02, -1.5967e-02,  2.5513e-02,  2.9431e-02,\n",
              "          1.5503e-03, -9.4604e-02, -6.9092e-03, -1.2236e-01, -1.6569e-01,\n",
              "         -2.8833e-02,  6.8848e-02, -8.6182e-03,  4.5410e-03,  7.2629e-02,\n",
              "          1.2332e-02, -5.4980e-02,  9.2053e-02, -3.8239e-02, -5.9412e-02,\n",
              "          1.5820e-02, -1.6191e-01, -7.1069e-02, -6.4813e-02,  5.6653e-02,\n",
              "          1.9519e-02,  1.1663e-01, -5.1093e-02,  5.8984e-02,  1.2598e-02,\n",
              "          7.3657e-02, -2.6807e-02, -4.0137e-02, -4.4922e-02, -7.3389e-02,\n",
              "         -5.3809e-02,  6.9946e-02,  7.0984e-02,  2.2705e-03,  8.4961e-03,\n",
              "         -9.3134e-02, -7.6660e-03, -5.4932e-05,  5.0928e-02, -9.5752e-02,\n",
              "         -1.3091e-01, -1.2690e-01, -3.3911e-02, -1.5928e-01, -2.5552e-02,\n",
              "         -1.2222e-01,  7.5562e-02, -1.0488e-01,  4.7510e-02,  8.3105e-02,\n",
              "         -3.2227e-02,  1.7432e-02,  1.1230e-03,  8.0991e-02,  7.0801e-02,\n",
              "         -1.8945e-02,  2.1997e-02,  7.6526e-02,  9.3018e-03,  1.1670e-02,\n",
              "          7.8638e-02,  1.8872e-02,  5.6323e-02,  2.8775e-02, -5.4932e-02,\n",
              "          7.3657e-02, -5.5859e-02, -1.0139e-01,  2.6721e-02, -1.5063e-01,\n",
              "          3.7549e-02,  2.6367e-02, -6.6357e-02,  6.6437e-03,  8.1982e-02,\n",
              "         -3.4814e-02, -7.3682e-02,  1.0747e-01, -2.6563e-02, -1.6260e-02,\n",
              "         -1.0989e-01, -1.0498e-02,  4.7699e-02,  8.4552e-02, -1.7891e-01,\n",
              "         -4.1080e-02,  1.3281e-01, -9.8145e-03, -1.7451e-01,  5.4236e-02,\n",
              "         -2.1680e-02, -5.1575e-03, -1.7773e-02, -3.7061e-02,  1.0308e-01,\n",
              "          5.9326e-02,  3.8696e-02, -1.4062e-02,  3.5352e-02,  5.1416e-02,\n",
              "          4.5166e-02, -9.5190e-02, -4.8145e-02,  7.5659e-02,  5.0648e-02,\n",
              "         -9.1992e-02, -1.2793e-02, -5.3613e-02, -1.9604e-02, -2.8302e-02,\n",
              "          3.0383e-02, -3.1061e-02,  6.0144e-02, -1.6367e-01,  2.5781e-02,\n",
              "         -4.9536e-02,  1.8896e-02,  9.8535e-02,  2.4255e-02,  6.2695e-02,\n",
              "          8.7158e-03,  2.4365e-02,  9.8438e-02,  1.0315e-01, -7.6060e-02,\n",
              "         -3.0145e-02,  3.7036e-02,  5.5396e-02, -4.1138e-02,  2.5537e-02,\n",
              "         -3.1665e-02,  3.0273e-02, -3.6475e-02, -1.9043e-02,  2.0972e-02,\n",
              "          1.2599e-01, -3.6798e-02, -1.2925e-01,  3.0518e-04, -6.6846e-02,\n",
              "          5.5078e-02,  6.5503e-02,  8.9771e-02,  3.2922e-02,  6.3477e-04,\n",
              "         -6.3574e-02, -5.0977e-02, -1.8311e-01,  6.3232e-03, -6.7383e-03,\n",
              "          1.3188e-01, -8.2733e-03, -1.4417e-02,  3.2739e-02, -6.3184e-02,\n",
              "         -6.2915e-02, -1.2910e-01, -6.2915e-02, -3.2446e-02,  7.4524e-02,\n",
              "         -3.0847e-02,  3.1177e-02, -1.1217e-01,  1.1213e-01, -1.2036e-02,\n",
              "          1.0730e-02,  4.1431e-02, -5.3564e-02,  1.0937e-02,  1.7578e-02]),\n",
              " array([0., 1., 0., 0., 0.]))"
            ]
          },
          "metadata": {},
          "execution_count": 113
        }
      ],
      "source": [
        "train_data[9]"
      ]
    },
    {
      "cell_type": "code",
      "execution_count": 114,
      "metadata": {
        "id": "FiFsglflPeyg"
      },
      "outputs": [],
      "source": [
        "# number of subprocesses to use for data loading\n",
        "num_workers = 0\n",
        "# how many samples per batch to load\n",
        "batch_size = 20\n",
        "# percentage of training set to use as validation\n",
        "valid_size = 0.2\n",
        "\n",
        "\n",
        "# obtain training indices that will be used for validation\n",
        "num_train = len(train_data)\n",
        "indices = list(range(num_train))\n",
        "np.random.shuffle(indices)\n",
        "split = int(np.floor(valid_size * num_train))\n",
        "train_idx, valid_idx = indices[split:], indices[:split]\n",
        "\n",
        "# define samplers for obtaining training and validation batches\n",
        "train_sampler = SubsetRandomSampler(train_idx)\n",
        "valid_sampler = SubsetRandomSampler(valid_idx)\n",
        "\n",
        "# prepare data loaders\n",
        "train_loader = torch.utils.data.DataLoader(train_data, batch_size=batch_size,\n",
        "    sampler=train_sampler, num_workers=num_workers,)\n",
        "valid_loader = torch.utils.data.DataLoader(train_data, batch_size=batch_size, \n",
        "    sampler=valid_sampler, num_workers=num_workers)\n",
        "test_loader = torch.utils.data.DataLoader(test_data, batch_size=batch_size, \n",
        "    num_workers=num_workers)"
      ]
    },
    {
      "cell_type": "code",
      "execution_count": 127,
      "metadata": {
        "colab": {
          "base_uri": "https://localhost:8080/"
        },
        "id": "7cwwYm6Xn44G",
        "outputId": "ab347207-99c1-4520-9417-d6599fe9718a"
      },
      "outputs": [
        {
          "output_type": "stream",
          "name": "stdout",
          "text": [
            "Net(\n",
            "  (fc1): Linear(in_features=300, out_features=50, bias=True)\n",
            "  (fc2): Linear(in_features=50, out_features=10, bias=True)\n",
            "  (fc3): Linear(in_features=10, out_features=5, bias=True)\n",
            "  (dropout): Dropout(p=0.2, inplace=False)\n",
            ")\n"
          ]
        }
      ],
      "source": [
        "import torch.nn as nn\n",
        "import torch.nn.functional as F\n",
        "\n",
        "# define the NN architecture\n",
        "class Net(nn.Module):\n",
        "    def __init__(self):\n",
        "        super(Net, self).__init__()\n",
        "        # number of hidden nodes in each layer\n",
        "        hidden_1 = 50\n",
        "        hidden_2 = 10\n",
        "        # linear layer (300 -> hidden_1)\n",
        "        self.fc1 = nn.Linear(300, hidden_1)\n",
        "        # linear layer (n_hidden -> hidden_2)\n",
        "        self.fc2 = nn.Linear(hidden_1, hidden_2)\n",
        "        # linear layer (n_hidden -> 5)\n",
        "        self.fc3 = nn.Linear(hidden_2, 5)\n",
        "        # dropout layer (p=0.2)\n",
        "        # dropout prevents overfitting of data\n",
        "        self.dropout = nn.Dropout(0.2)\n",
        "\n",
        "    def forward(self, x):\n",
        "        # add hidden layer, with relu activation function\n",
        "        x = F.relu(self.fc1(x))\n",
        "        # add dropout layer\n",
        "        x = self.dropout(x)\n",
        "        # add hidden layer, with relu activation function\n",
        "        x = F.relu(self.fc2(x))\n",
        "        # add dropout layer\n",
        "        x = self.dropout(x)\n",
        "        # add output layer\n",
        "        x = self.fc3(x)\n",
        "        return x\n",
        "\n",
        "# initialize the NN\n",
        "model = Net()\n",
        "#model.cuda()\n",
        "print(model)"
      ]
    },
    {
      "cell_type": "code",
      "execution_count": 116,
      "metadata": {
        "id": "XSFR6_z3u8N2"
      },
      "outputs": [],
      "source": [
        "# specify loss function (categorical cross-entropy)\n",
        "criterion = nn.CrossEntropyLoss()\n",
        "\n",
        "# specify optimizer (stochastic gradient descent) and learning rate = 0.01\n",
        "\n",
        "#optimizer = torch.optim.SGD(model.parameters(), lr=0.01)\n",
        "\n",
        "optimizer = torch.optim.Adam(model.parameters(), lr=0.001)"
      ]
    },
    {
      "cell_type": "code",
      "execution_count": 117,
      "metadata": {
        "colab": {
          "base_uri": "https://localhost:8080/",
          "height": 0
        },
        "id": "HMwElTr4zTI6",
        "outputId": "6636fb99-2599-4530-a273-16f02e0d3c64"
      },
      "outputs": [
        {
          "output_type": "stream",
          "name": "stdout",
          "text": [
            "Epoch: 1 \tTraining Loss: 1.054113 \tValidation Loss: 0.242447\n",
            "Validation loss decreased (inf --> 0.242447).  Saving model ...\n",
            "Epoch: 2 \tTraining Loss: 0.988229 \tValidation Loss: 0.239729\n",
            "Validation loss decreased (0.242447 --> 0.239729).  Saving model ...\n",
            "Epoch: 3 \tTraining Loss: 0.971067 \tValidation Loss: 0.234142\n",
            "Validation loss decreased (0.239729 --> 0.234142).  Saving model ...\n",
            "Epoch: 4 \tTraining Loss: 0.962908 \tValidation Loss: 0.237177\n",
            "Epoch: 5 \tTraining Loss: 0.957198 \tValidation Loss: 0.232682\n",
            "Validation loss decreased (0.234142 --> 0.232682).  Saving model ...\n",
            "Epoch: 6 \tTraining Loss: 0.950669 \tValidation Loss: 0.231263\n",
            "Validation loss decreased (0.232682 --> 0.231263).  Saving model ...\n",
            "Epoch: 7 \tTraining Loss: 0.948470 \tValidation Loss: 0.230644\n",
            "Validation loss decreased (0.231263 --> 0.230644).  Saving model ...\n",
            "Epoch: 8 \tTraining Loss: 0.942286 \tValidation Loss: 0.230347\n",
            "Validation loss decreased (0.230644 --> 0.230347).  Saving model ...\n",
            "Epoch: 9 \tTraining Loss: 0.937937 \tValidation Loss: 0.229943\n",
            "Validation loss decreased (0.230347 --> 0.229943).  Saving model ...\n",
            "Epoch: 10 \tTraining Loss: 0.934311 \tValidation Loss: 0.230364\n",
            "Epoch: 11 \tTraining Loss: 0.933802 \tValidation Loss: 0.230179\n",
            "Epoch: 12 \tTraining Loss: 0.932564 \tValidation Loss: 0.229810\n",
            "Validation loss decreased (0.229943 --> 0.229810).  Saving model ...\n",
            "Epoch: 13 \tTraining Loss: 0.928566 \tValidation Loss: 0.229083\n",
            "Validation loss decreased (0.229810 --> 0.229083).  Saving model ...\n",
            "Epoch: 14 \tTraining Loss: 0.925934 \tValidation Loss: 0.229118\n",
            "Epoch: 15 \tTraining Loss: 0.926081 \tValidation Loss: 0.228066\n",
            "Validation loss decreased (0.229083 --> 0.228066).  Saving model ...\n",
            "Epoch: 16 \tTraining Loss: 0.924849 \tValidation Loss: 0.227194\n",
            "Validation loss decreased (0.228066 --> 0.227194).  Saving model ...\n",
            "Epoch: 17 \tTraining Loss: 0.923767 \tValidation Loss: 0.229115\n",
            "Epoch: 18 \tTraining Loss: 0.919484 \tValidation Loss: 0.228299\n",
            "Epoch: 19 \tTraining Loss: 0.918257 \tValidation Loss: 0.228488\n",
            "Epoch: 20 \tTraining Loss: 0.916724 \tValidation Loss: 0.227036\n",
            "Validation loss decreased (0.227194 --> 0.227036).  Saving model ...\n",
            "Epoch: 21 \tTraining Loss: 0.916312 \tValidation Loss: 0.228515\n",
            "Epoch: 22 \tTraining Loss: 0.915448 \tValidation Loss: 0.227265\n",
            "Epoch: 23 \tTraining Loss: 0.913493 \tValidation Loss: 0.228139\n",
            "Epoch: 24 \tTraining Loss: 0.912355 \tValidation Loss: 0.226913\n",
            "Validation loss decreased (0.227036 --> 0.226913).  Saving model ...\n",
            "Epoch: 25 \tTraining Loss: 0.910057 \tValidation Loss: 0.227097\n",
            "Epoch: 26 \tTraining Loss: 0.911267 \tValidation Loss: 0.228160\n",
            "Epoch: 27 \tTraining Loss: 0.907826 \tValidation Loss: 0.227014\n",
            "Epoch: 28 \tTraining Loss: 0.908228 \tValidation Loss: 0.226431\n",
            "Validation loss decreased (0.226913 --> 0.226431).  Saving model ...\n",
            "Epoch: 29 \tTraining Loss: 0.907556 \tValidation Loss: 0.227560\n",
            "Epoch: 30 \tTraining Loss: 0.904954 \tValidation Loss: 0.231335\n",
            "Epoch: 31 \tTraining Loss: 0.903836 \tValidation Loss: 0.226351\n",
            "Validation loss decreased (0.226431 --> 0.226351).  Saving model ...\n",
            "Epoch: 32 \tTraining Loss: 0.905091 \tValidation Loss: 0.226955\n",
            "Epoch: 33 \tTraining Loss: 0.902942 \tValidation Loss: 0.226261\n",
            "Validation loss decreased (0.226351 --> 0.226261).  Saving model ...\n",
            "Epoch: 34 \tTraining Loss: 0.902599 \tValidation Loss: 0.226745\n",
            "Epoch: 35 \tTraining Loss: 0.900750 \tValidation Loss: 0.226274\n",
            "Epoch: 36 \tTraining Loss: 0.900413 \tValidation Loss: 0.227189\n",
            "Epoch: 37 \tTraining Loss: 0.900060 \tValidation Loss: 0.227191\n",
            "Epoch: 38 \tTraining Loss: 0.900198 \tValidation Loss: 0.226446\n",
            "Epoch: 39 \tTraining Loss: 0.898125 \tValidation Loss: 0.226626\n",
            "Epoch: 40 \tTraining Loss: 0.896757 \tValidation Loss: 0.226577\n",
            "Epoch: 41 \tTraining Loss: 0.895611 \tValidation Loss: 0.227856\n",
            "Epoch: 42 \tTraining Loss: 0.896119 \tValidation Loss: 0.228137\n",
            "Epoch: 43 \tTraining Loss: 0.894761 \tValidation Loss: 0.226586\n",
            "Epoch: 44 \tTraining Loss: 0.895653 \tValidation Loss: 0.226119\n",
            "Validation loss decreased (0.226261 --> 0.226119).  Saving model ...\n",
            "Epoch: 45 \tTraining Loss: 0.893764 \tValidation Loss: 0.226649\n",
            "Epoch: 46 \tTraining Loss: 0.891162 \tValidation Loss: 0.226697\n",
            "Epoch: 47 \tTraining Loss: 0.892241 \tValidation Loss: 0.227293\n",
            "Epoch: 48 \tTraining Loss: 0.891454 \tValidation Loss: 0.226607\n",
            "Epoch: 49 \tTraining Loss: 0.891772 \tValidation Loss: 0.226995\n",
            "Epoch: 50 \tTraining Loss: 0.890525 \tValidation Loss: 0.226942\n"
          ]
        }
      ],
      "source": [
        "# number of epochs to train the model\n",
        "n_epochs = 50\n",
        "\n",
        "# initialize tracker for minimum validation loss\n",
        "valid_loss_min = np.Inf # set initial \"min\" to infinity\n",
        "\n",
        "for epoch in range(n_epochs):\n",
        "    # monitor training loss\n",
        "    train_loss = 0.0\n",
        "    valid_loss = 0.0\n",
        "    \n",
        "    ###################\n",
        "    # train the model #\n",
        "    ###################\n",
        "    model.train() # prep model for training\n",
        "    for data, target in train_loader:\n",
        "        # clear the gradients of all optimized variables\n",
        "        optimizer.zero_grad()\n",
        "        # forward pass: compute predicted outputs by passing inputs to the model\n",
        "        output = model(data)\n",
        "        # calculate the loss\n",
        "        loss = criterion(output, target)\n",
        "        # backward pass: compute gradient of the loss with respect to model parameters\n",
        "        loss.backward()\n",
        "        # perform a single optimization step (parameter update)\n",
        "        optimizer.step()\n",
        "        # update running training loss\n",
        "        train_loss += loss.item()*data.size(0)\n",
        "        \n",
        "    ######################    \n",
        "    # validate the model #\n",
        "    ######################\n",
        "    model.eval() # prep model for evaluation\n",
        "    for data, target in valid_loader:\n",
        "        # forward pass: compute predicted outputs by passing inputs to the model\n",
        "        output = model(data)\n",
        "        # calculate the loss\n",
        "        loss = criterion(output, target)\n",
        "        # update running validation loss \n",
        "        valid_loss += loss.item()*data.size(0)\n",
        "        \n",
        "    # print training/validation statistics \n",
        "    # calculate average loss over an epoch\n",
        "    train_loss = train_loss/len(train_loader.dataset)\n",
        "    valid_loss = valid_loss/len(valid_loader.dataset)\n",
        "    \n",
        "    print('Epoch: {} \\tTraining Loss: {:.6f} \\tValidation Loss: {:.6f}'.format(\n",
        "        epoch+1, \n",
        "        train_loss,\n",
        "        valid_loss\n",
        "        ))\n",
        "    \n",
        "    # save model if validation loss has decreased\n",
        "    if valid_loss <= valid_loss_min:\n",
        "        print('Validation loss decreased ({:.6f} --> {:.6f}).  Saving model ...'.format(\n",
        "        valid_loss_min,\n",
        "        valid_loss))\n",
        "        torch.save(model.state_dict(), 'model.pt')\n",
        "        valid_loss_min = valid_loss"
      ]
    },
    {
      "cell_type": "markdown",
      "source": [
        "Load the Model with the Lowest Validation Loss"
      ],
      "metadata": {
        "id": "pnNm1XteYxKX"
      }
    },
    {
      "cell_type": "code",
      "source": [
        "model.load_state_dict(torch.load('model.pt'))"
      ],
      "metadata": {
        "colab": {
          "base_uri": "https://localhost:8080/",
          "height": 0
        },
        "id": "F6KRyp26YzZr",
        "outputId": "39c43c9e-8af4-4c7f-917a-6ac4f8c22094"
      },
      "execution_count": 131,
      "outputs": [
        {
          "output_type": "execute_result",
          "data": {
            "text/plain": [
              "<All keys matched successfully>"
            ]
          },
          "metadata": {},
          "execution_count": 131
        }
      ]
    },
    {
      "cell_type": "code",
      "execution_count": 132,
      "metadata": {
        "id": "BHTzDkm8NX1X"
      },
      "outputs": [],
      "source": [
        "test_loader = torch.utils.data.DataLoader(test_data, batch_size=1, \n",
        "    num_workers=num_workers)"
      ]
    },
    {
      "cell_type": "code",
      "execution_count": 133,
      "metadata": {
        "id": "0s7LOWpqqBJo"
      },
      "outputs": [],
      "source": [
        "def predict(model, dataloader):\n",
        "    prediction_list = []\n",
        "    for i, batch in enumerate(dataloader):\n",
        "        outputs = model(batch)\n",
        "        _, predicted = torch.max(outputs.data, 1) \n",
        "        #print(outputs.data)\n",
        "        #print(torch.max(outputs.data, 1))\n",
        "        prediction_list.append(predicted.cpu())\n",
        "    return prediction_list"
      ]
    },
    {
      "cell_type": "code",
      "execution_count": 134,
      "metadata": {
        "id": "YUOVVFx1qDGG"
      },
      "outputs": [],
      "source": [
        "predictions = predict(model,test_loader)"
      ]
    },
    {
      "cell_type": "code",
      "execution_count": 135,
      "metadata": {
        "colab": {
          "base_uri": "https://localhost:8080/",
          "height": 0
        },
        "id": "ahIMUYFGqKnM",
        "outputId": "6176c958-6b3f-49db-b13b-a90e3df06cd2"
      },
      "outputs": [
        {
          "output_type": "execute_result",
          "data": {
            "text/plain": [
              "20000"
            ]
          },
          "metadata": {},
          "execution_count": 135
        }
      ],
      "source": [
        "len(predictions)"
      ]
    },
    {
      "cell_type": "code",
      "execution_count": 136,
      "metadata": {
        "colab": {
          "base_uri": "https://localhost:8080/",
          "height": 0
        },
        "id": "YG0LUSfcq9L4",
        "outputId": "207c2bfd-0cfd-4f43-8307-a08e0caa82e7"
      },
      "outputs": [
        {
          "output_type": "execute_result",
          "data": {
            "text/plain": [
              "list"
            ]
          },
          "metadata": {},
          "execution_count": 136
        }
      ],
      "source": [
        "type(predictions[0].tolist())"
      ]
    },
    {
      "cell_type": "code",
      "execution_count": 137,
      "metadata": {
        "colab": {
          "base_uri": "https://localhost:8080/",
          "height": 0
        },
        "id": "17fR0aKproil",
        "outputId": "c4b8cc0f-574d-4485-b6af-6ae79e284d79"
      },
      "outputs": [
        {
          "output_type": "execute_result",
          "data": {
            "text/plain": [
              "0"
            ]
          },
          "metadata": {},
          "execution_count": 137
        }
      ],
      "source": [
        "predictions[0].tolist()[0]"
      ]
    },
    {
      "cell_type": "code",
      "execution_count": 138,
      "metadata": {
        "id": "L4PrGdSasUQ1"
      },
      "outputs": [],
      "source": [
        "# converting the list of tensors to a list of integers and adding 1 to change \n",
        "# from indices(0 to 4) to labels(1 to 5)\n",
        "\n",
        "pred=[]\n",
        "for i in predictions:\n",
        "  pred.append(i.tolist()[0]+1)"
      ]
    },
    {
      "cell_type": "code",
      "execution_count": 139,
      "metadata": {
        "id": "90U21l5ZsfTD"
      },
      "outputs": [],
      "source": [
        "#pred"
      ]
    },
    {
      "cell_type": "code",
      "execution_count": 140,
      "metadata": {
        "id": "LLhCGGchqMdq"
      },
      "outputs": [],
      "source": [
        "#predictions = np.array(predictions)"
      ]
    },
    {
      "cell_type": "code",
      "execution_count": 141,
      "metadata": {
        "id": "mvGgCzg6qU4m"
      },
      "outputs": [],
      "source": [
        "#predictions"
      ]
    },
    {
      "cell_type": "code",
      "execution_count": 142,
      "metadata": {
        "id": "wGivU0DHqWTf",
        "colab": {
          "base_uri": "https://localhost:8080/",
          "height": 0
        },
        "outputId": "8becc79e-c380-4945-b62b-2e28ba9ae34a"
      },
      "outputs": [
        {
          "output_type": "execute_result",
          "data": {
            "text/plain": [
              "pandas.core.series.Series"
            ]
          },
          "metadata": {},
          "execution_count": 142
        }
      ],
      "source": [
        "type(y_test)"
      ]
    },
    {
      "cell_type": "code",
      "execution_count": 143,
      "metadata": {
        "colab": {
          "base_uri": "https://localhost:8080/",
          "height": 0
        },
        "id": "3JHfAMnurKrY",
        "outputId": "c83d079c-16fb-4cfb-a21e-4309f4773098"
      },
      "outputs": [
        {
          "output_type": "stream",
          "name": "stdout",
          "text": [
            "              precision    recall  f1-score   support\n",
            "\n",
            "           1       0.58      0.63      0.61      3979\n",
            "           2       0.39      0.38      0.38      3995\n",
            "           3       0.42      0.38      0.40      3924\n",
            "           4       0.46      0.34      0.39      4049\n",
            "           5       0.61      0.78      0.69      4053\n",
            "\n",
            "    accuracy                           0.50     20000\n",
            "   macro avg       0.49      0.50      0.49     20000\n",
            "weighted avg       0.49      0.50      0.49     20000\n",
            "\n"
          ]
        }
      ],
      "source": [
        "print(classification_report(y_test,pred))"
      ]
    },
    {
      "cell_type": "code",
      "execution_count": 143,
      "metadata": {
        "id": "s7AZCwt3r3Wl"
      },
      "outputs": [],
      "source": []
    },
    {
      "cell_type": "markdown",
      "source": [
        "# 4(b)"
      ],
      "metadata": {
        "id": "Yp1mgVyG82_y"
      }
    },
    {
      "cell_type": "markdown",
      "source": [
        "Concatination of word vectors"
      ],
      "metadata": {
        "id": "XIPxXXRy9SZI"
      }
    },
    {
      "cell_type": "code",
      "source": [
        "X_concat=[]\n",
        "\n",
        "for lst in sentences:\n",
        "  try:\n",
        "    concat = wv[lst[0]]\n",
        "  except:\n",
        "    concat = np.zeros(300)\n",
        "  \n",
        "  for i in range(1,10):\n",
        "    \n",
        "    try:\n",
        "      concat = np.concatenate((concat,wv[lst[i]]))\n",
        "    except:\n",
        "      concat = np.concatenate((concat,np.zeros(300)))\n",
        "  \n",
        "  X_concat.append(concat)\n"
      ],
      "metadata": {
        "id": "sN98X9za85m6"
      },
      "execution_count": 144,
      "outputs": []
    },
    {
      "cell_type": "code",
      "source": [
        "X_concat[9].shape"
      ],
      "metadata": {
        "colab": {
          "base_uri": "https://localhost:8080/",
          "height": 0
        },
        "id": "YLef_EJna3y4",
        "outputId": "f42a2d08-e019-4d74-8739-9c4b778838f0"
      },
      "execution_count": 146,
      "outputs": [
        {
          "output_type": "execute_result",
          "data": {
            "text/plain": [
              "(3000,)"
            ]
          },
          "metadata": {},
          "execution_count": 146
        }
      ]
    },
    {
      "cell_type": "code",
      "source": [
        "len(X_concat)"
      ],
      "metadata": {
        "colab": {
          "base_uri": "https://localhost:8080/",
          "height": 0
        },
        "id": "00LdqvL_a8zu",
        "outputId": "c02a9eb0-cd8b-40e4-fedc-4178d46a55f7"
      },
      "execution_count": 147,
      "outputs": [
        {
          "output_type": "execute_result",
          "data": {
            "text/plain": [
              "100000"
            ]
          },
          "metadata": {},
          "execution_count": 147
        }
      ]
    },
    {
      "cell_type": "code",
      "source": [
        "len(X_concat[1])"
      ],
      "metadata": {
        "colab": {
          "base_uri": "https://localhost:8080/",
          "height": 0
        },
        "id": "lcPJIJdJ9Xaf",
        "outputId": "fd112337-e4a4-47d9-c90c-e225db05c441"
      },
      "execution_count": 148,
      "outputs": [
        {
          "output_type": "execute_result",
          "data": {
            "text/plain": [
              "3000"
            ]
          },
          "metadata": {},
          "execution_count": 148
        }
      ]
    },
    {
      "cell_type": "code",
      "source": [
        "X_train, X_test, y_train, y_test = train_test_split(X_concat, \n",
        "                                      newdf['star_rating'], test_size=0.2)"
      ],
      "metadata": {
        "id": "ycfKTruq9yR7"
      },
      "execution_count": 149,
      "outputs": []
    },
    {
      "cell_type": "code",
      "source": [
        "# one hot encoding the labels\n",
        "\n",
        "from sklearn.preprocessing import OneHotEncoder\n",
        "ohe    = OneHotEncoder(sparse=False)\n",
        "j= y_train.values.reshape(len(y_train),1)\n",
        "y_ohe = ohe.fit_transform(j)\n",
        "y_ohe.shape"
      ],
      "metadata": {
        "colab": {
          "base_uri": "https://localhost:8080/",
          "height": 0
        },
        "id": "Xd8DEi1O913i",
        "outputId": "e7510475-3cfb-463b-e09a-ccf807c35531"
      },
      "execution_count": 150,
      "outputs": [
        {
          "output_type": "execute_result",
          "data": {
            "text/plain": [
              "(80000, 5)"
            ]
          },
          "metadata": {},
          "execution_count": 150
        }
      ]
    },
    {
      "cell_type": "code",
      "source": [
        "train_data = TrainRW(X_train, y_ohe)\n",
        "test_data = TestRW(X_test, y_test)"
      ],
      "metadata": {
        "id": "PgxupngH969n"
      },
      "execution_count": 152,
      "outputs": []
    },
    {
      "cell_type": "code",
      "source": [
        "len(train_data[0][0])"
      ],
      "metadata": {
        "colab": {
          "base_uri": "https://localhost:8080/",
          "height": 0
        },
        "id": "QwDBZa5CAb-D",
        "outputId": "e057ff9e-ffe6-4b4a-d194-a2efdd936af1"
      },
      "execution_count": 153,
      "outputs": [
        {
          "output_type": "execute_result",
          "data": {
            "text/plain": [
              "3000"
            ]
          },
          "metadata": {},
          "execution_count": 153
        }
      ]
    },
    {
      "cell_type": "code",
      "source": [
        "# number of subprocesses to use for data loading\n",
        "num_workers = 0\n",
        "# how many samples per batch to load\n",
        "batch_size = 20\n",
        "# percentage of training set to use as validation\n",
        "valid_size = 0.2\n",
        "\n",
        "# convert data to torch.FloatTensor\n",
        "#transform = transforms.ToTensor()\n",
        "\n",
        "# obtain training indices that will be used for validation\n",
        "num_train = len(train_data)\n",
        "indices = list(range(num_train))\n",
        "np.random.shuffle(indices)\n",
        "split = int(np.floor(valid_size * num_train))\n",
        "train_idx, valid_idx = indices[split:], indices[:split]\n",
        "\n",
        "# define samplers for obtaining training and validation batches\n",
        "train_sampler = SubsetRandomSampler(train_idx)\n",
        "valid_sampler = SubsetRandomSampler(valid_idx)\n",
        "\n",
        "# prepare data loaders\n",
        "train_loader = torch.utils.data.DataLoader(train_data, batch_size=batch_size,\n",
        "    sampler=train_sampler, num_workers=num_workers,)\n",
        "valid_loader = torch.utils.data.DataLoader(train_data, batch_size=batch_size, \n",
        "    sampler=valid_sampler, num_workers=num_workers)\n",
        "test_loader = torch.utils.data.DataLoader(test_data, batch_size=batch_size, \n",
        "    num_workers=num_workers)"
      ],
      "metadata": {
        "id": "1i1gTcBr-Q5G"
      },
      "execution_count": 154,
      "outputs": []
    },
    {
      "cell_type": "code",
      "source": [
        "import torch.nn as nn\n",
        "import torch.nn.functional as F\n",
        "\n",
        "# define the NN architecture\n",
        "class Net(nn.Module):\n",
        "    def __init__(self):\n",
        "        super(Net, self).__init__()\n",
        "        # number of hidden nodes in each layer\n",
        "        hidden_1 = 50\n",
        "        hidden_2 = 10\n",
        "        # linear layer (3000 -> hidden_1)\n",
        "        self.fc1 = nn.Linear(3000, hidden_1)\n",
        "        # linear layer (n_hidden -> hidden_2)\n",
        "        self.fc2 = nn.Linear(hidden_1, hidden_2)\n",
        "        # linear layer (n_hidden -> 5)\n",
        "        self.fc3 = nn.Linear(hidden_2, 5)\n",
        "        # dropout layer (p=0.2)\n",
        "        # dropout prevents overfitting of data\n",
        "        self.dropout = nn.Dropout(0.2)\n",
        "\n",
        "    def forward(self, x):\n",
        "        # add hidden layer, with relu activation function\n",
        "        x = F.relu(self.fc1(x))\n",
        "        # add dropout layer\n",
        "        x = self.dropout(x)\n",
        "        # add hidden layer, with relu activation function\n",
        "        x = F.relu(self.fc2(x))\n",
        "        # add dropout layer\n",
        "        x = self.dropout(x)\n",
        "        # add output layer\n",
        "        x = self.fc3(x)\n",
        "        return x\n",
        "\n",
        "# initialize the NN\n",
        "model = Net()\n",
        "#model.cuda()\n",
        "print(model)"
      ],
      "metadata": {
        "colab": {
          "base_uri": "https://localhost:8080/",
          "height": 0
        },
        "id": "l8OiOJs5-RvJ",
        "outputId": "ee107a46-303d-4aea-f892-ca029b64be20"
      },
      "execution_count": 155,
      "outputs": [
        {
          "output_type": "stream",
          "name": "stdout",
          "text": [
            "Net(\n",
            "  (fc1): Linear(in_features=3000, out_features=50, bias=True)\n",
            "  (fc2): Linear(in_features=50, out_features=10, bias=True)\n",
            "  (fc3): Linear(in_features=10, out_features=5, bias=True)\n",
            "  (dropout): Dropout(p=0.2, inplace=False)\n",
            ")\n"
          ]
        }
      ]
    },
    {
      "cell_type": "code",
      "source": [
        "# specify loss function (categorical cross-entropy)\n",
        "criterion = nn.CrossEntropyLoss()\n",
        "\n",
        "# specify optimizer (stochastic gradient descent) and learning rate = 0.01\n",
        "\n",
        "#optimizer = torch.optim.SGD(model.parameters(), lr=0.01)\n",
        "\n",
        "optimizer = torch.optim.Adam(model.parameters(), lr=0.001)"
      ],
      "metadata": {
        "id": "kQ6KTSlNAMGs"
      },
      "execution_count": 194,
      "outputs": []
    },
    {
      "cell_type": "code",
      "source": [
        "# number of epochs to train the model\n",
        "n_epochs = 50\n",
        "\n",
        "# initialize tracker for minimum validation loss\n",
        "valid_loss_min = np.Inf # set initial \"min\" to infinity\n",
        "\n",
        "for epoch in range(n_epochs):\n",
        "    # monitor training loss\n",
        "    train_loss = 0.0\n",
        "    valid_loss = 0.0\n",
        "    \n",
        "    ###################\n",
        "    # train the model #\n",
        "    ###################\n",
        "    model.train() # prep model for training\n",
        "    for data, target in train_loader:\n",
        "        # clear the gradients of all optimized variables\n",
        "        optimizer.zero_grad()\n",
        "        # forward pass: compute predicted outputs by passing inputs to the model\n",
        "        output = model(data)\n",
        "        # calculate the loss\n",
        "        loss = criterion(output, target)\n",
        "        # backward pass: compute gradient of the loss with respect to model parameters\n",
        "        loss.backward()\n",
        "        # perform a single optimization step (parameter update)\n",
        "        optimizer.step()\n",
        "        # update running training loss\n",
        "        train_loss += loss.item()*data.size(0)\n",
        "        \n",
        "    ######################    \n",
        "    # validate the model #\n",
        "    ######################\n",
        "    model.eval() # prep model for evaluation\n",
        "    for data, target in valid_loader:\n",
        "        # forward pass: compute predicted outputs by passing inputs to the model\n",
        "        output = model(data)\n",
        "        # calculate the loss\n",
        "        loss = criterion(output, target)\n",
        "        # update running validation loss \n",
        "        valid_loss += loss.item()*data.size(0)\n",
        "        \n",
        "    # print training/validation statistics \n",
        "    # calculate average loss over an epoch\n",
        "    train_loss = train_loss/len(train_loader.dataset)\n",
        "    valid_loss = valid_loss/len(valid_loader.dataset)\n",
        "    \n",
        "    print('Epoch: {} \\tTraining Loss: {:.6f} \\tValidation Loss: {:.6f}'.format(\n",
        "        epoch+1, \n",
        "        train_loss,\n",
        "        valid_loss\n",
        "        ))\n",
        "    \n",
        "    # save model if validation loss has decreased\n",
        "    if valid_loss <= valid_loss_min:\n",
        "        print('Validation loss decreased ({:.6f} --> {:.6f}).  Saving model ...'.format(\n",
        "        valid_loss_min,\n",
        "        valid_loss))\n",
        "        torch.save(model.state_dict(), 'model2.pt')\n",
        "        valid_loss_min = valid_loss"
      ],
      "metadata": {
        "colab": {
          "base_uri": "https://localhost:8080/",
          "height": 0
        },
        "id": "Di_5cn_1AR9M",
        "outputId": "12e324c8-58c3-4ad7-d139-9e94a549f965"
      },
      "execution_count": 195,
      "outputs": [
        {
          "output_type": "stream",
          "name": "stdout",
          "text": [
            "Epoch: 1 \tTraining Loss: 0.972874 \tValidation Loss: 0.268727\n",
            "Validation loss decreased (inf --> 0.268727).  Saving model ...\n",
            "Epoch: 2 \tTraining Loss: 0.943562 \tValidation Loss: 0.272710\n",
            "Epoch: 3 \tTraining Loss: 0.922142 \tValidation Loss: 0.274256\n",
            "Epoch: 4 \tTraining Loss: 0.902834 \tValidation Loss: 0.278536\n",
            "Epoch: 5 \tTraining Loss: 0.887126 \tValidation Loss: 0.283988\n",
            "Epoch: 6 \tTraining Loss: 0.872651 \tValidation Loss: 0.291932\n",
            "Epoch: 7 \tTraining Loss: 0.858009 \tValidation Loss: 0.296557\n",
            "Epoch: 8 \tTraining Loss: 0.845718 \tValidation Loss: 0.302367\n",
            "Epoch: 9 \tTraining Loss: 0.835409 \tValidation Loss: 0.308386\n",
            "Epoch: 10 \tTraining Loss: 0.824048 \tValidation Loss: 0.314525\n",
            "Epoch: 11 \tTraining Loss: 0.813987 \tValidation Loss: 0.319673\n",
            "Epoch: 12 \tTraining Loss: 0.806649 \tValidation Loss: 0.327686\n",
            "Epoch: 13 \tTraining Loss: 0.796446 \tValidation Loss: 0.337366\n",
            "Epoch: 14 \tTraining Loss: 0.788575 \tValidation Loss: 0.339223\n",
            "Epoch: 15 \tTraining Loss: 0.783078 \tValidation Loss: 0.346340\n",
            "Epoch: 16 \tTraining Loss: 0.775610 \tValidation Loss: 0.353770\n",
            "Epoch: 17 \tTraining Loss: 0.769787 \tValidation Loss: 0.358418\n",
            "Epoch: 18 \tTraining Loss: 0.760064 \tValidation Loss: 0.370369\n",
            "Epoch: 19 \tTraining Loss: 0.754722 \tValidation Loss: 0.374442\n",
            "Epoch: 20 \tTraining Loss: 0.750260 \tValidation Loss: 0.378868\n",
            "Epoch: 21 \tTraining Loss: 0.742816 \tValidation Loss: 0.388220\n",
            "Epoch: 22 \tTraining Loss: 0.738691 \tValidation Loss: 0.394653\n",
            "Epoch: 23 \tTraining Loss: 0.731827 \tValidation Loss: 0.402281\n",
            "Epoch: 24 \tTraining Loss: 0.729955 \tValidation Loss: 0.410077\n",
            "Epoch: 25 \tTraining Loss: 0.723210 \tValidation Loss: 0.416275\n",
            "Epoch: 26 \tTraining Loss: 0.717560 \tValidation Loss: 0.422274\n",
            "Epoch: 27 \tTraining Loss: 0.712651 \tValidation Loss: 0.435279\n",
            "Epoch: 28 \tTraining Loss: 0.713757 \tValidation Loss: 0.434448\n",
            "Epoch: 29 \tTraining Loss: 0.709271 \tValidation Loss: 0.430369\n",
            "Epoch: 30 \tTraining Loss: 0.700572 \tValidation Loss: 0.456926\n",
            "Epoch: 31 \tTraining Loss: 0.698394 \tValidation Loss: 0.455068\n",
            "Epoch: 32 \tTraining Loss: 0.698128 \tValidation Loss: 0.460590\n",
            "Epoch: 33 \tTraining Loss: 0.690147 \tValidation Loss: 0.471699\n",
            "Epoch: 34 \tTraining Loss: 0.688372 \tValidation Loss: 0.479182\n",
            "Epoch: 35 \tTraining Loss: 0.685829 \tValidation Loss: 0.477836\n",
            "Epoch: 36 \tTraining Loss: 0.683300 \tValidation Loss: 0.485278\n",
            "Epoch: 37 \tTraining Loss: 0.675678 \tValidation Loss: 0.505269\n",
            "Epoch: 38 \tTraining Loss: 0.671820 \tValidation Loss: 0.499599\n",
            "Epoch: 39 \tTraining Loss: 0.671362 \tValidation Loss: 0.511632\n",
            "Epoch: 40 \tTraining Loss: 0.670190 \tValidation Loss: 0.515840\n",
            "Epoch: 41 \tTraining Loss: 0.666024 \tValidation Loss: 0.516727\n",
            "Epoch: 42 \tTraining Loss: 0.662848 \tValidation Loss: 0.531574\n",
            "Epoch: 43 \tTraining Loss: 0.661143 \tValidation Loss: 0.533740\n",
            "Epoch: 44 \tTraining Loss: 0.658117 \tValidation Loss: 0.537116\n",
            "Epoch: 45 \tTraining Loss: 0.652089 \tValidation Loss: 0.549448\n",
            "Epoch: 46 \tTraining Loss: 0.654102 \tValidation Loss: 0.551281\n",
            "Epoch: 47 \tTraining Loss: 0.651636 \tValidation Loss: 0.559696\n",
            "Epoch: 48 \tTraining Loss: 0.649096 \tValidation Loss: 0.561673\n",
            "Epoch: 49 \tTraining Loss: 0.644187 \tValidation Loss: 0.577710\n",
            "Epoch: 50 \tTraining Loss: 0.643783 \tValidation Loss: 0.577970\n"
          ]
        }
      ]
    },
    {
      "cell_type": "code",
      "source": [
        "model.load_state_dict(torch.load('model2.pt'))"
      ],
      "metadata": {
        "colab": {
          "base_uri": "https://localhost:8080/",
          "height": 0
        },
        "id": "IF4GzfyAb9eu",
        "outputId": "3acc016b-caf5-42aa-fa6c-b1d400359dc9"
      },
      "execution_count": 207,
      "outputs": [
        {
          "output_type": "execute_result",
          "data": {
            "text/plain": [
              "<All keys matched successfully>"
            ]
          },
          "metadata": {},
          "execution_count": 207
        }
      ]
    },
    {
      "cell_type": "code",
      "source": [
        "test_loader = torch.utils.data.DataLoader(test_data, batch_size=1, \n",
        "    num_workers=num_workers)"
      ],
      "metadata": {
        "id": "9ngD8VmdArTH"
      },
      "execution_count": 208,
      "outputs": []
    },
    {
      "cell_type": "code",
      "source": [
        "def predict(model, dataloader):\n",
        "    prediction_list = []\n",
        "    for i, batch in enumerate(dataloader):\n",
        "        outputs = model(batch)\n",
        "        _, predicted = torch.max(outputs.data, 1) \n",
        "        #print(outputs.data)\n",
        "        #print(torch.max(outputs.data, 1))\n",
        "        prediction_list.append(predicted.cpu())\n",
        "    return prediction_list"
      ],
      "metadata": {
        "id": "3rug8AwNBP4d"
      },
      "execution_count": 209,
      "outputs": []
    },
    {
      "cell_type": "code",
      "source": [
        "predictions = predict(model,test_loader)"
      ],
      "metadata": {
        "id": "yVG4aTwABdFJ"
      },
      "execution_count": 210,
      "outputs": []
    },
    {
      "cell_type": "code",
      "source": [
        "#converting the list of tensors to a list of integers and adding 1 to change from \n",
        "#indices(0 to 4) to labels(1 to 5)\n",
        "\n",
        "pred=[]\n",
        "for i in predictions:\n",
        "  pred.append(i.tolist()[0]+1)"
      ],
      "metadata": {
        "id": "DnIlP4IbBgzT"
      },
      "execution_count": 211,
      "outputs": []
    },
    {
      "cell_type": "code",
      "source": [
        "print(classification_report(y_test,pred))"
      ],
      "metadata": {
        "colab": {
          "base_uri": "https://localhost:8080/",
          "height": 0
        },
        "id": "GjuPHyDOBnvF",
        "outputId": "e5d8a0a4-fc10-483a-96a8-145ec4eb19fc"
      },
      "execution_count": 212,
      "outputs": [
        {
          "output_type": "stream",
          "name": "stdout",
          "text": [
            "              precision    recall  f1-score   support\n",
            "\n",
            "           1       0.46      0.50      0.48      3996\n",
            "           2       0.33      0.27      0.30      4048\n",
            "           3       0.34      0.35      0.34      3966\n",
            "           4       0.36      0.23      0.28      4022\n",
            "           5       0.48      0.70      0.57      3968\n",
            "\n",
            "    accuracy                           0.41     20000\n",
            "   macro avg       0.39      0.41      0.39     20000\n",
            "weighted avg       0.39      0.41      0.39     20000\n",
            "\n"
          ]
        }
      ]
    },
    {
      "cell_type": "code",
      "source": [],
      "metadata": {
        "id": "p1fUzlCNBwUP"
      },
      "execution_count": null,
      "outputs": []
    },
    {
      "cell_type": "markdown",
      "source": [
        "**CONCLUSION**"
      ],
      "metadata": {
        "id": "dMqdclp5kavQ"
      }
    },
    {
      "cell_type": "markdown",
      "source": [
        "The feedforward neural networks got an accuracy of 50% and 41% for the average and concatenated word2vec vectors respectively. This is very close to the accuracies we got for the Perceptron and SVM models (39% and 48% respectively).\n",
        "\n",
        "Thus, the neural networks do not provide any significant improvement over the \"Simple Models\" for this classification problem.\n",
        "\n",
        "Also, the performance we got for the  average Word2Vec vectors with FNN, closely aligns with the performance we got for SVM, and the performance we got for the  concatenated Word2Vec vectors with FNN resembles that of Perceptron.  "
      ],
      "metadata": {
        "id": "9tyJHUfwkdat"
      }
    },
    {
      "cell_type": "markdown",
      "source": [
        "# 5. Recurrent Neural Networks"
      ],
      "metadata": {
        "id": "jWBc3aIXHRF5"
      }
    },
    {
      "cell_type": "markdown",
      "source": [
        "# **If the system crashes restart from here for the rest of the assignment.**"
      ],
      "metadata": {
        "id": "KrMcNt5iqvkQ"
      }
    },
    {
      "cell_type": "markdown",
      "source": [
        "Used \n",
        "https://pytorch.org/tutorials/intermediate/char_rnn_classification_tutorial.html as reference"
      ],
      "metadata": {
        "id": "sGo3mGT4oMNR"
      }
    },
    {
      "cell_type": "markdown",
      "source": [
        "preparing input"
      ],
      "metadata": {
        "id": "GC2P3RiA9IwO"
      }
    },
    {
      "cell_type": "code",
      "source": [
        "import torch"
      ],
      "metadata": {
        "id": "YqHbV5oWh2PK"
      },
      "execution_count": 1,
      "outputs": []
    },
    {
      "cell_type": "code",
      "source": [
        "device = torch.device('cuda' if torch.cuda.is_available() else 'cpu')"
      ],
      "metadata": {
        "id": "3Xp07uLnH6UH"
      },
      "execution_count": 2,
      "outputs": []
    },
    {
      "cell_type": "code",
      "source": [
        "torch.cuda.device_count()"
      ],
      "metadata": {
        "colab": {
          "base_uri": "https://localhost:8080/"
        },
        "id": "hHa-F3EHLc9h",
        "outputId": "5e273a83-f339-423d-9cdc-527eeb707327"
      },
      "execution_count": 3,
      "outputs": [
        {
          "output_type": "execute_result",
          "data": {
            "text/plain": [
              "1"
            ]
          },
          "metadata": {},
          "execution_count": 3
        }
      ]
    },
    {
      "cell_type": "code",
      "source": [
        "#torch.cuda.get_device_name(0)"
      ],
      "metadata": {
        "id": "KJWdgAqyLgQz"
      },
      "execution_count": 4,
      "outputs": []
    },
    {
      "cell_type": "code",
      "source": [
        "import pandas as pd\n",
        "import numpy as np\n",
        "\n",
        "!pip install --upgrade gensim\n",
        "import gensim.downloader as api\n",
        "wv = api.load('word2vec-google-news-300')"
      ],
      "metadata": {
        "colab": {
          "base_uri": "https://localhost:8080/"
        },
        "id": "DxB9-bNV99bE",
        "outputId": "3f05d314-8371-44ab-f2d8-f84ec6f78967"
      },
      "execution_count": 5,
      "outputs": [
        {
          "output_type": "stream",
          "name": "stdout",
          "text": [
            "Looking in indexes: https://pypi.org/simple, https://us-python.pkg.dev/colab-wheels/public/simple/\n",
            "Requirement already satisfied: gensim in /usr/local/lib/python3.7/dist-packages (3.6.0)\n",
            "Collecting gensim\n",
            "  Downloading gensim-4.2.0-cp37-cp37m-manylinux_2_12_x86_64.manylinux2010_x86_64.whl (24.1 MB)\n",
            "\u001b[K     |████████████████████████████████| 24.1 MB 1.4 MB/s \n",
            "\u001b[?25hRequirement already satisfied: scipy>=0.18.1 in /usr/local/lib/python3.7/dist-packages (from gensim) (1.7.3)\n",
            "Requirement already satisfied: smart-open>=1.8.1 in /usr/local/lib/python3.7/dist-packages (from gensim) (5.2.1)\n",
            "Requirement already satisfied: numpy>=1.17.0 in /usr/local/lib/python3.7/dist-packages (from gensim) (1.21.6)\n",
            "Installing collected packages: gensim\n",
            "  Attempting uninstall: gensim\n",
            "    Found existing installation: gensim 3.6.0\n",
            "    Uninstalling gensim-3.6.0:\n",
            "      Successfully uninstalled gensim-3.6.0\n",
            "Successfully installed gensim-4.2.0\n",
            "[==================================================] 100.0% 1662.8/1662.8MB downloaded\n"
          ]
        }
      ]
    },
    {
      "cell_type": "code",
      "source": [
        "newdf = pd.read_csv(\"cleaneddata.csv\")\n",
        "#newdf = newdf[['star_rating','review_body']]\n",
        "newdf\n",
        "\n",
        "newdf['review_body'] = newdf['review_body'].str.split()\n",
        "newdf['review_body']\n",
        "\n",
        "\n",
        "sentences = newdf['review_body'].tolist()\n",
        "#sentences\n",
        "\n"
      ],
      "metadata": {
        "id": "RenB1nbu9LQn"
      },
      "execution_count": 14,
      "outputs": []
    },
    {
      "cell_type": "code",
      "source": [
        "newdf.isnull().sum()"
      ],
      "metadata": {
        "colab": {
          "base_uri": "https://localhost:8080/"
        },
        "id": "deA-vGowcf1Y",
        "outputId": "54f75246-5939-48f5-a78d-cc71264d5b2a"
      },
      "execution_count": 15,
      "outputs": [
        {
          "output_type": "execute_result",
          "data": {
            "text/plain": [
              "star_rating    0\n",
              "review_body    0\n",
              "dtype: int64"
            ]
          },
          "metadata": {},
          "execution_count": 15
        }
      ]
    },
    {
      "cell_type": "markdown",
      "source": [
        "preparing data"
      ],
      "metadata": {
        "id": "hDd3U3yQl8hZ"
      }
    },
    {
      "cell_type": "code",
      "source": [
        "batch_size = 1\n",
        "\n",
        "X_rnn=[]\n",
        "\n",
        "for lst in sentences:\n",
        "  #print(lst)\n",
        "  t = torch.zeros(20, batch_size, 300).to(device)\n",
        "  for i in range(20):\n",
        "    \n",
        "    try:\n",
        "      #print(t[i][0])\n",
        "      t[i][0] = torch.from_numpy(wv[lst[i]])\n",
        "      #print(wv[lst[i]])\n",
        "      #print(t[i][0])\n",
        "    except:\n",
        "      pass\n",
        "  #print(t)\n",
        "  X_rnn.append(t)\n"
      ],
      "metadata": {
        "id": "01mdxv9Rl-5V"
      },
      "execution_count": 16,
      "outputs": []
    },
    {
      "cell_type": "code",
      "source": [
        "X_rnn[0].is_cuda"
      ],
      "metadata": {
        "colab": {
          "base_uri": "https://localhost:8080/"
        },
        "id": "Wu4BAKCgImP-",
        "outputId": "7042593a-dab6-4a33-a463-7c1bad9941fd"
      },
      "execution_count": 9,
      "outputs": [
        {
          "output_type": "execute_result",
          "data": {
            "text/plain": [
              "False"
            ]
          },
          "metadata": {},
          "execution_count": 9
        }
      ]
    },
    {
      "cell_type": "code",
      "source": [
        "len(X_rnn)"
      ],
      "metadata": {
        "colab": {
          "base_uri": "https://localhost:8080/"
        },
        "id": "TU7fpanVp3m_",
        "outputId": "151db788-ad2d-4065-ff17-e24c866fed29"
      },
      "execution_count": 10,
      "outputs": [
        {
          "output_type": "execute_result",
          "data": {
            "text/plain": [
              "100000"
            ]
          },
          "metadata": {},
          "execution_count": 10
        }
      ]
    },
    {
      "cell_type": "code",
      "source": [
        "X_rnn[1][2][0]"
      ],
      "metadata": {
        "id": "swT5h-wy-4pP",
        "colab": {
          "base_uri": "https://localhost:8080/"
        },
        "outputId": "7dbe99cb-a149-48cb-a7dc-5e1da74baa19"
      },
      "execution_count": 11,
      "outputs": [
        {
          "output_type": "execute_result",
          "data": {
            "text/plain": [
              "tensor([-0.3008,  0.0737,  0.0972, -0.1318,  0.3281,  0.1797,  0.0593,  0.0581,\n",
              "        -0.0791,  0.2676, -0.0952,  0.1592,  0.1719, -0.1167,  0.2275, -0.0645,\n",
              "         0.0228,  0.1797, -0.0033, -0.0437, -0.4336, -0.0820, -0.1738,  0.0479,\n",
              "        -0.2100,  0.0337, -0.2178,  0.3359,  0.1680, -0.0286, -0.1582,  0.1729,\n",
              "         0.0272, -0.0542, -0.1445, -0.0085,  0.1514,  0.1445, -0.4043,  0.0967,\n",
              "         0.3828,  0.0723,  0.2002, -0.3262, -0.0175, -0.0815, -0.1006,  0.1226,\n",
              "         0.2041, -0.5664,  0.0447, -0.0618, -0.0669, -0.1865,  0.2031,  0.2070,\n",
              "        -0.0698, -0.0339, -0.0449,  0.1426,  0.0498,  0.1328, -0.2695, -0.1855,\n",
              "         0.0593, -0.0527, -0.0635,  0.3535, -0.0615,  0.4766,  0.0415,  0.0284,\n",
              "         0.0654, -0.2061, -0.3359, -0.0227, -0.0276, -0.2969,  0.2598, -0.1240,\n",
              "         0.0117, -0.0186, -0.0057,  0.1729, -0.0554,  0.1377,  0.1943,  0.3633,\n",
              "         0.2910,  0.1133, -0.0649, -0.0165, -0.0107,  0.4355, -0.1846, -0.2812,\n",
              "         0.0801,  0.0364,  0.3770,  0.0154,  0.0086,  0.1035,  0.2002, -0.4590,\n",
              "         0.0991,  0.1729,  0.1514, -0.0188, -0.0996, -0.3926, -0.0050, -0.3242,\n",
              "         0.1660,  0.1992, -0.1904,  0.1426,  0.1426, -0.1357, -0.0457, -0.1807,\n",
              "         0.0952, -0.1147, -0.2031,  0.0742,  0.1533, -0.0200,  0.3477, -0.1504,\n",
              "        -0.0305,  0.2988,  0.0027,  0.1396,  0.1426,  0.3633, -0.1123,  0.2393,\n",
              "        -0.1064, -0.2539,  0.0835, -0.0036,  0.1177,  0.1104, -0.0835, -0.0928,\n",
              "        -0.1875,  0.1216,  0.1006, -0.2656, -0.1816,  0.1641,  0.0271,  0.0383,\n",
              "        -0.1719,  0.2451, -0.1943, -0.2158, -0.4570, -0.1475,  0.1226,  0.1504,\n",
              "         0.1260,  0.0420,  0.2676, -0.2520,  0.0457,  0.0366,  0.2422, -0.1187,\n",
              "        -0.0283, -0.0820, -0.1260, -0.1953, -0.1709,  0.1992, -0.0684,  0.1060,\n",
              "         0.0352, -0.1030, -0.2930,  0.0466, -0.3457, -0.3184, -0.0270, -0.1699,\n",
              "        -0.0791, -0.2412,  0.0540, -0.0757, -0.0354,  0.0713,  0.0942, -0.2012,\n",
              "        -0.1436, -0.2041, -0.2598,  0.1621, -0.0510,  0.0977,  0.0325, -0.1348,\n",
              "         0.1729, -0.0427, -0.1777,  0.3887,  0.2852, -0.0596, -0.0320, -0.2969,\n",
              "         0.1465,  0.1494, -0.2490,  0.1582, -0.2334,  0.0854, -0.1709,  0.0796,\n",
              "         0.1533, -0.0347,  0.0147,  0.3164, -0.0593,  0.0786,  0.1377,  0.1699,\n",
              "        -0.1299,  0.0894, -0.0605,  0.1875,  0.1348, -0.3516,  0.0591,  0.0043,\n",
              "        -0.1357, -0.0972, -0.1108,  0.1079, -0.0659, -0.1240, -0.0078,  0.2031,\n",
              "         0.0781,  0.0035, -0.0260, -0.2383, -0.1328, -0.0811, -0.0060, -0.0302,\n",
              "        -0.0723, -0.0508,  0.2832, -0.0393,  0.0869,  0.1748,  0.1855, -0.0320,\n",
              "         0.0272, -0.1387, -0.0330,  0.0182,  0.0835,  0.2334, -0.1514, -0.1377,\n",
              "         0.0223,  0.0850,  0.0474,  0.0889,  0.0146,  0.0364,  0.1084, -0.1592,\n",
              "         0.0084, -0.1084,  0.0610, -0.1016,  0.0339, -0.0034,  0.0173,  0.0481,\n",
              "         0.0957,  0.0894,  0.0305,  0.3555, -0.2188, -0.2754, -0.2061,  0.1523,\n",
              "         0.0435,  0.0957, -0.0564, -0.1641, -0.2324, -0.1196,  0.1934, -0.2217,\n",
              "        -0.3203,  0.0376, -0.0986, -0.1846])"
            ]
          },
          "metadata": {},
          "execution_count": 11
        }
      ]
    },
    {
      "cell_type": "code",
      "source": [
        "X_rnn[0].shape"
      ],
      "metadata": {
        "colab": {
          "base_uri": "https://localhost:8080/"
        },
        "id": "yZTpV-byDSxo",
        "outputId": "8bb4356d-517c-4a58-8a0f-0d9aea5c68a8"
      },
      "execution_count": 12,
      "outputs": [
        {
          "output_type": "execute_result",
          "data": {
            "text/plain": [
              "torch.Size([20, 1, 300])"
            ]
          },
          "metadata": {},
          "execution_count": 12
        }
      ]
    },
    {
      "cell_type": "code",
      "source": [
        "#torch.zeros(2,1,10)"
      ],
      "metadata": {
        "id": "7zHlL08T7QKT"
      },
      "execution_count": 13,
      "outputs": []
    },
    {
      "cell_type": "code",
      "source": [
        "type(X_rnn[0][0][0])"
      ],
      "metadata": {
        "id": "rxlPTBSt7Uo1",
        "colab": {
          "base_uri": "https://localhost:8080/"
        },
        "outputId": "ab312e32-9729-4ff6-82a9-b9360b911087"
      },
      "execution_count": 14,
      "outputs": [
        {
          "output_type": "execute_result",
          "data": {
            "text/plain": [
              "torch.Tensor"
            ]
          },
          "metadata": {},
          "execution_count": 14
        }
      ]
    },
    {
      "cell_type": "markdown",
      "source": [
        "Splitting the data"
      ],
      "metadata": {
        "id": "fDmGzBSZPH8w"
      }
    },
    {
      "cell_type": "code",
      "source": [
        "from sklearn.model_selection import train_test_split"
      ],
      "metadata": {
        "id": "5aov9QXaPJqT"
      },
      "execution_count": 17,
      "outputs": []
    },
    {
      "cell_type": "code",
      "source": [
        "X_train, X_test, y_train, y_test = train_test_split(X_rnn, \n",
        "                                      newdf['star_rating'], test_size=0.2)"
      ],
      "metadata": {
        "id": "MaR4ybIfPK9J"
      },
      "execution_count": 18,
      "outputs": []
    },
    {
      "cell_type": "code",
      "source": [
        "# from sklearn.preprocessing import OneHotEncoder\n",
        "# ohe    = OneHotEncoder(sparse=False)\n",
        "# j= y_train.values.reshape(len(y_train),1)\n",
        "# y_ohe = ohe.fit_transform(j)\n",
        "# y_ohe.shape"
      ],
      "metadata": {
        "id": "QIor8xJoP9Gc"
      },
      "execution_count": 19,
      "outputs": []
    },
    {
      "cell_type": "code",
      "source": [
        "y_tensor=[]\n",
        "for i in y_train:\n",
        "   y_tensor.append(torch.tensor([i-1]).to(device))"
      ],
      "metadata": {
        "id": "3JwowXPPWRcX"
      },
      "execution_count": 20,
      "outputs": []
    },
    {
      "cell_type": "code",
      "source": [
        "type(y_tensor[0])"
      ],
      "metadata": {
        "colab": {
          "base_uri": "https://localhost:8080/"
        },
        "id": "F53Hf983Rv32",
        "outputId": "c269048e-aea0-4993-facc-983a44bb01dc"
      },
      "execution_count": 19,
      "outputs": [
        {
          "output_type": "execute_result",
          "data": {
            "text/plain": [
              "torch.Tensor"
            ]
          },
          "metadata": {},
          "execution_count": 19
        }
      ]
    },
    {
      "cell_type": "code",
      "source": [
        "y_tensor[0].is_cuda"
      ],
      "metadata": {
        "colab": {
          "base_uri": "https://localhost:8080/"
        },
        "id": "L7r2sd5WJyDX",
        "outputId": "7467aec7-d0f1-4274-f8d3-320befc42906"
      },
      "execution_count": 20,
      "outputs": [
        {
          "output_type": "execute_result",
          "data": {
            "text/plain": [
              "False"
            ]
          },
          "metadata": {},
          "execution_count": 20
        }
      ]
    },
    {
      "cell_type": "code",
      "source": [
        "X_train[1].size()"
      ],
      "metadata": {
        "colab": {
          "base_uri": "https://localhost:8080/"
        },
        "id": "mXonc5KHQslX",
        "outputId": "51c22350-e405-404d-e5bf-c8565f1316a1"
      },
      "execution_count": 21,
      "outputs": [
        {
          "output_type": "execute_result",
          "data": {
            "text/plain": [
              "torch.Size([20, 1, 300])"
            ]
          },
          "metadata": {},
          "execution_count": 21
        }
      ]
    },
    {
      "cell_type": "markdown",
      "source": [
        "# 5 (a)"
      ],
      "metadata": {
        "id": "JB-3DiOI-qvd"
      }
    },
    {
      "cell_type": "markdown",
      "source": [
        "Building the RNN"
      ],
      "metadata": {
        "id": "yT_-EV9j_A_u"
      }
    },
    {
      "cell_type": "code",
      "source": [
        "import torch.nn as nn\n",
        "\n",
        "class RNN(nn.Module):\n",
        "    def __init__(self, input_size, hidden_size, output_size):\n",
        "        super(RNN, self).__init__()\n",
        "\n",
        "        self.hidden_size = hidden_size\n",
        "\n",
        "        self.i2h = nn.Linear(input_size + hidden_size, hidden_size)\n",
        "        self.i2o = nn.Linear(input_size + hidden_size, output_size)\n",
        "        self.softmax = nn.LogSoftmax(dim=1)\n",
        "\n",
        "    def forward(self, input, hidden):\n",
        "        combined = torch.cat((input, hidden), 1)\n",
        "        hidden = self.i2h(combined)\n",
        "        output = self.i2o(combined)\n",
        "        output = self.softmax(output)\n",
        "        return output, hidden\n",
        "\n",
        "    def initHidden(self):\n",
        "        return torch.zeros(1, self.hidden_size)\n",
        "\n",
        "n_hidden = 20\n",
        "rnn = RNN(300, n_hidden, 5)"
      ],
      "metadata": {
        "id": "Jb-3m5l2_DO4"
      },
      "execution_count": 50,
      "outputs": []
    },
    {
      "cell_type": "markdown",
      "source": [
        "testing on a single input word"
      ],
      "metadata": {
        "id": "gNcwnttQKQvo"
      }
    },
    {
      "cell_type": "code",
      "source": [
        "input = X_rnn[70][1]\n",
        "hidden = torch.zeros(1, 20)\n",
        "\n",
        "output, next_hidden = rnn(input, hidden)"
      ],
      "metadata": {
        "id": "ZdgnC9MmE7xZ"
      },
      "execution_count": 51,
      "outputs": []
    },
    {
      "cell_type": "code",
      "source": [
        "input.shape"
      ],
      "metadata": {
        "colab": {
          "base_uri": "https://localhost:8080/"
        },
        "id": "iqWCkELXGYe2",
        "outputId": "44e892c0-ce74-4bed-89a5-3c2f0d13fbf2"
      },
      "execution_count": 52,
      "outputs": [
        {
          "output_type": "execute_result",
          "data": {
            "text/plain": [
              "torch.Size([1, 300])"
            ]
          },
          "metadata": {},
          "execution_count": 52
        }
      ]
    },
    {
      "cell_type": "code",
      "source": [
        "next_hidden"
      ],
      "metadata": {
        "colab": {
          "base_uri": "https://localhost:8080/"
        },
        "id": "ui54--mH3WPw",
        "outputId": "946f1cdd-7658-4345-b97b-7bf45e32be8a"
      },
      "execution_count": 53,
      "outputs": [
        {
          "output_type": "execute_result",
          "data": {
            "text/plain": [
              "tensor([[-0.0510,  0.0822, -0.0475, -0.0424,  0.0198, -0.0118, -0.0505, -0.1642,\n",
              "          0.0293, -0.0511, -0.0993, -0.0210, -0.0721,  0.0308,  0.0806,  0.0274,\n",
              "          0.0301,  0.0286, -0.0825, -0.1470]], grad_fn=<AddmmBackward0>)"
            ]
          },
          "metadata": {},
          "execution_count": 53
        }
      ]
    },
    {
      "cell_type": "code",
      "source": [
        "output"
      ],
      "metadata": {
        "colab": {
          "base_uri": "https://localhost:8080/"
        },
        "id": "2z-3XyFUG5N8",
        "outputId": "9c380093-33d0-4773-fa32-7ab9540231a7"
      },
      "execution_count": 54,
      "outputs": [
        {
          "output_type": "execute_result",
          "data": {
            "text/plain": [
              "tensor([[-1.6628, -1.5736, -1.5548, -1.6330, -1.6269]],\n",
              "       grad_fn=<LogSoftmaxBackward0>)"
            ]
          },
          "metadata": {},
          "execution_count": 54
        }
      ]
    },
    {
      "cell_type": "markdown",
      "source": [
        "understanding the working of topk funtion"
      ],
      "metadata": {
        "id": "iH6jJSURKV3E"
      }
    },
    {
      "cell_type": "code",
      "source": [
        "x = torch.arange(1., 6.)\n",
        "print(x)\n",
        "top_n, top_i = torch.topk(x, 1)"
      ],
      "metadata": {
        "colab": {
          "base_uri": "https://localhost:8080/"
        },
        "id": "GVaH4rchHDmC",
        "outputId": "8a4dea52-efbe-4e87-f3c3-5ee0fa6c3ceb"
      },
      "execution_count": 55,
      "outputs": [
        {
          "output_type": "stream",
          "name": "stdout",
          "text": [
            "tensor([1., 2., 3., 4., 5.])\n"
          ]
        }
      ]
    },
    {
      "cell_type": "code",
      "source": [
        "top_i[0].item()+1\n"
      ],
      "metadata": {
        "colab": {
          "base_uri": "https://localhost:8080/"
        },
        "id": "wiEKqKmvJcEN",
        "outputId": "07e13abb-7f53-4539-8e4a-61f124adce9e"
      },
      "execution_count": 56,
      "outputs": [
        {
          "output_type": "execute_result",
          "data": {
            "text/plain": [
              "5"
            ]
          },
          "metadata": {},
          "execution_count": 56
        }
      ]
    },
    {
      "cell_type": "code",
      "source": [
        "# def categoryFromOutput(output):\n",
        "#     top_n, top_i = output.topk(1)\n",
        "#     category_i = top_i[0].item()\n",
        "#     return category_i+1"
      ],
      "metadata": {
        "id": "7HiCf8kfJ0oT"
      },
      "execution_count": 57,
      "outputs": []
    },
    {
      "cell_type": "code",
      "source": [
        "#defining loss function\n",
        "criterion = nn.NLLLoss()"
      ],
      "metadata": {
        "id": "URC8EdkOKOR6"
      },
      "execution_count": 30,
      "outputs": []
    },
    {
      "cell_type": "code",
      "source": [
        "learning_rate = 0.001 \n",
        "\n",
        "def train(category_tensor, line_tensor):\n",
        "    hidden = rnn.initHidden()\n",
        "\n",
        "    rnn.zero_grad()\n",
        "\n",
        "    for i in range(line_tensor.size()[0]):\n",
        "        output, hidden = rnn(line_tensor[i], hidden)\n",
        "\n",
        "    loss = criterion(output, category_tensor)\n",
        "    loss.backward()\n",
        "\n",
        "    # Add parameters' gradients to their values, multiplied by learning rate\n",
        "    for p in rnn.parameters():\n",
        "        p.data.add_(p.grad.data, alpha=-learning_rate)\n",
        "\n",
        "    return output, loss.item()"
      ],
      "metadata": {
        "id": "XU-03ha3Ko3H"
      },
      "execution_count": 41,
      "outputs": []
    },
    {
      "cell_type": "code",
      "source": [],
      "metadata": {
        "id": "4Po8qDGOLNsH"
      },
      "execution_count": 41,
      "outputs": []
    },
    {
      "cell_type": "markdown",
      "source": [
        "training"
      ],
      "metadata": {
        "id": "KlcxmtpYL8mo"
      }
    },
    {
      "cell_type": "code",
      "source": [
        "epochs=8\n",
        "for e in range(epochs):\n",
        "  for i in range(80000):\n",
        "      output, loss = train(y_tensor[i], X_train[i])\n",
        "  print(loss)\n"
      ],
      "metadata": {
        "colab": {
          "base_uri": "https://localhost:8080/"
        },
        "id": "4u8KgLpaL95q",
        "outputId": "ed8ea727-f5c3-4b8d-9cb8-fe33db5cd9a2"
      },
      "execution_count": 58,
      "outputs": [
        {
          "output_type": "stream",
          "name": "stdout",
          "text": [
            "1.6044834852218628\n",
            "1.6049904823303223\n",
            "1.6604976654052734\n",
            "1.730271577835083\n",
            "1.6326987743377686\n",
            "1.642892599105835\n",
            "1.6316699981689453\n",
            "1.6272491216659546\n"
          ]
        }
      ]
    },
    {
      "cell_type": "code",
      "source": [],
      "metadata": {
        "id": "W4XYD7IiRTwY"
      },
      "execution_count": 58,
      "outputs": []
    },
    {
      "cell_type": "markdown",
      "source": [
        "predictions\n"
      ],
      "metadata": {
        "id": "Ba5XvePpZHaO"
      }
    },
    {
      "cell_type": "code",
      "source": [
        "def evaluate(line_tensor):\n",
        "    hidden = rnn.initHidden()\n",
        "\n",
        "    for i in range(line_tensor.size()[0]):\n",
        "        output, hidden = rnn(line_tensor[i], hidden)\n",
        "\n",
        "    return output\n"
      ],
      "metadata": {
        "id": "JflK_mjbZJEp"
      },
      "execution_count": 59,
      "outputs": []
    },
    {
      "cell_type": "code",
      "source": [
        "def predict(input):\n",
        "    with torch.no_grad():\n",
        "        output = evaluate(input)\n",
        "    return output"
      ],
      "metadata": {
        "id": "V1wYwf11ZYuV"
      },
      "execution_count": 60,
      "outputs": []
    },
    {
      "cell_type": "code",
      "source": [
        "pred=[]\n",
        "for i in range(20000):\n",
        "  out = predict(X_test[i])\n",
        "  top_n, top_i = torch.topk(out, 1)\n",
        "  pred.append(top_i[0].item()+1)"
      ],
      "metadata": {
        "id": "1qOfFlbiaBN4"
      },
      "execution_count": 61,
      "outputs": []
    },
    {
      "cell_type": "code",
      "source": [
        "#pred"
      ],
      "metadata": {
        "id": "TTjgvZIwa-eI"
      },
      "execution_count": 62,
      "outputs": []
    },
    {
      "cell_type": "code",
      "source": [
        "from sklearn.metrics import f1_score, recall_score, classification_report, precision_score\n",
        "from sklearn.metrics import precision_recall_fscore_support\n",
        "from sklearn.metrics import accuracy_score"
      ],
      "metadata": {
        "id": "4LhVHqIabdJj"
      },
      "execution_count": 63,
      "outputs": []
    },
    {
      "cell_type": "code",
      "source": [
        "print(classification_report(y_test,pred))"
      ],
      "metadata": {
        "colab": {
          "base_uri": "https://localhost:8080/"
        },
        "id": "y4bRvGkJbuCE",
        "outputId": "990943d3-91d5-446b-c8d4-20b39f383dad"
      },
      "execution_count": 64,
      "outputs": [
        {
          "output_type": "stream",
          "name": "stdout",
          "text": [
            "              precision    recall  f1-score   support\n",
            "\n",
            "           1       0.43      0.75      0.54      3957\n",
            "           2       0.29      0.11      0.16      4038\n",
            "           3       0.34      0.43      0.38      4063\n",
            "           4       0.39      0.30      0.34      3996\n",
            "           5       0.62      0.53      0.58      3946\n",
            "\n",
            "    accuracy                           0.42     20000\n",
            "   macro avg       0.41      0.42      0.40     20000\n",
            "weighted avg       0.41      0.42      0.40     20000\n",
            "\n"
          ]
        }
      ]
    },
    {
      "cell_type": "code",
      "source": [
        "print(accuracy_score(y_test, pred))"
      ],
      "metadata": {
        "id": "SrSW6wt8b2aK",
        "colab": {
          "base_uri": "https://localhost:8080/"
        },
        "outputId": "356b2df6-a8fa-456b-ad6d-5c8af2de4f76"
      },
      "execution_count": 65,
      "outputs": [
        {
          "output_type": "stream",
          "name": "stdout",
          "text": [
            "0.422\n"
          ]
        }
      ]
    },
    {
      "cell_type": "markdown",
      "source": [
        "**CONCLUSION**"
      ],
      "metadata": {
        "id": "arc5CBPZyNWS"
      }
    },
    {
      "cell_type": "markdown",
      "source": [
        "Comparing RNN to FNN we see that RNN is giving an accuracy of around 43% which lies within the range of accuracy given by FNN for averaged and concatenated datasets. Thus, we can say that RNN does not perform better than FNN in this case. This may be due to the fact that our dataset is very simple, that is, reviews having negative words are low rated and reviews having positive words are highly rated. The reviews having negative words with high ratings and reviews with positive words having low ratings may be very less in our dataset. So, not much use of memory of RNNs as long term dependencies do not come into play much. "
      ],
      "metadata": {
        "id": "8kMx3v7YyQ3b"
      }
    },
    {
      "cell_type": "markdown",
      "source": [
        "# 5 (b)"
      ],
      "metadata": {
        "id": "7KlwDiHa-yLj"
      }
    },
    {
      "cell_type": "code",
      "source": [
        "import torch.nn as nn\n",
        "\n",
        "class GRU2(nn.Module):\n",
        "    def __init__(self, input_size, hidden_size, output_size):\n",
        "        super(GRU2, self).__init__()\n",
        "\n",
        "        self.hidden_size = hidden_size\n",
        "\n",
        "        #self.gru = nn.GRU(input_size, hidden_size)\n",
        "        self.i2h = nn.GRU(input_size, hidden_size)\n",
        "        #self.i2h = nn.GRU(input_size + hidden_size, hidden_size)\n",
        "        self.i2o = nn.Linear(hidden_size, output_size)\n",
        "        self.softmax = nn.LogSoftmax(dim=1)\n",
        "        #self.fc = nn.Linear(hidden_size, output_size)\n",
        "\n",
        "    def forward(self, input):\n",
        "        #combined = torch.cat((input,hidden), 1)\n",
        "        #combined = reduce(lambda x,y: torch.cat((x,y)), list_tensor[:-1])\n",
        "        #hidden = self.initHidden()\n",
        "        output, hidden = self.i2h(input)\n",
        "        output = self.i2o(output)\n",
        "        output = self.softmax(output)\n",
        "        return output, hidden             \n",
        "\n",
        "    def initHidden(self):\n",
        "        return torch.zeros(1, self.hidden_size).to(device)\n",
        "\n",
        "    # def forward(self, x):\n",
        "    #     h0 = torch.zeros(x.size(0), self.hidden_size)\n",
        "        \n",
        "    #     out,_ = self.gru(x, h0)\n",
        "    #     out = out.reshape(out.shape[0], -1)\n",
        "    #     out = self.fc(out)\n",
        "    #     return out\n",
        "\n",
        "\n",
        "\n",
        "n_hidden = 20\n",
        "gru = GRU2(300, n_hidden, 5).to(device)"
      ],
      "metadata": {
        "id": "PRrI5Llv_Uks"
      },
      "execution_count": 32,
      "outputs": []
    },
    {
      "cell_type": "code",
      "source": [
        "print(device)"
      ],
      "metadata": {
        "colab": {
          "base_uri": "https://localhost:8080/"
        },
        "id": "i8aPHHJ3HhpP",
        "outputId": "fd92441d-0483-4306-c7dd-5d652969aa92"
      },
      "execution_count": 67,
      "outputs": [
        {
          "output_type": "stream",
          "name": "stdout",
          "text": [
            "cpu\n"
          ]
        }
      ]
    },
    {
      "cell_type": "code",
      "source": [],
      "metadata": {
        "id": "h3TJC9shZ94q"
      },
      "execution_count": 98,
      "outputs": []
    },
    {
      "cell_type": "code",
      "source": [
        "X_rnn[0].shape"
      ],
      "metadata": {
        "colab": {
          "base_uri": "https://localhost:8080/"
        },
        "id": "vca9sX_OHbza",
        "outputId": "aff7dacc-9d14-49a2-a010-3022b71c3556"
      },
      "execution_count": null,
      "outputs": [
        {
          "output_type": "execute_result",
          "data": {
            "text/plain": [
              "torch.Size([20, 1, 300])"
            ]
          },
          "metadata": {},
          "execution_count": 36
        }
      ]
    },
    {
      "cell_type": "markdown",
      "source": [
        "testing on a single input"
      ],
      "metadata": {
        "id": "lsBUeTBsAQ2j"
      }
    },
    {
      "cell_type": "code",
      "source": [
        "input = X_rnn[70000][0].to(device)\n",
        "hidden = torch.zeros(1, 20).to(device)\n",
        "\n",
        "\n",
        "#output, next_hidden = gru(input, hidden)\n",
        "output, next_hidden = gru(input)"
      ],
      "metadata": {
        "id": "RetR25glA5ap"
      },
      "execution_count": 33,
      "outputs": []
    },
    {
      "cell_type": "code",
      "source": [
        "input.shape"
      ],
      "metadata": {
        "colab": {
          "base_uri": "https://localhost:8080/"
        },
        "id": "QyVMABNPQHXQ",
        "outputId": "ebf4fd9d-5461-4dc5-e904-273a39ccb1c9"
      },
      "execution_count": 94,
      "outputs": [
        {
          "output_type": "execute_result",
          "data": {
            "text/plain": [
              "torch.Size([1, 300])"
            ]
          },
          "metadata": {},
          "execution_count": 94
        }
      ]
    },
    {
      "cell_type": "code",
      "source": [
        "type(output)"
      ],
      "metadata": {
        "colab": {
          "base_uri": "https://localhost:8080/"
        },
        "id": "Sa2cspsw2Qu0",
        "outputId": "cbc943ef-d5f0-4b55-f630-80c49ff719cf"
      },
      "execution_count": 95,
      "outputs": [
        {
          "output_type": "execute_result",
          "data": {
            "text/plain": [
              "torch.Tensor"
            ]
          },
          "metadata": {},
          "execution_count": 95
        }
      ]
    },
    {
      "cell_type": "code",
      "source": [
        "output"
      ],
      "metadata": {
        "colab": {
          "base_uri": "https://localhost:8080/"
        },
        "id": "U1MG1WPiXRhj",
        "outputId": "97bba6f8-31c5-4b3b-ad8f-8411f2186337"
      },
      "execution_count": 96,
      "outputs": [
        {
          "output_type": "execute_result",
          "data": {
            "text/plain": [
              "tensor([[-1.5371, -1.5556, -1.6692, -1.6139, -1.6796]],\n",
              "       grad_fn=<LogSoftmaxBackward0>)"
            ]
          },
          "metadata": {},
          "execution_count": 96
        }
      ]
    },
    {
      "cell_type": "code",
      "source": [
        "output.size()"
      ],
      "metadata": {
        "colab": {
          "base_uri": "https://localhost:8080/"
        },
        "id": "TUIgY1QWU6vv",
        "outputId": "26348ba4-cdc2-41cd-a283-acae3e38edb1"
      },
      "execution_count": 97,
      "outputs": [
        {
          "output_type": "execute_result",
          "data": {
            "text/plain": [
              "torch.Size([1, 5])"
            ]
          },
          "metadata": {},
          "execution_count": 97
        }
      ]
    },
    {
      "cell_type": "code",
      "source": [
        "output.shape[0]"
      ],
      "metadata": {
        "colab": {
          "base_uri": "https://localhost:8080/"
        },
        "id": "DU_SMq4iu7xw",
        "outputId": "8e62b8a2-ec9e-4c63-ecfb-ecb4a278bbfb"
      },
      "execution_count": 98,
      "outputs": [
        {
          "output_type": "execute_result",
          "data": {
            "text/plain": [
              "1"
            ]
          },
          "metadata": {},
          "execution_count": 98
        }
      ]
    },
    {
      "cell_type": "code",
      "source": [
        "#output.reshape(output.shape[1], -1)"
      ],
      "metadata": {
        "id": "rW4PrwAEuzyX"
      },
      "execution_count": 99,
      "outputs": []
    },
    {
      "cell_type": "code",
      "source": [
        "type(next_hidden)"
      ],
      "metadata": {
        "colab": {
          "base_uri": "https://localhost:8080/"
        },
        "id": "SUZRUpxb2TXX",
        "outputId": "b1758dc6-3968-4439-e7f8-ac9436d0e7f1"
      },
      "execution_count": 100,
      "outputs": [
        {
          "output_type": "execute_result",
          "data": {
            "text/plain": [
              "torch.Tensor"
            ]
          },
          "metadata": {},
          "execution_count": 100
        }
      ]
    },
    {
      "cell_type": "code",
      "source": [
        "hidden"
      ],
      "metadata": {
        "colab": {
          "base_uri": "https://localhost:8080/"
        },
        "id": "No84GkvA2tIM",
        "outputId": "6bc7db3f-3984-4874-de52-ec373012f332"
      },
      "execution_count": 101,
      "outputs": [
        {
          "output_type": "execute_result",
          "data": {
            "text/plain": [
              "tensor([[0., 0., 0., 0., 0., 0., 0., 0., 0., 0., 0., 0., 0., 0., 0., 0., 0., 0., 0., 0.]])"
            ]
          },
          "metadata": {},
          "execution_count": 101
        }
      ]
    },
    {
      "cell_type": "code",
      "source": [
        "next_hidden"
      ],
      "metadata": {
        "colab": {
          "base_uri": "https://localhost:8080/"
        },
        "id": "S3TIexuf2X-Z",
        "outputId": "ee3f8ae6-ed67-41f0-a0da-002ef894e8cf"
      },
      "execution_count": 102,
      "outputs": [
        {
          "output_type": "execute_result",
          "data": {
            "text/plain": [
              "tensor([[-0.1024, -0.0620,  0.0651, -0.0901,  0.1541,  0.3548,  0.2269,  0.2714,\n",
              "         -0.1405,  0.2131,  0.0745,  0.0784, -0.1761,  0.0017, -0.3040, -0.2906,\n",
              "          0.3127,  0.0436, -0.1989,  0.1522]], grad_fn=<SqueezeBackward1>)"
            ]
          },
          "metadata": {},
          "execution_count": 102
        }
      ]
    },
    {
      "cell_type": "code",
      "source": [
        "o2, h2 = gru(X_rnn[70001][0])"
      ],
      "metadata": {
        "id": "kpWnww9H597V"
      },
      "execution_count": 34,
      "outputs": []
    },
    {
      "cell_type": "code",
      "source": [
        "h2"
      ],
      "metadata": {
        "colab": {
          "base_uri": "https://localhost:8080/"
        },
        "id": "uPORqSCR6LDj",
        "outputId": "4e9e56ef-ea77-4bb4-e8d1-2e9dfa5d8acb"
      },
      "execution_count": 105,
      "outputs": [
        {
          "output_type": "execute_result",
          "data": {
            "text/plain": [
              "tensor([[-0.0179, -0.1378, -0.0002,  0.0898, -0.0494,  0.0860,  0.1210,  0.0348,\n",
              "         -0.0361,  0.0052, -0.1434,  0.0590,  0.0380,  0.1283,  0.0090, -0.0451,\n",
              "          0.0064,  0.1396,  0.1589,  0.0355]], grad_fn=<SqueezeBackward1>)"
            ]
          },
          "metadata": {},
          "execution_count": 105
        }
      ]
    },
    {
      "cell_type": "code",
      "source": [
        "#defining loss function\n",
        "criterion = nn.NLLLoss()"
      ],
      "metadata": {
        "id": "gmDCwW9CA8ge"
      },
      "execution_count": 106,
      "outputs": []
    },
    {
      "cell_type": "code",
      "source": [
        "learning_rate = 0.002\n",
        "\n",
        "def traingru(category_tensor, line_tensor):\n",
        "    hidden = gru.initHidden()\n",
        "    #hidden = torch.zeros(1, 20)\n",
        "\n",
        "    gru.zero_grad()\n",
        "\n",
        "    for i in range(line_tensor.size()[0]):\n",
        "        #output, hidden = gru(line_tensor[i], hidden)\n",
        "        output, hidden = gru(line_tensor[i])\n",
        "\n",
        "    loss = criterion(output, category_tensor)\n",
        "    loss.backward()\n",
        "\n",
        "    # Add parameters' gradients to their values, multiplied by learning rate\n",
        "    for p in gru.parameters():\n",
        "        p.data.add_(p.grad.data, alpha=-learning_rate)\n",
        "\n",
        "    return output, loss.item()"
      ],
      "metadata": {
        "id": "3qRkZjNCBpWz"
      },
      "execution_count": 107,
      "outputs": []
    },
    {
      "cell_type": "code",
      "source": [
        "epochs=5\n",
        "for e in range(epochs):\n",
        "  for i in range(80000):\n",
        "      #try:\n",
        "        output, loss = traingru(y_tensor[i], X_train[i])\n",
        "      #except:\n",
        "      #  print(i)\n",
        "  print(loss)\n"
      ],
      "metadata": {
        "colab": {
          "base_uri": "https://localhost:8080/"
        },
        "id": "zDkPiLgjB6lw",
        "outputId": "38c9d256-3704-4fe3-f78a-73d6ca2b66a5"
      },
      "execution_count": 108,
      "outputs": [
        {
          "output_type": "stream",
          "name": "stdout",
          "text": [
            "1.5669699907302856\n",
            "1.5284433364868164\n",
            "1.5298733711242676\n",
            "1.5444746017456055\n",
            "1.5598870515823364\n"
          ]
        }
      ]
    },
    {
      "cell_type": "code",
      "source": [
        "def evaluate(line_tensor):\n",
        "    hidden = gru.initHidden()\n",
        "    #hidden = torch.zeros(1, 20)\n",
        "\n",
        "    for i in range(line_tensor.size()[0]):\n",
        "        #output, hidden = gru(line_tensor[i], hidden)\n",
        "        output, hidden = gru(line_tensor[i])\n",
        "    return output\n"
      ],
      "metadata": {
        "id": "W6GlzQd_C4-7"
      },
      "execution_count": 109,
      "outputs": []
    },
    {
      "cell_type": "code",
      "source": [
        "def predict(input):\n",
        "    with torch.no_grad():\n",
        "        output = evaluate(input)\n",
        "    return output"
      ],
      "metadata": {
        "id": "OwpP6tjpC8Rr"
      },
      "execution_count": 110,
      "outputs": []
    },
    {
      "cell_type": "code",
      "source": [
        "pred=[]\n",
        "for i in range(20000):\n",
        "  \n",
        "  out = predict(X_test[i])\n",
        "  \n",
        "  top_n, top_i = torch.topk(out, 1)\n",
        "  pred.append(top_i[0].item()+1)"
      ],
      "metadata": {
        "id": "4HRr00zQC_-g"
      },
      "execution_count": 111,
      "outputs": []
    },
    {
      "cell_type": "code",
      "source": [
        "from sklearn.metrics import f1_score, recall_score, classification_report, precision_score\n",
        "from sklearn.metrics import precision_recall_fscore_support\n",
        "from sklearn.metrics import accuracy_score"
      ],
      "metadata": {
        "id": "2zgML0cNDAbU"
      },
      "execution_count": 30,
      "outputs": []
    },
    {
      "cell_type": "code",
      "source": [
        "print(classification_report(y_test,pred))"
      ],
      "metadata": {
        "colab": {
          "base_uri": "https://localhost:8080/"
        },
        "id": "WZyGzTs-DCj7",
        "outputId": "cf3cf3a6-898c-4048-ab45-da46cdfbbae1"
      },
      "execution_count": 113,
      "outputs": [
        {
          "output_type": "stream",
          "name": "stdout",
          "text": [
            "              precision    recall  f1-score   support\n",
            "\n",
            "           1       0.26      0.19      0.22      3957\n",
            "           2       0.24      0.14      0.18      4038\n",
            "           3       0.23      0.25      0.24      4063\n",
            "           4       0.25      0.07      0.11      3996\n",
            "           5       0.24      0.56      0.33      3946\n",
            "\n",
            "    accuracy                           0.24     20000\n",
            "   macro avg       0.24      0.24      0.22     20000\n",
            "weighted avg       0.24      0.24      0.22     20000\n",
            "\n"
          ]
        }
      ]
    },
    {
      "cell_type": "code",
      "source": [
        "print(accuracy_score(y_test, pred))"
      ],
      "metadata": {
        "id": "MJGvZarlLmoq",
        "colab": {
          "base_uri": "https://localhost:8080/"
        },
        "outputId": "4159cc91-131e-4d8f-e10e-722f5d3988fe"
      },
      "execution_count": 114,
      "outputs": [
        {
          "output_type": "stream",
          "name": "stdout",
          "text": [
            "0.2407\n"
          ]
        }
      ]
    },
    {
      "cell_type": "markdown",
      "source": [
        "**CONCLUSION**"
      ],
      "metadata": {
        "id": "Gr-mxr7528uH"
      }
    },
    {
      "cell_type": "markdown",
      "source": [
        "GRU does not seem to do any better than RNN. It may due to the fact that our dataset is very simple and hence long range dependencies do not come into play. So, reviews with negative words are low rated and reviews with positive words are high rated. The number of reviews having positive words with low rating or reviews with negative words having high rating seem to be very small. Also, I trained the GRU and RNN for very few epochs. Training them for more epochs could increase their accuracy."
      ],
      "metadata": {
        "id": "i57BU5RP2-bZ"
      }
    },
    {
      "cell_type": "markdown",
      "source": [
        "# Testing a variation of GRU where input + hidden vectors are fed as input to the GRU "
      ],
      "metadata": {
        "id": "1HyVGRat3qqC"
      }
    },
    {
      "cell_type": "code",
      "source": [
        "import torch.nn as nn\n",
        "\n",
        "class GRU2(nn.Module):\n",
        "    def __init__(self, input_size, hidden_size, output_size):\n",
        "        super(GRU2, self).__init__()\n",
        "\n",
        "        self.hidden_size = hidden_size\n",
        "\n",
        "        #self.gru = nn.GRU(input_size, hidden_size)\n",
        "        #self.i2h = nn.GRU(input_size, hidden_size)\n",
        "        self.i2h = nn.GRU(input_size + hidden_size, hidden_size)\n",
        "        self.i2o = nn.Linear(hidden_size * 2, output_size)\n",
        "        self.softmax = nn.LogSoftmax(dim=1)\n",
        "        #self.fc = nn.Linear(hidden_size, output_size)\n",
        "\n",
        "    def forward(self, input, hidden):\n",
        "        combined = torch.cat((input,hidden), 1)\n",
        "        #combined = reduce(lambda x,y: torch.cat((x,y)), list_tensor[:-1])\n",
        "        #hidden = self.initHidden()\n",
        "        output, hidden = self.i2h(combined)\n",
        "        combined = torch.cat((output,hidden), 1)\n",
        "        output = self.i2o(combined)\n",
        "        output = self.softmax(output)\n",
        "        return output, hidden             \n",
        "\n",
        "    def initHidden(self):\n",
        "        return torch.zeros(1, self.hidden_size).to(device)\n",
        "\n",
        "    # def forward(self, x):\n",
        "    #     h0 = torch.zeros(x.size(0), self.hidden_size)\n",
        "        \n",
        "    #     out,_ = self.gru(x, h0)\n",
        "    #     out = out.reshape(out.shape[0], -1)\n",
        "    #     out = self.fc(out)\n",
        "    #     return out\n",
        "\n",
        "\n",
        "\n",
        "n_hidden = 20\n",
        "gru = GRU2(300, n_hidden, 5).to(device)"
      ],
      "metadata": {
        "id": "JDmfm6xs31C7"
      },
      "execution_count": 21,
      "outputs": []
    },
    {
      "cell_type": "code",
      "source": [
        "#defining loss function\n",
        "criterion = nn.NLLLoss()"
      ],
      "metadata": {
        "id": "pr_WrxHr4-qz"
      },
      "execution_count": 22,
      "outputs": []
    },
    {
      "cell_type": "code",
      "source": [
        "learning_rate = 0.002\n",
        "\n",
        "def traingru(category_tensor, line_tensor):\n",
        "    hidden = gru.initHidden()\n",
        "    #hidden = torch.zeros(1, 20)\n",
        "\n",
        "    gru.zero_grad()\n",
        "\n",
        "    for i in range(line_tensor.size()[0]):\n",
        "        output, hidden = gru(line_tensor[i], hidden)\n",
        "        #output, hidden = gru(line_tensor[i])\n",
        "\n",
        "    loss = criterion(output, category_tensor)\n",
        "    loss.backward()\n",
        "\n",
        "    # Add parameters' gradients to their values, multiplied by learning rate\n",
        "    for p in gru.parameters():\n",
        "        p.data.add_(p.grad.data, alpha=-learning_rate)\n",
        "\n",
        "    return output, loss.item()"
      ],
      "metadata": {
        "id": "oQJpHtUS4_K4"
      },
      "execution_count": 23,
      "outputs": []
    },
    {
      "cell_type": "code",
      "source": [
        "epochs=2\n",
        "for e in range(epochs):\n",
        "  for i in range(80000):\n",
        "      #try:\n",
        "        output, loss = traingru(y_tensor[i], X_train[i])\n",
        "      #except:\n",
        "      #  print(i)\n",
        "  print(loss)\n"
      ],
      "metadata": {
        "colab": {
          "base_uri": "https://localhost:8080/"
        },
        "id": "29Ynj8cH5DW4",
        "outputId": "cda92059-3a8a-4bc1-c254-322fbfef8379"
      },
      "execution_count": 24,
      "outputs": [
        {
          "output_type": "stream",
          "name": "stdout",
          "text": [
            "1.5117350816726685\n",
            "1.5787842273712158\n"
          ]
        }
      ]
    },
    {
      "cell_type": "code",
      "source": [
        "def evaluate(line_tensor):\n",
        "    hidden = gru.initHidden()\n",
        "    #hidden = torch.zeros(1, 20)\n",
        "\n",
        "    for i in range(line_tensor.size()[0]):\n",
        "        output, hidden = gru(line_tensor[i], hidden)\n",
        "        #output, hidden = gru(line_tensor[i])\n",
        "    return output\n"
      ],
      "metadata": {
        "id": "Ow0nw0Cb5GD5"
      },
      "execution_count": 25,
      "outputs": []
    },
    {
      "cell_type": "code",
      "source": [
        "def predict(input):\n",
        "    with torch.no_grad():\n",
        "        output = evaluate(input)\n",
        "    return output"
      ],
      "metadata": {
        "id": "DhmzppfV5PlG"
      },
      "execution_count": 26,
      "outputs": []
    },
    {
      "cell_type": "code",
      "source": [
        "pred=[]\n",
        "for i in range(20000):\n",
        "  \n",
        "  out = predict(X_test[i])\n",
        "  \n",
        "  top_n, top_i = torch.topk(out, 1)\n",
        "  pred.append(top_i[0].item()+1)"
      ],
      "metadata": {
        "id": "qITPLT7s5QFM"
      },
      "execution_count": 27,
      "outputs": []
    },
    {
      "cell_type": "code",
      "source": [
        "print(classification_report(y_test,pred))"
      ],
      "metadata": {
        "colab": {
          "base_uri": "https://localhost:8080/"
        },
        "id": "o4CmZ5nO5Sib",
        "outputId": "060f1fc3-3532-4d8b-ce66-4224d6e0bf45"
      },
      "execution_count": 31,
      "outputs": [
        {
          "output_type": "stream",
          "name": "stdout",
          "text": [
            "              precision    recall  f1-score   support\n",
            "\n",
            "           1       0.27      0.20      0.23      4019\n",
            "           2       0.32      0.01      0.01      4034\n",
            "           3       0.23      0.32      0.27      4020\n",
            "           4       0.23      0.18      0.20      3927\n",
            "           5       0.26      0.55      0.36      4000\n",
            "\n",
            "    accuracy                           0.25     20000\n",
            "   macro avg       0.26      0.25      0.21     20000\n",
            "weighted avg       0.26      0.25      0.21     20000\n",
            "\n"
          ]
        }
      ]
    },
    {
      "cell_type": "markdown",
      "source": [
        "INSIGHT - The variation on GRU gives similar accuracy as the general GRU."
      ],
      "metadata": {
        "id": "o18f8dYf9ywz"
      }
    },
    {
      "cell_type": "markdown",
      "source": [
        "# Generating requirements file"
      ],
      "metadata": {
        "id": "1rFPrUsxNuUP"
      }
    },
    {
      "cell_type": "code",
      "source": [
        "#uncomment the line below to generate a requirements file\n",
        "\n",
        "#!pip freeze > requirements.txt"
      ],
      "metadata": {
        "id": "P2-Q2MRANt2e"
      },
      "execution_count": 128,
      "outputs": []
    },
    {
      "cell_type": "code",
      "source": [],
      "metadata": {
        "id": "qE0dn2vqPCrv"
      },
      "execution_count": null,
      "outputs": []
    }
  ],
  "metadata": {
    "colab": {
      "collapsed_sections": [],
      "provenance": []
    },
    "kernelspec": {
      "display_name": "Python 3",
      "name": "python3"
    },
    "language_info": {
      "name": "python"
    },
    "accelerator": "GPU"
  },
  "nbformat": 4,
  "nbformat_minor": 0
}